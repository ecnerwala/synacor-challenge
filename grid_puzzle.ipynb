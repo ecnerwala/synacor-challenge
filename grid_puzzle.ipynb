{
 "cells": [
  {
   "cell_type": "markdown",
   "metadata": {},
   "source": [
    "Solve the grid puzzle"
   ]
  },
  {
   "cell_type": "code",
   "execution_count": 1,
   "metadata": {
    "collapsed": true
   },
   "outputs": [],
   "source": [
    "g = [\n",
    "    [ '*', 8, '-', 1],\n",
    "    [4, '*', 11, '*'],\n",
    "    ['+', 4, '-', 18],\n",
    "    [22, '-', 9, '*'],\n",
    "]"
   ]
  },
  {
   "cell_type": "code",
   "execution_count": 2,
   "metadata": {},
   "outputs": [
    {
     "data": {
      "text/plain": [
       "[['*', 8, '-', 1], [4, '*', 11, '*'], ['+', 4, '-', 18], [22, '-', 9, '*']]"
      ]
     },
     "execution_count": 2,
     "metadata": {},
     "output_type": "execute_result"
    }
   ],
   "source": [
    "g"
   ]
  },
  {
   "cell_type": "code",
   "execution_count": 19,
   "metadata": {},
   "outputs": [],
   "source": [
    "ops = {\n",
    "    '+': (lambda a,b: a+b),\n",
    "    '-': (lambda a,b: a-b),\n",
    "    '*': (lambda a,b: a*b),\n",
    "}\n",
    "def go():\n",
    "    start = ((3,0), 22)\n",
    "    end = ((0,3), 30)\n",
    "    dist = {start: 0}\n",
    "    prv = {start: None}\n",
    "    q = [start]\n",
    "    def moves(x,y):\n",
    "        return [(a,b) for a,b in [(x-1,y), (x,y-1), (x+1,y), (x,y+1)] if 0 <= a < 4 and 0 <= b < 4]\n",
    "    for s in q:\n",
    "        if s == end:\n",
    "            break\n",
    "        (x,y), v = s\n",
    "        for x1, y1 in moves(x,y):\n",
    "            for x2, y2 in moves(x1,y1):\n",
    "                if (x2,y2) == (3,0): continue\n",
    "                op = ops[g[x1][y1]]\n",
    "                nv = op(v, g[x2][y2])\n",
    "                if nv <= 0: continue\n",
    "                ns = ((x2,y2), nv)\n",
    "                if (x2,y2) == (0,3) and ns != end: continue\n",
    "                if ns in prv: continue\n",
    "                dist[ns] = dist[s] + 1\n",
    "                prv[ns] = s\n",
    "                q.append(ns)\n",
    "    res = []\n",
    "    cur = end\n",
    "    while cur is not None:\n",
    "        res.append(cur)\n",
    "        cur = prv[cur]\n",
    "    return res[::-1]"
   ]
  },
  {
   "cell_type": "code",
   "execution_count": 20,
   "metadata": {},
   "outputs": [
    {
     "data": {
      "text/plain": [
       "[((3, 0), 22),\n",
       " ((2, 1), 26),\n",
       " ((1, 2), 15),\n",
       " ((2, 1), 60),\n",
       " ((2, 3), 42),\n",
       " ((1, 2), 31),\n",
       " ((0, 3), 30)]"
      ]
     },
     "execution_count": 20,
     "metadata": {},
     "output_type": "execute_result"
    }
   ],
   "source": [
    "go()"
   ]
  },
  {
   "cell_type": "markdown",
   "metadata": {},
   "source": [
    "Final path is NE EN WS EE WN NE"
   ]
  }
 ],
 "metadata": {
  "kernelspec": {
   "display_name": "Python 3",
   "language": "python",
   "name": "python3"
  },
  "language_info": {
   "codemirror_mode": {
    "name": "ipython",
    "version": 3
   },
   "file_extension": ".py",
   "mimetype": "text/x-python",
   "name": "python",
   "nbconvert_exporter": "python",
   "pygments_lexer": "ipython3",
   "version": "3.6.3"
  }
 },
 "nbformat": 4,
 "nbformat_minor": 2
}
