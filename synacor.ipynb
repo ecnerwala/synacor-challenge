{
 "cells": [
  {
   "cell_type": "code",
   "execution_count": 101,
   "metadata": {},
   "outputs": [],
   "source": [
    "%load_ext autoreload\n",
    "%autoreload 1\n",
    "%aimport computer"
   ]
  },
  {
   "cell_type": "code",
   "execution_count": 106,
   "metadata": {},
   "outputs": [
    {
     "name": "stdout",
     "output_type": "stream",
     "text": [
      "Welcome to the Synacor Challenge!\n",
      "Please record your progress by putting codes like\n",
      "this one into the challenge website: omOdvXeQsntd\n",
      "\n",
      "Executing self-test...\n",
      "\n",
      "self-test complete, all tests pass\n",
      "The self-test completion code is: MKwBjhCceLVr\n",
      "\n",
      "== Foothills ==\n",
      "You find yourself standing at the base of an enormous mountain.  At its base to the north, there is a massive doorway.  A sign nearby reads \"Keep out!  Definitely no treasure within!\"\n",
      "\n",
      "Things of in"
     ]
    }
   ],
   "source": [
    "c = computer.Computer()\n",
    "c.load('challenge.bin')\n",
    "c.run(700000)"
   ]
  },
  {
   "cell_type": "code",
   "execution_count": 103,
   "metadata": {},
   "outputs": [],
   "source": [
    "c.step()"
   ]
  }
 ],
 "metadata": {
  "kernelspec": {
   "display_name": "Python 3",
   "language": "python",
   "name": "python3"
  },
  "language_info": {
   "codemirror_mode": {
    "name": "ipython",
    "version": 3
   },
   "file_extension": ".py",
   "mimetype": "text/x-python",
   "name": "python",
   "nbconvert_exporter": "python",
   "pygments_lexer": "ipython3",
   "version": "3.6.3"
  }
 },
 "nbformat": 4,
 "nbformat_minor": 2
}
