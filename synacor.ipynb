{
 "cells": [
  {
   "cell_type": "code",
   "execution_count": null,
   "metadata": {},
   "outputs": [],
   "source": [
    "%load_ext autoreload\n",
    "%autoreload 1\n",
    "%aimport computer"
   ]
  },
  {
   "cell_type": "code",
   "execution_count": 109,
   "metadata": {},
   "outputs": [
    {
     "name": "stdout",
     "output_type": "stream",
     "text": [
      "Welcome to the Synacor Challenge!\n",
      "Please record your progress by putting codes like\n",
      "this one into the challenge website: omOdvXeQsntd\n",
      "\n",
      "Executing self-test...\n",
      "\n",
      "self-test complete, all tests pass\n",
      "The self-test completion code is: MKwBjhCceLVr\n",
      "\n",
      "== Foothills ==\n",
      "You find yourself standing at the base of an enormous mountain.  At its base to the north, there is a massive doorway.  A sign nearby reads \"Keep out!  Definitely no treasure within!\"\n",
      "\n",
      "Things of in"
     ]
    }
   ],
   "source": [
    "c = computer.Computer()\n",
    "c.load('challenge.bin')\n",
    "c.run(700000)"
   ]
  },
  {
   "cell_type": "code",
   "execution_count": 115,
   "metadata": {
    "scrolled": false
   },
   "outputs": [
    {
     "name": "stdout",
     "output_type": "stream",
     "text": [
      "Welcome to the Synacor Challenge!\n",
      "Please record your progress by putting codes like\n",
      "this one into the challenge website: omOdvXeQsntd\n",
      "\n",
      "Executing self-test...\n",
      "\n",
      "self-test complete, all tests pass\n",
      "The self-test completion code is: MKwBjhCceLVr\n",
      "\n",
      "== Foothills ==\n",
      "You find yourself standing at the base of an enormous mountain.  At its base to the north, there is a massive doorway.  A sign nearby reads \"Keep out!  Definitely no treasure within!\"\n",
      "\n",
      "Things of interest here:\n",
      "- tablet\n",
      "\n",
      "There are 2 exits:\n",
      "- doorway\n",
      "- south\n",
      "\n",
      "What do you do?\n",
      "take tablet\n"
     ]
    },
    {
     "name": "stderr",
     "output_type": "stream",
     "text": [
      ">>> take tablet\n"
     ]
    },
    {
     "name": "stdout",
     "output_type": "stream",
     "text": [
      "\n",
      "\n",
      "Taken.\n",
      "\n",
      "What do you do?\n",
      "south\n"
     ]
    },
    {
     "name": "stderr",
     "output_type": "stream",
     "text": [
      ">>> south\n"
     ]
    },
    {
     "name": "stdout",
     "output_type": "stream",
     "text": [
      "\n",
      "\n",
      "== Foothills ==\n",
      "As you begin to leave, you feel the urge for adventure pulling you back...\n",
      "\n",
      "There is 1 exit:\n",
      "- north\n",
      "\n",
      "What do you do?\n",
      "north\n"
     ]
    },
    {
     "name": "stderr",
     "output_type": "stream",
     "text": [
      ">>> north\n"
     ]
    },
    {
     "name": "stdout",
     "output_type": "stream",
     "text": [
      "\n",
      "\n",
      "== Foothills ==\n",
      "You find yourself standing at the base of an enormous mountain.  At its base to the north, there is a massive doorway.  A sign nearby reads \"Keep out!  Definitely no treasure within!\"\n",
      "\n",
      "There are 2 exits:\n",
      "- doorway\n",
      "- south\n",
      "\n",
      "What do you do?\n",
      "doorway\n"
     ]
    },
    {
     "name": "stderr",
     "output_type": "stream",
     "text": [
      ">>> doorway\n"
     ]
    },
    {
     "name": "stdout",
     "output_type": "stream",
     "text": [
      "\n",
      "\n",
      "== Dark cave ==\n",
      "This seems to be the mouth of a deep cave.  As you peer north into the darkness, you think you hear the echoes of bats deeper within.\n",
      "\n",
      "There are 2 exits:\n",
      "- north\n",
      "- south\n",
      "\n",
      "What do you do?\n",
      "north\n"
     ]
    },
    {
     "name": "stderr",
     "output_type": "stream",
     "text": [
      ">>> north\n"
     ]
    },
    {
     "name": "stdout",
     "output_type": "stream",
     "text": [
      "\n",
      "\n",
      "== Dark cave ==\n",
      "The cave is somewhat narrow here, and the light from the doorway to the south is quite dim.\n",
      "\n",
      "There are 2 exits:\n",
      "- north\n",
      "- south\n",
      "\n",
      "What do you do?\n",
      "north\n"
     ]
    },
    {
     "name": "stderr",
     "output_type": "stream",
     "text": [
      ">>> north\n"
     ]
    },
    {
     "name": "stdout",
     "output_type": "stream",
     "text": [
      "\n",
      "\n",
      "== Dark cave ==\n",
      "The cave acoustics dramatically change as you find yourself at a legde above a large chasm.  There is barely enough light here to notice a rope bridge leading out into the dark emptiness.\n",
      "\n",
      "There are 2 exits:\n",
      "- bridge\n",
      "- south\n",
      "\n",
      "What do you do?\n",
      "bridge\n"
     ]
    },
    {
     "name": "stderr",
     "output_type": "stream",
     "text": [
      ">>> bridge\n"
     ]
    },
    {
     "name": "stdout",
     "output_type": "stream",
     "text": [
      "\n",
      "\n",
      "== Rope bridge ==\n",
      "This rope bridge creaks as you walk along it.  You aren't sure how old it is, or whether it can even support your weight.\n",
      "\n",
      "There are 2 exits:\n",
      "- continue\n",
      "- back\n",
      "\n",
      "What do you do?\n",
      "continue\n"
     ]
    },
    {
     "name": "stderr",
     "output_type": "stream",
     "text": [
      ">>> continue\n"
     ]
    },
    {
     "name": "stdout",
     "output_type": "stream",
     "text": [
      "\n",
      "\n",
      "== Falling through the air! ==\n",
      "As you continue along the bridge, it snaps!  You try to grab the bridge, but it evades your grasp in the darkness.  You are plummeting quickly downward into the chasm...\n",
      "\n",
      "There is 1 exit:\n",
      "- down\n",
      "\n",
      "What do you do?\n",
      "down\n"
     ]
    },
    {
     "name": "stderr",
     "output_type": "stream",
     "text": [
      ">>> down\n"
     ]
    },
    {
     "name": "stdout",
     "output_type": "stream",
     "text": [
      "\n",
      "\n",
      "== Moss cavern ==\n",
      "You are standing in a large cavern full of bioluminescent moss.  It must have broken your fall!  The cavern extends to the east and west; at the west end, you think you see a passage leading out of the cavern.\n",
      "\n",
      "There are 2 exits:\n",
      "- west\n",
      "- east\n",
      "\n",
      "What do you do?\n",
      "east\n"
     ]
    },
    {
     "name": "stderr",
     "output_type": "stream",
     "text": [
      ">>> east\n"
     ]
    },
    {
     "name": "stdout",
     "output_type": "stream",
     "text": [
      "\n",
      "\n",
      "== Moss cavern ==\n",
      "You are standing in a large cavern full of bioluminescent moss.  The cavern extends to the west.\n",
      "\n",
      "Things of interest here:\n",
      "- empty lantern\n",
      "\n",
      "There is 1 exit:\n",
      "- west\n",
      "\n",
      "What do you do?\n",
      "take empty lantern\n"
     ]
    },
    {
     "name": "stderr",
     "output_type": "stream",
     "text": [
      ">>> take empty lantern\n"
     ]
    },
    {
     "name": "stdout",
     "output_type": "stream",
     "text": [
      "\n",
      "\n",
      "Taken.\n",
      "\n",
      "What do you do?\n",
      "west\n"
     ]
    },
    {
     "name": "stderr",
     "output_type": "stream",
     "text": [
      ">>> west\n"
     ]
    },
    {
     "name": "stdout",
     "output_type": "stream",
     "text": [
      "\n",
      "\n",
      "== Moss cavern ==\n",
      "You are standing in a large cavern full of bioluminescent moss.  It must have broken your fall!  The cavern extends to the east and west; at the west end, you think you see a passage leading out of the cavern.\n",
      "\n",
      "There are 2 exits:\n",
      "- west\n",
      "- east\n",
      "\n",
      "What do you do?\n",
      "west\n"
     ]
    },
    {
     "name": "stderr",
     "output_type": "stream",
     "text": [
      ">>> west\n"
     ]
    },
    {
     "name": "stdout",
     "output_type": "stream",
     "text": [
      "\n",
      "\n",
      "== Moss cavern ==\n",
      "You are standing in a large cavern full of bioluminescent moss.  The cavern extends to the east.  There is a crevise in the rocks which opens into a passage.\n",
      "\n",
      "There are 2 exits:\n",
      "- east\n",
      "- passage\n",
      "\n",
      "What do you do?\n",
      "passage\n"
     ]
    },
    {
     "name": "stderr",
     "output_type": "stream",
     "text": [
      ">>> passage\n"
     ]
    },
    {
     "name": "stdout",
     "output_type": "stream",
     "text": [
      "\n",
      "\n",
      "== Passage ==\n",
      "You are in a crevise on the west wall of the moss cavern.  A dark passage leads further west.  There is a ladder here which leads down into a smaller, moss-filled cavern below.\n",
      "\n",
      "There are 3 exits:\n",
      "- cavern\n",
      "- ladder\n",
      "- darkness\n",
      "\n",
      "What do you do?\n",
      "ladder\n"
     ]
    },
    {
     "name": "stderr",
     "output_type": "stream",
     "text": [
      ">>> ladder\n"
     ]
    },
    {
     "name": "stdout",
     "output_type": "stream",
     "text": [
      "\n",
      "\n",
      "== Twisty passages ==\n",
      "You are in a maze of twisty little passages, all dimly lit by more bioluminescent moss.  There is a ladder here leading up.\n",
      "\n",
      "There are 5 exits:\n",
      "- ladder\n",
      "- north\n",
      "- south\n",
      "- east\n",
      "- west\n",
      "\n",
      "What do you do?\n",
      "north\n"
     ]
    },
    {
     "name": "stderr",
     "output_type": "stream",
     "text": [
      ">>> north\n"
     ]
    },
    {
     "name": "stdout",
     "output_type": "stream",
     "text": [
      "\n",
      "\n",
      "== Twisty passages ==\n",
      "You are in a twisty maze of little passages, all alike.\n",
      "\n",
      "There are 3 exits:\n",
      "- north\n",
      "- south\n",
      "- west\n",
      "\n",
      "What do you do?\n",
      "north\n"
     ]
    },
    {
     "name": "stderr",
     "output_type": "stream",
     "text": [
      ">>> north\n"
     ]
    },
    {
     "name": "stdout",
     "output_type": "stream",
     "text": [
      "\n",
      "\n",
      "== Twisty passages ==\n",
      "You are in a maze of little twisty passages, all alike.\n",
      "\n",
      "There are 3 exits:\n",
      "- north\n",
      "- south\n",
      "- east\n",
      "\n",
      "What do you do?\n",
      "north\n"
     ]
    },
    {
     "name": "stderr",
     "output_type": "stream",
     "text": [
      ">>> north\n"
     ]
    },
    {
     "name": "stdout",
     "output_type": "stream",
     "text": [
      "\n",
      "\n",
      "== Twisty passages ==\n",
      "You are in a maze of twisty little passages, all dimly lit by more bioluminescent moss.  There is a ladder here leading up.\n",
      "\n",
      "There are 5 exits:\n",
      "- ladder\n",
      "- north\n",
      "- south\n",
      "- east\n",
      "- west\n",
      "\n",
      "What do you do?\n",
      "north\n"
     ]
    },
    {
     "name": "stderr",
     "output_type": "stream",
     "text": [
      ">>> north\n"
     ]
    },
    {
     "name": "stdout",
     "output_type": "stream",
     "text": [
      "\n",
      "\n",
      "== Twisty passages ==\n",
      "You are in a twisty maze of little passages, all alike.\n",
      "\n",
      "There are 3 exits:\n",
      "- north\n",
      "- south\n",
      "- west\n",
      "\n",
      "What do you do?\n",
      "south\n"
     ]
    },
    {
     "name": "stderr",
     "output_type": "stream",
     "text": [
      ">>> south\n"
     ]
    },
    {
     "name": "stdout",
     "output_type": "stream",
     "text": [
      "\n",
      "\n",
      "== Twisty passages ==\n",
      "You are in a maze of twisty little passages, all dimly lit by more bioluminescent moss.  There is a ladder here leading up.\n",
      "\n",
      "There are 5 exits:\n",
      "- ladder\n",
      "- north\n",
      "- south\n",
      "- east\n",
      "- west\n",
      "\n",
      "What do you do?\n",
      "north\n"
     ]
    },
    {
     "name": "stderr",
     "output_type": "stream",
     "text": [
      ">>> north\n"
     ]
    },
    {
     "name": "stdout",
     "output_type": "stream",
     "text": [
      "\n",
      "\n",
      "== Twisty passages ==\n",
      "You are in a twisty maze of little passages, all alike.\n",
      "\n",
      "There are 3 exits:\n",
      "- north\n",
      "- south\n",
      "- west\n",
      "\n",
      "What do you do?\n",
      "north\n"
     ]
    },
    {
     "name": "stderr",
     "output_type": "stream",
     "text": [
      ">>> north\n"
     ]
    },
    {
     "name": "stdout",
     "output_type": "stream",
     "text": [
      "\n",
      "\n",
      "== Twisty passages ==\n",
      "You are in a maze of little twisty passages, all alike.\n",
      "\n",
      "There are 3 exits:\n",
      "- north\n",
      "- south\n",
      "- east\n",
      "\n",
      "What do you do?\n",
      "south\n"
     ]
    },
    {
     "name": "stderr",
     "output_type": "stream",
     "text": [
      ">>> south\n"
     ]
    },
    {
     "name": "stdout",
     "output_type": "stream",
     "text": [
      "\n",
      "\n",
      "== Twisty passages ==\n",
      "You are in a twisty maze of little passages, all alike.\n",
      "\n",
      "There are 3 exits:\n",
      "- north\n",
      "- south\n",
      "- west\n",
      "\n",
      "What do you do?\n",
      "south\n"
     ]
    },
    {
     "name": "stderr",
     "output_type": "stream",
     "text": [
      ">>> south\n"
     ]
    },
    {
     "name": "stdout",
     "output_type": "stream",
     "text": [
      "\n",
      "\n",
      "== Twisty passages ==\n",
      "You are in a maze of twisty little passages, all dimly lit by more bioluminescent moss.  There is a ladder here leading up.\n",
      "\n",
      "There are 5 exits:\n",
      "- ladder\n",
      "- north\n",
      "- south\n",
      "- east\n",
      "- west\n",
      "\n",
      "What do you do?\n",
      "south\n"
     ]
    },
    {
     "name": "stderr",
     "output_type": "stream",
     "text": [
      ">>> south\n"
     ]
    },
    {
     "name": "stdout",
     "output_type": "stream",
     "text": [
      "\n",
      "\n",
      "== Twisty passages ==\n",
      "You are in a maze of little twisty passages, all alike.\n",
      "\n",
      "There are 3 exits:\n",
      "- north\n",
      "- south\n",
      "- east\n",
      "\n",
      "What do you do?\n",
      "south\n"
     ]
    },
    {
     "name": "stderr",
     "output_type": "stream",
     "text": [
      ">>> south\n"
     ]
    },
    {
     "name": "stdout",
     "output_type": "stream",
     "text": [
      "\n",
      "\n",
      "== Twisty passages ==\n",
      "You are in a twisty maze of little passages, all alike.\n",
      "\n",
      "There are 3 exits:\n",
      "- north\n",
      "- south\n",
      "- west\n",
      "\n",
      "What do you do?\n",
      "south\n"
     ]
    },
    {
     "name": "stderr",
     "output_type": "stream",
     "text": [
      ">>> south\n"
     ]
    },
    {
     "name": "stdout",
     "output_type": "stream",
     "text": [
      "\n",
      "\n",
      "== Twisty passages ==\n",
      "You are in a maze of twisty little passages, all dimly lit by more bioluminescent moss.  There is a ladder here leading up.\n",
      "\n",
      "There are 5 exits:\n",
      "- ladder\n",
      "- north\n",
      "- south\n",
      "- east\n",
      "- west\n",
      "\n",
      "What do you do?\n",
      "west\n"
     ]
    },
    {
     "name": "stderr",
     "output_type": "stream",
     "text": [
      ">>> west\n"
     ]
    },
    {
     "name": "stdout",
     "output_type": "stream",
     "text": [
      "\n",
      "\n",
      "== Twisty passages ==\n",
      "You are in a little maze of twisty passages, all alike.\n",
      "\n",
      "There are 3 exits:\n",
      "- north\n",
      "- south\n",
      "- east\n",
      "\n",
      "What do you do?\n",
      "north\n"
     ]
    },
    {
     "name": "stderr",
     "output_type": "stream",
     "text": [
      ">>> north\n"
     ]
    },
    {
     "name": "stdout",
     "output_type": "stream",
     "text": [
      "\n",
      "\n",
      "== Twisty passages ==\n",
      "You are in a little maze of twisty passages, all alike.\n",
      "\n",
      "There are 3 exits:\n",
      "- north\n",
      "- south\n",
      "- east\n",
      "\n",
      "What do you do?\n",
      "north\n"
     ]
    },
    {
     "name": "stderr",
     "output_type": "stream",
     "text": [
      ">>> north\n"
     ]
    },
    {
     "name": "stdout",
     "output_type": "stream",
     "text": [
      "\n",
      "\n",
      "== Twisty passages ==\n",
      "You are in a little maze of twisty passages, all alike.\n",
      "\n",
      "There are 3 exits:\n",
      "- north\n",
      "- south\n",
      "- east\n",
      "\n",
      "What do you do?\n",
      "north\n"
     ]
    },
    {
     "name": "stderr",
     "output_type": "stream",
     "text": [
      ">>> north\n"
     ]
    },
    {
     "name": "stdout",
     "output_type": "stream",
     "text": [
      "\n",
      "\n",
      "== Twisty passages ==\n",
      "You are in a little maze of twisty passages, all alike.\n",
      "\n",
      "There are 3 exits:\n",
      "- north\n",
      "- south\n",
      "- east\n",
      "\n",
      "What do you do?\n",
      "north\n"
     ]
    },
    {
     "name": "stderr",
     "output_type": "stream",
     "text": [
      ">>> north\n"
     ]
    },
    {
     "name": "stdout",
     "output_type": "stream",
     "text": [
      "\n",
      "\n",
      "== Twisty passages ==\n",
      "You are in a little maze of twisty passages, all alike.\n",
      "\n",
      "There are 3 exits:\n",
      "- north\n",
      "- south\n",
      "- east\n",
      "\n",
      "What do you do?\n",
      "north\n"
     ]
    },
    {
     "name": "stderr",
     "output_type": "stream",
     "text": [
      ">>> north\n"
     ]
    },
    {
     "name": "stdout",
     "output_type": "stream",
     "text": [
      "\n",
      "\n",
      "== Twisty passages ==\n",
      "You are in a little maze of twisty passages, all alike.\n",
      "\n",
      "There are 3 exits:\n",
      "- north\n",
      "- south\n",
      "- east\n",
      "\n",
      "What do you do?\n",
      "south\n"
     ]
    },
    {
     "name": "stderr",
     "output_type": "stream",
     "text": [
      ">>> south\n"
     ]
    },
    {
     "name": "stdout",
     "output_type": "stream",
     "text": [
      "\n",
      "\n",
      "== Twisty passages ==\n",
      "You are in a twisty alike of little passages, all maze.\n",
      "\n",
      "The east passage appears very dark; you feel likely to be eaten by a Grue.\n",
      "\n",
      "There are 4 exits:\n",
      "- north\n",
      "- south\n",
      "- west\n",
      "- east\n",
      "\n",
      "What do you do?\n",
      "north\n"
     ]
    },
    {
     "name": "stderr",
     "output_type": "stream",
     "text": [
      ">>> north\n"
     ]
    },
    {
     "name": "stdout",
     "output_type": "stream",
     "text": [
      "\n",
      "\n",
      "Chiseled on the wall of one of the passageways, you see:\n",
      "\n",
      "    aiEbrVscqNRb\n",
      "\n",
      "You take note of this and keep walking.\n",
      "\n",
      "== Twisty passages ==\n",
      "You are in a maze of twisty little passages, all alike.\n",
      "\n",
      "Things of interest here:\n",
      "- can\n",
      "\n",
      "There is 1 exit:\n",
      "- west\n",
      "\n",
      "What do you do?\n",
      "can\n"
     ]
    },
    {
     "name": "stderr",
     "output_type": "stream",
     "text": [
      ">>> can\n"
     ]
    },
    {
     "name": "stdout",
     "output_type": "stream",
     "text": [
      "\n",
      "\n",
      "I don't understand; try 'help' for instructions.\n",
      "\n",
      "What do you do?\n",
      "take can\n"
     ]
    },
    {
     "name": "stderr",
     "output_type": "stream",
     "text": [
      ">>> take can\n"
     ]
    },
    {
     "name": "stdout",
     "output_type": "stream",
     "text": [
      "\n",
      "\n",
      "Taken.\n",
      "\n",
      "What do you do?\n",
      "look can\n"
     ]
    },
    {
     "name": "stderr",
     "output_type": "stream",
     "text": [
      ">>> look can\n"
     ]
    },
    {
     "name": "stdout",
     "output_type": "stream",
     "text": [
      "\n",
      "\n",
      "This can is full of high-quality lantern oil.\n",
      "\n",
      "What do you do?\n",
      "use can\n"
     ]
    },
    {
     "name": "stderr",
     "output_type": "stream",
     "text": [
      ">>> use can\n"
     ]
    },
    {
     "name": "stdout",
     "output_type": "stream",
     "text": [
      "\n",
      "\n",
      "You fill your lantern with oil.  It seems to cheer up!\n",
      "\n",
      "\n",
      "What do you do?\n",
      "use lantern\n"
     ]
    },
    {
     "name": "stderr",
     "output_type": "stream",
     "text": [
      ">>> use lantern\n"
     ]
    },
    {
     "name": "stdout",
     "output_type": "stream",
     "text": [
      "\n",
      "\n",
      "You light your lantern.\n",
      "\n",
      "== Twisty passages ==\n",
      "You are in a maze of twisty little passages, all alike.\n",
      "\n",
      "There is 1 exit:\n",
      "- west\n",
      "\n",
      "What do you do?\n",
      "look\n"
     ]
    },
    {
     "name": "stderr",
     "output_type": "stream",
     "text": [
      ">>> look\n"
     ]
    },
    {
     "name": "stdout",
     "output_type": "stream",
     "text": [
      "\n",
      "\n",
      "== Twisty passages ==\n",
      "You are in a maze of twisty little passages, all alike.\n",
      "\n",
      "There is 1 exit:\n",
      "- west\n",
      "\n",
      "What do you do?\n",
      "west\n"
     ]
    },
    {
     "name": "stderr",
     "output_type": "stream",
     "text": [
      ">>> west\n"
     ]
    },
    {
     "name": "stdout",
     "output_type": "stream",
     "text": [
      "\n",
      "\n",
      "== Twisty passages ==\n",
      "You are in a maze of twisty little passages, all dimly lit by more bioluminescent moss.  There is a ladder here leading up.\n",
      "\n",
      "There are 5 exits:\n",
      "- ladder\n",
      "- north\n",
      "- south\n",
      "- east\n",
      "- west\n",
      "\n",
      "What do you do?\n",
      "east\n"
     ]
    },
    {
     "name": "stderr",
     "output_type": "stream",
     "text": [
      ">>> east\n"
     ]
    },
    {
     "name": "stdout",
     "output_type": "stream",
     "text": [
      "\n",
      "\n",
      "== Twisty passages ==\n",
      "You are in a maze of alike little passages, all twisty.\n",
      "\n",
      "The passage to the east looks very dark; you think you hear a Grue.\n",
      "\n",
      "There are 4 exits:\n",
      "- north\n",
      "- south\n",
      "- west\n",
      "- east\n",
      "\n",
      "What do you do?\n",
      "north\n"
     ]
    },
    {
     "name": "stderr",
     "output_type": "stream",
     "text": [
      ">>> north\n"
     ]
    },
    {
     "name": "stdout",
     "output_type": "stream",
     "text": [
      "\n",
      "\n",
      "== Twisty passages ==\n",
      "You are in a maze of alike twisty passages, all little.\n",
      "\n",
      "There are 3 exits:\n",
      "- north\n",
      "- east\n",
      "- south\n",
      "\n",
      "What do you do?\n",
      "north\n"
     ]
    },
    {
     "name": "stderr",
     "output_type": "stream",
     "text": [
      ">>> north\n"
     ]
    },
    {
     "name": "stdout",
     "output_type": "stream",
     "text": [
      "\n",
      "\n",
      "== Twisty passages ==\n",
      "You are in a maze of little twisty passages, all alike.\n",
      "\n",
      "There are 3 exits:\n",
      "- north\n",
      "- south\n",
      "- east\n",
      "\n",
      "What do you do?\n",
      "north\n"
     ]
    },
    {
     "name": "stderr",
     "output_type": "stream",
     "text": [
      ">>> north\n"
     ]
    },
    {
     "name": "stdout",
     "output_type": "stream",
     "text": [
      "\n",
      "\n",
      "== Twisty passages ==\n",
      "You are in a maze of twisty little passages, all dimly lit by more bioluminescent moss.  There is a ladder here leading up.\n",
      "\n",
      "There are 5 exits:\n",
      "- ladder\n",
      "- north\n",
      "- south\n",
      "- east\n",
      "- west\n",
      "\n",
      "What do you do?\n",
      "north\n"
     ]
    },
    {
     "name": "stderr",
     "output_type": "stream",
     "text": [
      ">>> north\n"
     ]
    },
    {
     "name": "stdout",
     "output_type": "stream",
     "text": [
      "\n",
      "\n",
      "== Twisty passages ==\n",
      "You are in a twisty maze of little passages, all alike.\n",
      "\n",
      "There are 3 exits:\n",
      "- north\n",
      "- south\n",
      "- west\n",
      "\n",
      "What do you do?\n",
      "north\n"
     ]
    },
    {
     "name": "stderr",
     "output_type": "stream",
     "text": [
      ">>> north\n"
     ]
    },
    {
     "name": "stdout",
     "output_type": "stream",
     "text": [
      "\n",
      "\n",
      "== Twisty passages ==\n",
      "You are in a maze of little twisty passages, all alike.\n",
      "\n",
      "There are 3 exits:\n",
      "- north\n",
      "- south\n",
      "- east\n",
      "\n",
      "What do you do?\n",
      "north\n"
     ]
    },
    {
     "name": "stderr",
     "output_type": "stream",
     "text": [
      ">>> north\n"
     ]
    },
    {
     "name": "stdout",
     "output_type": "stream",
     "text": [
      "\n",
      "\n",
      "== Twisty passages ==\n",
      "You are in a maze of twisty little passages, all dimly lit by more bioluminescent moss.  There is a ladder here leading up.\n",
      "\n",
      "There are 5 exits:\n",
      "- ladder\n",
      "- north\n",
      "- south\n",
      "- east\n",
      "- west\n",
      "\n",
      "What do you do?\n",
      "west\n"
     ]
    },
    {
     "name": "stderr",
     "output_type": "stream",
     "text": [
      ">>> west\n"
     ]
    },
    {
     "name": "stdout",
     "output_type": "stream",
     "text": [
      "\n",
      "\n",
      "== Twisty passages ==\n",
      "You are in a little maze of twisty passages, all alike.\n",
      "\n",
      "There are 3 exits:\n",
      "- north\n",
      "- south\n",
      "- east\n",
      "\n",
      "What do you do?\n",
      "east\n"
     ]
    },
    {
     "name": "stderr",
     "output_type": "stream",
     "text": [
      ">>> east\n"
     ]
    },
    {
     "name": "stdout",
     "output_type": "stream",
     "text": [
      "\n",
      "\n",
      "== Twisty passages ==\n",
      "You are in a maze of twisty little passages, all dimly lit by more bioluminescent moss.  There is a ladder here leading up.\n",
      "\n",
      "There are 5 exits:\n",
      "- ladder\n",
      "- north\n",
      "- south\n",
      "- east\n",
      "- west\n",
      "\n",
      "What do you do?\n",
      "west\n"
     ]
    },
    {
     "name": "stderr",
     "output_type": "stream",
     "text": [
      ">>> west\n"
     ]
    },
    {
     "name": "stdout",
     "output_type": "stream",
     "text": [
      "\n",
      "\n",
      "== Twisty passages ==\n",
      "You are in a little maze of twisty passages, all alike.\n",
      "\n",
      "There are 3 exits:\n",
      "- north\n",
      "- south\n",
      "- east\n",
      "\n",
      "What do you do?\n",
      "south\n"
     ]
    },
    {
     "name": "stderr",
     "output_type": "stream",
     "text": [
      ">>> south\n"
     ]
    },
    {
     "name": "stdout",
     "output_type": "stream",
     "text": [
      "\n",
      "\n",
      "== Twisty passages ==\n",
      "You are in a twisty alike of little passages, all maze.\n",
      "\n",
      "The east passage appears very dark; you feel likely to be eaten by a Grue.\n",
      "\n",
      "There are 4 exits:\n",
      "- north\n",
      "- south\n",
      "- west\n",
      "- east\n",
      "\n",
      "What do you do?\n",
      "east\n"
     ]
    },
    {
     "name": "stderr",
     "output_type": "stream",
     "text": [
      ">>> east\n"
     ]
    },
    {
     "name": "stdout",
     "output_type": "stream",
     "text": [
      "\n",
      "\n",
      "== Twisty passages ==\n",
      "You are in a twisty maze of little passages, all alike.\n",
      "\n",
      "There are 2 exits:\n",
      "- north\n",
      "- south\n",
      "\n",
      "What do you do?\n",
      "north\n"
     ]
    },
    {
     "name": "stderr",
     "output_type": "stream",
     "text": [
      ">>> north\n"
     ]
    },
    {
     "name": "stdout",
     "output_type": "stream",
     "text": [
      "\n",
      "\n",
      "== Twisty passages ==\n",
      "You are in a maze of little twisty passages, all alike.\n",
      "\n",
      "There are 3 exits:\n",
      "- north\n",
      "- south\n",
      "- east\n",
      "\n",
      "What do you do?\n",
      "north\n"
     ]
    },
    {
     "name": "stderr",
     "output_type": "stream",
     "text": [
      ">>> north\n"
     ]
    },
    {
     "name": "stdout",
     "output_type": "stream",
     "text": [
      "\n",
      "\n",
      "== Twisty passages ==\n",
      "You are in a maze of twisty little passages, all dimly lit by more bioluminescent moss.  There is a ladder here leading up.\n",
      "\n",
      "There are 5 exits:\n",
      "- ladder\n",
      "- north\n",
      "- south\n",
      "- east\n",
      "- west\n",
      "\n",
      "What do you do?\n",
      "west\n"
     ]
    },
    {
     "name": "stderr",
     "output_type": "stream",
     "text": [
      ">>> west\n"
     ]
    },
    {
     "name": "stdout",
     "output_type": "stream",
     "text": [
      "\n",
      "\n",
      "== Twisty passages ==\n",
      "You are in a little maze of twisty passages, all alike.\n",
      "\n",
      "There are 3 exits:\n",
      "- north\n",
      "- south\n",
      "- east\n",
      "\n",
      "What do you do?\n",
      "east\n"
     ]
    },
    {
     "name": "stderr",
     "output_type": "stream",
     "text": [
      ">>> east\n"
     ]
    },
    {
     "name": "stdout",
     "output_type": "stream",
     "text": [
      "\n",
      "\n",
      "== Twisty passages ==\n",
      "You are in a maze of twisty little passages, all dimly lit by more bioluminescent moss.  There is a ladder here leading up.\n",
      "\n",
      "There are 5 exits:\n",
      "- ladder\n",
      "- north\n",
      "- south\n",
      "- east\n",
      "- west\n",
      "\n",
      "What do you do?\n",
      "west\n"
     ]
    },
    {
     "name": "stderr",
     "output_type": "stream",
     "text": [
      ">>> west\n"
     ]
    },
    {
     "name": "stdout",
     "output_type": "stream",
     "text": [
      "\n",
      "\n",
      "== Twisty passages ==\n",
      "You are in a little maze of twisty passages, all alike.\n",
      "\n",
      "There are 3 exits:\n",
      "- north\n",
      "- south\n",
      "- east\n",
      "\n",
      "What do you do?\n",
      "north\n"
     ]
    },
    {
     "name": "stderr",
     "output_type": "stream",
     "text": [
      ">>> north\n"
     ]
    },
    {
     "name": "stdout",
     "output_type": "stream",
     "text": [
      "\n",
      "\n",
      "== Twisty passages ==\n",
      "You are in a little maze of twisty passages, all alike.\n",
      "\n",
      "There are 3 exits:\n",
      "- north\n",
      "- south\n",
      "- east\n",
      "\n",
      "What do you do?\n",
      "south\n"
     ]
    },
    {
     "name": "stderr",
     "output_type": "stream",
     "text": [
      ">>> south\n"
     ]
    },
    {
     "name": "stdout",
     "output_type": "stream",
     "text": [
      "\n",
      "\n",
      "== Twisty passages ==\n",
      "You are in a twisty alike of little passages, all maze.\n",
      "\n",
      "The east passage appears very dark; you feel likely to be eaten by a Grue.\n",
      "\n",
      "There are 4 exits:\n",
      "- north\n",
      "- south\n",
      "- west\n",
      "- east\n",
      "\n",
      "What do you do?\n",
      "east\n"
     ]
    },
    {
     "name": "stderr",
     "output_type": "stream",
     "text": [
      ">>> east\n"
     ]
    },
    {
     "name": "stdout",
     "output_type": "stream",
     "text": [
      "\n",
      "\n",
      "== Twisty passages ==\n",
      "You are in a twisty maze of little passages, all alike.\n",
      "\n",
      "There are 2 exits:\n",
      "- north\n",
      "- south\n",
      "\n",
      "What do you do?\n",
      "south\n"
     ]
    },
    {
     "name": "stderr",
     "output_type": "stream",
     "text": [
      ">>> south\n"
     ]
    },
    {
     "name": "stdout",
     "output_type": "stream",
     "text": [
      "\n",
      "\n",
      "== Twisty passages ==\n",
      "You are in a twisty maze of little passages, all alike.\n",
      "\n",
      "There are 3 exits:\n",
      "- north\n",
      "- south\n",
      "- west\n",
      "\n",
      "What do you do?\n",
      "south\n"
     ]
    },
    {
     "name": "stderr",
     "output_type": "stream",
     "text": [
      ">>> south\n"
     ]
    },
    {
     "name": "stdout",
     "output_type": "stream",
     "text": [
      "\n",
      "\n",
      "== Twisty passages ==\n",
      "You are in a maze of twisty little passages, all dimly lit by more bioluminescent moss.  There is a ladder here leading up.\n",
      "\n",
      "There are 5 exits:\n",
      "- ladder\n",
      "- north\n",
      "- south\n",
      "- east\n",
      "- west\n",
      "\n",
      "What do you do?\n",
      "west\n"
     ]
    },
    {
     "name": "stderr",
     "output_type": "stream",
     "text": [
      ">>> west\n"
     ]
    },
    {
     "name": "stdout",
     "output_type": "stream",
     "text": [
      "\n",
      "\n",
      "== Twisty passages ==\n",
      "You are in a little maze of twisty passages, all alike.\n",
      "\n",
      "There are 3 exits:\n",
      "- north\n",
      "- south\n",
      "- east\n",
      "\n",
      "What do you do?\n",
      "south\n"
     ]
    },
    {
     "name": "stderr",
     "output_type": "stream",
     "text": [
      ">>> south\n"
     ]
    },
    {
     "name": "stdout",
     "output_type": "stream",
     "text": [
      "\n",
      "\n",
      "== Twisty passages ==\n",
      "You are in a twisty alike of little passages, all maze.\n",
      "\n",
      "The east passage appears very dark; you feel likely to be eaten by a Grue.\n",
      "\n",
      "There are 4 exits:\n",
      "- north\n",
      "- south\n",
      "- west\n",
      "- east\n",
      "\n",
      "What do you do?\n",
      "north\n"
     ]
    },
    {
     "name": "stderr",
     "output_type": "stream",
     "text": [
      ">>> north\n"
     ]
    },
    {
     "name": "stdout",
     "output_type": "stream",
     "text": [
      "\n",
      "\n",
      "Chiseled on the wall of one of the passageways, you see:\n",
      "\n",
      "    aiEbrVscqNRb\n",
      "\n",
      "You take note of this and keep walking.\n",
      "\n",
      "== Twisty passages ==\n",
      "You are in a maze of twisty little passages, all alike.\n",
      "\n",
      "There is 1 exit:\n",
      "- west\n",
      "\n",
      "What do you do?\n",
      "west\n"
     ]
    },
    {
     "name": "stderr",
     "output_type": "stream",
     "text": [
      ">>> west\n"
     ]
    },
    {
     "name": "stdout",
     "output_type": "stream",
     "text": [
      "\n",
      "\n",
      "== Twisty passages ==\n",
      "You are in a maze of twisty little passages, all dimly lit by more bioluminescent moss.  There is a ladder here leading up.\n",
      "\n",
      "There are 5 exits:\n",
      "- ladder\n",
      "- north\n",
      "- south\n",
      "- east\n",
      "- west\n",
      "\n",
      "What do you do?\n",
      "west\n"
     ]
    },
    {
     "name": "stderr",
     "output_type": "stream",
     "text": [
      ">>> west\n"
     ]
    },
    {
     "name": "stdout",
     "output_type": "stream",
     "text": [
      "\n",
      "\n",
      "== Twisty passages ==\n",
      "You are in a little maze of twisty passages, all alike.\n",
      "\n",
      "There are 3 exits:\n",
      "- north\n",
      "- south\n",
      "- east\n",
      "\n",
      "What do you do?\n",
      "north\n"
     ]
    },
    {
     "name": "stderr",
     "output_type": "stream",
     "text": [
      ">>> north\n"
     ]
    },
    {
     "name": "stdout",
     "output_type": "stream",
     "text": [
      "\n",
      "\n",
      "== Twisty passages ==\n",
      "You are in a little maze of twisty passages, all alike.\n",
      "\n",
      "There are 3 exits:\n",
      "- north\n",
      "- south\n",
      "- east\n",
      "\n",
      "What do you do?\n",
      "north\n"
     ]
    },
    {
     "name": "stderr",
     "output_type": "stream",
     "text": [
      ">>> north\n"
     ]
    },
    {
     "name": "stdout",
     "output_type": "stream",
     "text": [
      "\n",
      "\n",
      "== Twisty passages ==\n",
      "You are in a little maze of twisty passages, all alike.\n",
      "\n",
      "There are 3 exits:\n",
      "- north\n",
      "- south\n",
      "- east\n",
      "\n",
      "What do you do?\n",
      "north\n"
     ]
    },
    {
     "name": "stderr",
     "output_type": "stream",
     "text": [
      ">>> north\n"
     ]
    },
    {
     "name": "stdout",
     "output_type": "stream",
     "text": [
      "\n",
      "\n",
      "== Twisty passages ==\n",
      "You are in a little maze of twisty passages, all alike.\n",
      "\n",
      "There are 3 exits:\n",
      "- north\n",
      "- south\n",
      "- east\n",
      "\n",
      "What do you do?\n",
      "north\n"
     ]
    },
    {
     "name": "stderr",
     "output_type": "stream",
     "text": [
      ">>> north\n"
     ]
    },
    {
     "name": "stdout",
     "output_type": "stream",
     "text": [
      "\n",
      "\n",
      "== Twisty passages ==\n",
      "You are in a little maze of twisty passages, all alike.\n",
      "\n",
      "There are 3 exits:\n",
      "- north\n",
      "- south\n",
      "- east\n",
      "\n",
      "What do you do?\n",
      "north\n"
     ]
    },
    {
     "name": "stderr",
     "output_type": "stream",
     "text": [
      ">>> north\n"
     ]
    },
    {
     "name": "stdout",
     "output_type": "stream",
     "text": [
      "\n",
      "\n",
      "== Twisty passages ==\n",
      "You are in a little maze of twisty passages, all alike.\n",
      "\n",
      "There are 3 exits:\n",
      "- north\n",
      "- south\n",
      "- east\n",
      "\n",
      "What do you do?\n",
      "east\n"
     ]
    },
    {
     "name": "stderr",
     "output_type": "stream",
     "text": [
      ">>> east\n"
     ]
    },
    {
     "name": "stdout",
     "output_type": "stream",
     "text": [
      "\n",
      "\n",
      "== Twisty passages ==\n",
      "You are in a maze of twisty little passages, all dimly lit by more bioluminescent moss.  There is a ladder here leading up.\n",
      "\n",
      "There are 5 exits:\n",
      "- ladder\n",
      "- north\n",
      "- south\n",
      "- east\n",
      "- west\n",
      "\n",
      "What do you do?\n",
      "west\n"
     ]
    },
    {
     "name": "stderr",
     "output_type": "stream",
     "text": [
      ">>> west\n"
     ]
    },
    {
     "name": "stdout",
     "output_type": "stream",
     "text": [
      "\n",
      "\n",
      "== Twisty passages ==\n",
      "You are in a little maze of twisty passages, all alike.\n",
      "\n",
      "There are 3 exits:\n",
      "- north\n",
      "- south\n",
      "- east\n",
      "\n",
      "What do you do?\n",
      "north\n"
     ]
    },
    {
     "name": "stderr",
     "output_type": "stream",
     "text": [
      ">>> north\n"
     ]
    },
    {
     "name": "stdout",
     "output_type": "stream",
     "text": [
      "\n",
      "\n",
      "== Twisty passages ==\n",
      "You are in a little maze of twisty passages, all alike.\n",
      "\n",
      "There are 3 exits:\n",
      "- north\n",
      "- south\n",
      "- east\n",
      "\n",
      "What do you do?\n",
      "north\n"
     ]
    },
    {
     "name": "stderr",
     "output_type": "stream",
     "text": [
      ">>> north\n"
     ]
    },
    {
     "name": "stdout",
     "output_type": "stream",
     "text": [
      "\n",
      "\n",
      "== Twisty passages ==\n",
      "You are in a little maze of twisty passages, all alike.\n",
      "\n",
      "There are 3 exits:\n",
      "- north\n",
      "- south\n",
      "- east\n",
      "\n",
      "What do you do?\n",
      "north\n"
     ]
    },
    {
     "name": "stderr",
     "output_type": "stream",
     "text": [
      ">>> north\n"
     ]
    },
    {
     "name": "stdout",
     "output_type": "stream",
     "text": [
      "\n",
      "\n",
      "== Twisty passages ==\n",
      "You are in a little maze of twisty passages, all alike.\n",
      "\n",
      "There are 3 exits:\n",
      "- north\n",
      "- south\n",
      "- east\n",
      "\n",
      "What do you do?\n",
      "north\n"
     ]
    },
    {
     "name": "stderr",
     "output_type": "stream",
     "text": [
      ">>> north\n"
     ]
    },
    {
     "name": "stdout",
     "output_type": "stream",
     "text": [
      "\n",
      "\n",
      "== Twisty passages ==\n",
      "You are in a little maze of twisty passages, all alike.\n",
      "\n",
      "There are 3 exits:\n",
      "- north\n",
      "- south\n",
      "- east\n",
      "\n",
      "What do you do?\n",
      "north\n"
     ]
    },
    {
     "name": "stderr",
     "output_type": "stream",
     "text": [
      ">>> north\n"
     ]
    },
    {
     "name": "stdout",
     "output_type": "stream",
     "text": [
      "\n",
      "\n",
      "== Twisty passages ==\n",
      "You are in a little maze of twisty passages, all alike.\n",
      "\n",
      "There are 3 exits:\n",
      "- north\n",
      "- south\n",
      "- east\n",
      "\n",
      "What do you do?\n",
      "south\n"
     ]
    },
    {
     "name": "stderr",
     "output_type": "stream",
     "text": [
      ">>> south\n"
     ]
    },
    {
     "name": "stdout",
     "output_type": "stream",
     "text": [
      "\n",
      "\n",
      "== Twisty passages ==\n",
      "You are in a twisty alike of little passages, all maze.\n",
      "\n",
      "The east passage appears very dark; you feel likely to be eaten by a Grue.\n",
      "\n",
      "There are 4 exits:\n",
      "- north\n",
      "- south\n",
      "- west\n",
      "- east\n",
      "\n",
      "What do you do?\n",
      "east\n"
     ]
    },
    {
     "name": "stderr",
     "output_type": "stream",
     "text": [
      ">>> east\n"
     ]
    },
    {
     "name": "stdout",
     "output_type": "stream",
     "text": [
      "\n",
      "\n",
      "== Twisty passages ==\n",
      "You are in a twisty maze of little passages, all alike.\n",
      "\n",
      "There are 2 exits:\n",
      "- north\n",
      "- south\n",
      "\n",
      "What do you do?\n",
      "south\n"
     ]
    },
    {
     "name": "stderr",
     "output_type": "stream",
     "text": [
      ">>> south\n"
     ]
    },
    {
     "name": "stdout",
     "output_type": "stream",
     "text": [
      "\n",
      "\n",
      "== Twisty passages ==\n",
      "You are in a twisty maze of little passages, all alike.\n",
      "\n",
      "There are 3 exits:\n",
      "- north\n",
      "- south\n",
      "- west\n",
      "\n",
      "What do you do?\n",
      "north\n"
     ]
    },
    {
     "name": "stderr",
     "output_type": "stream",
     "text": [
      ">>> north\n"
     ]
    },
    {
     "name": "stdout",
     "output_type": "stream",
     "text": [
      "\n",
      "\n",
      "== Twisty passages ==\n",
      "You are in a maze of little twisty passages, all alike.\n",
      "\n",
      "There are 3 exits:\n",
      "- north\n",
      "- south\n",
      "- east\n",
      "\n",
      "What do you do?\n",
      "north\n"
     ]
    },
    {
     "name": "stderr",
     "output_type": "stream",
     "text": [
      ">>> north\n"
     ]
    },
    {
     "name": "stdout",
     "output_type": "stream",
     "text": [
      "\n",
      "\n",
      "== Twisty passages ==\n",
      "You are in a maze of twisty little passages, all dimly lit by more bioluminescent moss.  There is a ladder here leading up.\n",
      "\n",
      "There are 5 exits:\n",
      "- ladder\n",
      "- north\n",
      "- south\n",
      "- east\n",
      "- west\n",
      "\n",
      "What do you do?\n",
      "west\n"
     ]
    },
    {
     "name": "stderr",
     "output_type": "stream",
     "text": [
      ">>> west\n"
     ]
    },
    {
     "name": "stdout",
     "output_type": "stream",
     "text": [
      "\n",
      "\n",
      "== Twisty passages ==\n",
      "You are in a little maze of twisty passages, all alike.\n",
      "\n",
      "There are 3 exits:\n",
      "- north\n",
      "- south\n",
      "- east\n",
      "\n",
      "What do you do?\n",
      "north\n"
     ]
    },
    {
     "name": "stderr",
     "output_type": "stream",
     "text": [
      ">>> north\n"
     ]
    },
    {
     "name": "stdout",
     "output_type": "stream",
     "text": [
      "\n",
      "\n",
      "== Twisty passages ==\n",
      "You are in a little maze of twisty passages, all alike.\n",
      "\n",
      "There are 3 exits:\n",
      "- north\n",
      "- south\n",
      "- east\n",
      "\n",
      "What do you do?\n",
      "south\n"
     ]
    },
    {
     "name": "stderr",
     "output_type": "stream",
     "text": [
      ">>> south\n"
     ]
    },
    {
     "name": "stdout",
     "output_type": "stream",
     "text": [
      "\n",
      "\n",
      "== Twisty passages ==\n",
      "You are in a twisty alike of little passages, all maze.\n",
      "\n",
      "The east passage appears very dark; you feel likely to be eaten by a Grue.\n",
      "\n",
      "There are 4 exits:\n",
      "- north\n",
      "- south\n",
      "- west\n",
      "- east\n",
      "\n",
      "What do you do?\n",
      "north\n"
     ]
    },
    {
     "name": "stderr",
     "output_type": "stream",
     "text": [
      ">>> north\n"
     ]
    },
    {
     "name": "stdout",
     "output_type": "stream",
     "text": [
      "\n",
      "\n",
      "Chiseled on the wall of one of the passageways, you see:\n",
      "\n",
      "    aiEbrVscqNRb\n",
      "\n",
      "You take note of this and keep walking.\n",
      "\n",
      "== Twisty passages ==\n",
      "You are in a maze of twisty little passages, all alike.\n",
      "\n",
      "There is 1 exit:\n",
      "- west\n",
      "\n",
      "What do you do?\n",
      "west\n"
     ]
    },
    {
     "name": "stderr",
     "output_type": "stream",
     "text": [
      ">>> west\n"
     ]
    },
    {
     "name": "stdout",
     "output_type": "stream",
     "text": [
      "\n",
      "\n",
      "== Twisty passages ==\n",
      "You are in a maze of twisty little passages, all dimly lit by more bioluminescent moss.  There is a ladder here leading up.\n",
      "\n",
      "There are 5 exits:\n",
      "- ladder\n",
      "- north\n",
      "- south\n",
      "- east\n",
      "- west\n",
      "\n",
      "What do you do?\n",
      "west\n"
     ]
    },
    {
     "name": "stderr",
     "output_type": "stream",
     "text": [
      ">>> west\n"
     ]
    },
    {
     "name": "stdout",
     "output_type": "stream",
     "text": [
      "\n",
      "\n",
      "== Twisty passages ==\n",
      "You are in a little maze of twisty passages, all alike.\n",
      "\n",
      "There are 3 exits:\n",
      "- north\n",
      "- south\n",
      "- east\n",
      "\n",
      "What do you do?\n",
      "south\n"
     ]
    },
    {
     "name": "stderr",
     "output_type": "stream",
     "text": [
      ">>> south\n"
     ]
    },
    {
     "name": "stdout",
     "output_type": "stream",
     "text": [
      "\n",
      "\n",
      "== Twisty passages ==\n",
      "You are in a twisty alike of little passages, all maze.\n",
      "\n",
      "The east passage appears very dark; you feel likely to be eaten by a Grue.\n",
      "\n",
      "There are 4 exits:\n",
      "- north\n",
      "- south\n",
      "- west\n",
      "- east\n",
      "\n",
      "What do you do?\n",
      "north\n"
     ]
    },
    {
     "name": "stderr",
     "output_type": "stream",
     "text": [
      ">>> north\n"
     ]
    },
    {
     "name": "stdout",
     "output_type": "stream",
     "text": [
      "\n",
      "\n",
      "Chiseled on the wall of one of the passageways, you see:\n",
      "\n",
      "    aiEbrVscqNRb\n",
      "\n",
      "You take note of this and keep walking.\n",
      "\n",
      "== Twisty passages ==\n",
      "You are in a maze of twisty little passages, all alike.\n",
      "\n",
      "There is 1 exit:\n",
      "- west\n",
      "\n",
      "What do you do?\n",
      "west\n"
     ]
    },
    {
     "name": "stderr",
     "output_type": "stream",
     "text": [
      ">>> west\n"
     ]
    },
    {
     "name": "stdout",
     "output_type": "stream",
     "text": [
      "\n",
      "\n",
      "== Twisty passages ==\n",
      "You are in a maze of twisty little passages, all dimly lit by more bioluminescent moss.  There is a ladder here leading up.\n",
      "\n",
      "There are 5 exits:\n",
      "- ladder\n",
      "- north\n",
      "- south\n",
      "- east\n",
      "- west\n",
      "\n",
      "What do you do?\n",
      "west\n"
     ]
    },
    {
     "name": "stderr",
     "output_type": "stream",
     "text": [
      ">>> west\n"
     ]
    },
    {
     "name": "stdout",
     "output_type": "stream",
     "text": [
      "\n",
      "\n",
      "== Twisty passages ==\n",
      "You are in a little maze of twisty passages, all alike.\n",
      "\n",
      "There are 3 exits:\n",
      "- north\n",
      "- south\n",
      "- east\n",
      "\n",
      "What do you do?\n",
      "south\n"
     ]
    },
    {
     "name": "stderr",
     "output_type": "stream",
     "text": [
      ">>> south\n"
     ]
    },
    {
     "name": "stdout",
     "output_type": "stream",
     "text": [
      "\n",
      "\n",
      "== Twisty passages ==\n",
      "You are in a twisty alike of little passages, all maze.\n",
      "\n",
      "The east passage appears very dark; you feel likely to be eaten by a Grue.\n",
      "\n",
      "There are 4 exits:\n",
      "- north\n",
      "- south\n",
      "- west\n",
      "- east\n",
      "\n",
      "What do you do?\n",
      "south\n"
     ]
    },
    {
     "name": "stderr",
     "output_type": "stream",
     "text": [
      ">>> south\n"
     ]
    },
    {
     "name": "stdout",
     "output_type": "stream",
     "text": [
      "\n",
      "\n",
      "== Twisty passages ==\n",
      "You are in a twisty maze of little passages, all alike.\n",
      "\n",
      "There are 3 exits:\n",
      "- north\n",
      "- south\n",
      "- west\n",
      "\n",
      "What do you do?\n",
      "south\n"
     ]
    },
    {
     "name": "stderr",
     "output_type": "stream",
     "text": [
      ">>> south\n"
     ]
    },
    {
     "name": "stdout",
     "output_type": "stream",
     "text": [
      "\n",
      "\n",
      "== Twisty passages ==\n",
      "You are in a maze of twisty little passages, all dimly lit by more bioluminescent moss.  There is a ladder here leading up.\n",
      "\n",
      "There are 5 exits:\n",
      "- ladder\n",
      "- north\n",
      "- south\n",
      "- east\n",
      "- west\n",
      "\n",
      "What do you do?\n",
      "west\n"
     ]
    },
    {
     "name": "stderr",
     "output_type": "stream",
     "text": [
      ">>> west\n"
     ]
    },
    {
     "name": "stdout",
     "output_type": "stream",
     "text": [
      "\n",
      "\n",
      "== Twisty passages ==\n",
      "You are in a little maze of twisty passages, all alike.\n",
      "\n",
      "There are 3 exits:\n",
      "- north\n",
      "- south\n",
      "- east\n",
      "\n",
      "What do you do?\n",
      "south\n"
     ]
    },
    {
     "name": "stderr",
     "output_type": "stream",
     "text": [
      ">>> south\n"
     ]
    },
    {
     "name": "stdout",
     "output_type": "stream",
     "text": [
      "\n",
      "\n",
      "== Twisty passages ==\n",
      "You are in a twisty alike of little passages, all maze.\n",
      "\n",
      "The east passage appears very dark; you feel likely to be eaten by a Grue.\n",
      "\n",
      "There are 4 exits:\n",
      "- north\n",
      "- south\n",
      "- west\n",
      "- east\n",
      "\n",
      "What do you do?\n",
      "east\n"
     ]
    },
    {
     "name": "stderr",
     "output_type": "stream",
     "text": [
      ">>> east\n"
     ]
    },
    {
     "name": "stdout",
     "output_type": "stream",
     "text": [
      "\n",
      "\n",
      "== Twisty passages ==\n",
      "You are in a twisty maze of little passages, all alike.\n",
      "\n",
      "There are 2 exits:\n",
      "- north\n",
      "- south\n",
      "\n",
      "What do you do?\n",
      "north\n"
     ]
    },
    {
     "name": "stderr",
     "output_type": "stream",
     "text": [
      ">>> north\n"
     ]
    },
    {
     "name": "stdout",
     "output_type": "stream",
     "text": [
      "\n",
      "\n",
      "== Twisty passages ==\n",
      "You are in a maze of little twisty passages, all alike.\n",
      "\n",
      "There are 3 exits:\n",
      "- north\n",
      "- south\n",
      "- east\n",
      "\n",
      "What do you do?\n",
      "north\n"
     ]
    },
    {
     "name": "stderr",
     "output_type": "stream",
     "text": [
      ">>> north\n"
     ]
    },
    {
     "name": "stdout",
     "output_type": "stream",
     "text": [
      "\n",
      "\n",
      "== Twisty passages ==\n",
      "You are in a maze of twisty little passages, all dimly lit by more bioluminescent moss.  There is a ladder here leading up.\n",
      "\n",
      "There are 5 exits:\n",
      "- ladder\n",
      "- north\n",
      "- south\n",
      "- east\n",
      "- west\n",
      "\n",
      "What do you do?\n",
      "west\n"
     ]
    },
    {
     "name": "stderr",
     "output_type": "stream",
     "text": [
      ">>> west\n"
     ]
    },
    {
     "name": "stdout",
     "output_type": "stream",
     "text": [
      "\n",
      "\n",
      "== Twisty passages ==\n",
      "You are in a little maze of twisty passages, all alike.\n",
      "\n",
      "There are 3 exits:\n",
      "- north\n",
      "- south\n",
      "- east\n",
      "\n",
      "What do you do?\n",
      "south\n"
     ]
    },
    {
     "name": "stderr",
     "output_type": "stream",
     "text": [
      ">>> south\n"
     ]
    },
    {
     "name": "stdout",
     "output_type": "stream",
     "text": [
      "\n",
      "\n",
      "== Twisty passages ==\n",
      "You are in a twisty alike of little passages, all maze.\n",
      "\n",
      "The east passage appears very dark; you feel likely to be eaten by a Grue.\n",
      "\n",
      "There are 4 exits:\n",
      "- north\n",
      "- south\n",
      "- west\n",
      "- east\n",
      "\n",
      "What do you do?\n",
      "west\n"
     ]
    },
    {
     "name": "stderr",
     "output_type": "stream",
     "text": [
      ">>> west\n"
     ]
    },
    {
     "name": "stdout",
     "output_type": "stream",
     "text": [
      "\n",
      "\n",
      "== Twisty passages ==\n",
      "You are in a maze of little twisty passages, all alike.\n",
      "\n",
      "There are 3 exits:\n",
      "- north\n",
      "- south\n",
      "- east\n",
      "\n",
      "What do you do?\n",
      "east\n"
     ]
    },
    {
     "name": "stderr",
     "output_type": "stream",
     "text": [
      ">>> east\n"
     ]
    },
    {
     "name": "stdout",
     "output_type": "stream",
     "text": [
      "\n",
      "\n",
      "== Twisty passages ==\n",
      "You are in a maze of little twisty passages, all alike.\n",
      "\n",
      "There are 3 exits:\n",
      "- north\n",
      "- south\n",
      "- east\n",
      "\n",
      "What do you do?\n",
      "east\n"
     ]
    },
    {
     "name": "stderr",
     "output_type": "stream",
     "text": [
      ">>> east\n"
     ]
    },
    {
     "name": "stdout",
     "output_type": "stream",
     "text": [
      "\n",
      "\n",
      "== Twisty passages ==\n",
      "You are in a maze of little twisty passages, all alike.\n",
      "\n",
      "There are 3 exits:\n",
      "- north\n",
      "- south\n",
      "- east\n",
      "\n",
      "What do you do?\n",
      "east\n"
     ]
    },
    {
     "name": "stderr",
     "output_type": "stream",
     "text": [
      ">>> east\n"
     ]
    },
    {
     "name": "stdout",
     "output_type": "stream",
     "text": [
      "\n",
      "\n",
      "== Twisty passages ==\n",
      "You are in a maze of little twisty passages, all alike.\n",
      "\n",
      "There are 3 exits:\n",
      "- north\n",
      "- south\n",
      "- east\n",
      "\n",
      "What do you do?\n",
      "east\n"
     ]
    },
    {
     "name": "stderr",
     "output_type": "stream",
     "text": [
      ">>> east\n"
     ]
    },
    {
     "name": "stdout",
     "output_type": "stream",
     "text": [
      "\n",
      "\n",
      "== Twisty passages ==\n",
      "You are in a maze of little twisty passages, all alike.\n",
      "\n",
      "There are 3 exits:\n",
      "- north\n",
      "- south\n",
      "- east\n",
      "\n",
      "What do you do?\n",
      "south\n"
     ]
    },
    {
     "name": "stderr",
     "output_type": "stream",
     "text": [
      ">>> south\n"
     ]
    },
    {
     "name": "stdout",
     "output_type": "stream",
     "text": [
      "\n",
      "\n",
      "== Twisty passages ==\n",
      "You are in a twisty maze of little passages, all alike.\n",
      "\n",
      "There are 3 exits:\n",
      "- north\n",
      "- south\n",
      "- west\n",
      "\n",
      "What do you do?\n",
      "south\n"
     ]
    },
    {
     "name": "stderr",
     "output_type": "stream",
     "text": [
      ">>> south\n"
     ]
    },
    {
     "name": "stdout",
     "output_type": "stream",
     "text": [
      "\n",
      "\n",
      "== Twisty passages ==\n",
      "You are in a maze of twisty little passages, all dimly lit by more bioluminescent moss.  There is a ladder here leading up.\n",
      "\n",
      "There are 5 exits:\n",
      "- ladder\n",
      "- north\n",
      "- south\n",
      "- east\n",
      "- west\n",
      "\n",
      "What do you do?\n",
      "north\n"
     ]
    },
    {
     "name": "stderr",
     "output_type": "stream",
     "text": [
      ">>> north\n"
     ]
    },
    {
     "name": "stdout",
     "output_type": "stream",
     "text": [
      "\n",
      "\n",
      "== Twisty passages ==\n",
      "You are in a twisty maze of little passages, all alike.\n",
      "\n",
      "There are 3 exits:\n",
      "- north\n",
      "- south\n",
      "- west\n",
      "\n",
      "What do you do?\n",
      "north\n"
     ]
    },
    {
     "name": "stderr",
     "output_type": "stream",
     "text": [
      ">>> north\n"
     ]
    },
    {
     "name": "stdout",
     "output_type": "stream",
     "text": [
      "\n",
      "\n",
      "== Twisty passages ==\n",
      "You are in a maze of little twisty passages, all alike.\n",
      "\n",
      "There are 3 exits:\n",
      "- north\n",
      "- south\n",
      "- east\n",
      "\n",
      "What do you do?\n",
      "east\n"
     ]
    },
    {
     "name": "stderr",
     "output_type": "stream",
     "text": [
      ">>> east\n"
     ]
    },
    {
     "name": "stdout",
     "output_type": "stream",
     "text": [
      "\n",
      "\n",
      "== Twisty passages ==\n",
      "You are in a maze of little twisty passages, all alike.\n",
      "\n",
      "There are 3 exits:\n",
      "- north\n",
      "- south\n",
      "- east\n",
      "\n",
      "What do you do?\n",
      "east\n"
     ]
    },
    {
     "name": "stderr",
     "output_type": "stream",
     "text": [
      ">>> east\n"
     ]
    },
    {
     "name": "stdout",
     "output_type": "stream",
     "text": [
      "\n",
      "\n",
      "== Twisty passages ==\n",
      "You are in a maze of little twisty passages, all alike.\n",
      "\n",
      "There are 3 exits:\n",
      "- north\n",
      "- south\n",
      "- east\n",
      "\n",
      "What do you do?\n",
      "east\n"
     ]
    },
    {
     "name": "stderr",
     "output_type": "stream",
     "text": [
      ">>> east\n"
     ]
    },
    {
     "name": "stdout",
     "output_type": "stream",
     "text": [
      "\n",
      "\n",
      "== Twisty passages ==\n",
      "You are in a maze of little twisty passages, all alike.\n",
      "\n",
      "There are 3 exits:\n",
      "- north\n",
      "- south\n",
      "- east\n",
      "\n",
      "What do you do?\n",
      "south\n"
     ]
    },
    {
     "name": "stderr",
     "output_type": "stream",
     "text": [
      ">>> south\n"
     ]
    },
    {
     "name": "stdout",
     "output_type": "stream",
     "text": [
      "\n",
      "\n",
      "== Twisty passages ==\n",
      "You are in a twisty maze of little passages, all alike.\n",
      "\n",
      "There are 3 exits:\n",
      "- north\n",
      "- south\n",
      "- west\n",
      "\n",
      "What do you do?\n",
      "north\n"
     ]
    },
    {
     "name": "stderr",
     "output_type": "stream",
     "text": [
      ">>> north\n"
     ]
    },
    {
     "name": "stdout",
     "output_type": "stream",
     "text": [
      "\n",
      "\n",
      "== Twisty passages ==\n",
      "You are in a maze of little twisty passages, all alike.\n",
      "\n",
      "There are 3 exits:\n",
      "- north\n",
      "- south\n",
      "- east\n",
      "\n",
      "What do you do?\n",
      "north\n"
     ]
    },
    {
     "name": "stderr",
     "output_type": "stream",
     "text": [
      ">>> north\n"
     ]
    },
    {
     "name": "stdout",
     "output_type": "stream",
     "text": [
      "\n",
      "\n",
      "== Twisty passages ==\n",
      "You are in a maze of twisty little passages, all dimly lit by more bioluminescent moss.  There is a ladder here leading up.\n",
      "\n",
      "There are 5 exits:\n",
      "- ladder\n",
      "- north\n",
      "- south\n",
      "- east\n",
      "- west\n",
      "\n",
      "What do you do?\n",
      "north\n"
     ]
    },
    {
     "name": "stderr",
     "output_type": "stream",
     "text": [
      ">>> north\n"
     ]
    },
    {
     "name": "stdout",
     "output_type": "stream",
     "text": [
      "\n",
      "\n",
      "== Twisty passages ==\n",
      "You are in a twisty maze of little passages, all alike.\n",
      "\n",
      "There are 3 exits:\n",
      "- north\n",
      "- south\n",
      "- west\n",
      "\n",
      "What do you do?\n",
      "west\n"
     ]
    },
    {
     "name": "stderr",
     "output_type": "stream",
     "text": [
      ">>> west\n"
     ]
    },
    {
     "name": "stdout",
     "output_type": "stream",
     "text": [
      "\n",
      "\n",
      "== Twisty passages ==\n",
      "You are in a twisty maze of little passages, all alike.\n",
      "\n",
      "There are 3 exits:\n",
      "- north\n",
      "- south\n",
      "- west\n",
      "\n",
      "What do you do?\n",
      "west\n"
     ]
    },
    {
     "name": "stderr",
     "output_type": "stream",
     "text": [
      ">>> west\n"
     ]
    },
    {
     "name": "stdout",
     "output_type": "stream",
     "text": [
      "\n",
      "\n",
      "== Twisty passages ==\n",
      "You are in a twisty maze of little passages, all alike.\n",
      "\n",
      "There are 3 exits:\n",
      "- north\n",
      "- south\n",
      "- west\n",
      "\n",
      "What do you do?\n",
      "west\n"
     ]
    },
    {
     "name": "stderr",
     "output_type": "stream",
     "text": [
      ">>> west\n"
     ]
    },
    {
     "name": "stdout",
     "output_type": "stream",
     "text": [
      "\n",
      "\n",
      "== Twisty passages ==\n",
      "You are in a twisty maze of little passages, all alike.\n",
      "\n",
      "There are 3 exits:\n",
      "- north\n",
      "- south\n",
      "- west\n",
      "\n",
      "What do you do?\n",
      "west\n"
     ]
    },
    {
     "name": "stderr",
     "output_type": "stream",
     "text": [
      ">>> west\n"
     ]
    },
    {
     "name": "stdout",
     "output_type": "stream",
     "text": [
      "\n",
      "\n",
      "== Twisty passages ==\n",
      "You are in a twisty maze of little passages, all alike.\n",
      "\n",
      "There are 3 exits:\n",
      "- north\n",
      "- south\n",
      "- west\n",
      "\n",
      "What do you do?\n",
      "north\n"
     ]
    },
    {
     "name": "stderr",
     "output_type": "stream",
     "text": [
      ">>> north\n"
     ]
    },
    {
     "name": "stdout",
     "output_type": "stream",
     "text": [
      "\n",
      "\n",
      "== Twisty passages ==\n",
      "You are in a maze of little twisty passages, all alike.\n",
      "\n",
      "There are 3 exits:\n",
      "- north\n",
      "- south\n",
      "- east\n",
      "\n",
      "What do you do?\n",
      "south\n"
     ]
    },
    {
     "name": "stderr",
     "output_type": "stream",
     "text": [
      ">>> south\n"
     ]
    },
    {
     "name": "stdout",
     "output_type": "stream",
     "text": [
      "\n",
      "\n",
      "== Twisty passages ==\n",
      "You are in a twisty maze of little passages, all alike.\n",
      "\n",
      "There are 3 exits:\n",
      "- north\n",
      "- south\n",
      "- west\n",
      "\n",
      "What do you do?\n",
      "south\n"
     ]
    },
    {
     "name": "stderr",
     "output_type": "stream",
     "text": [
      ">>> south\n"
     ]
    },
    {
     "name": "stdout",
     "output_type": "stream",
     "text": [
      "\n",
      "\n",
      "== Twisty passages ==\n",
      "You are in a maze of twisty little passages, all dimly lit by more bioluminescent moss.  There is a ladder here leading up.\n",
      "\n",
      "There are 5 exits:\n",
      "- ladder\n",
      "- north\n",
      "- south\n",
      "- east\n",
      "- west\n",
      "\n",
      "What do you do?\n",
      "west\n"
     ]
    },
    {
     "name": "stderr",
     "output_type": "stream",
     "text": [
      ">>> west\n"
     ]
    },
    {
     "name": "stdout",
     "output_type": "stream",
     "text": [
      "\n",
      "\n",
      "== Twisty passages ==\n",
      "You are in a little maze of twisty passages, all alike.\n",
      "\n",
      "There are 3 exits:\n",
      "- north\n",
      "- south\n",
      "- east\n",
      "\n",
      "What do you do?\n",
      "south\n"
     ]
    },
    {
     "name": "stderr",
     "output_type": "stream",
     "text": [
      ">>> south\n"
     ]
    },
    {
     "name": "stdout",
     "output_type": "stream",
     "text": [
      "\n",
      "\n",
      "== Twisty passages ==\n",
      "You are in a twisty alike of little passages, all maze.\n",
      "\n",
      "The east passage appears very dark; you feel likely to be eaten by a Grue.\n",
      "\n",
      "There are 4 exits:\n",
      "- north\n",
      "- south\n",
      "- west\n",
      "- east\n",
      "\n",
      "What do you do?\n",
      "west\n"
     ]
    },
    {
     "name": "stderr",
     "output_type": "stream",
     "text": [
      ">>> west\n"
     ]
    },
    {
     "name": "stdout",
     "output_type": "stream",
     "text": [
      "\n",
      "\n",
      "== Twisty passages ==\n",
      "You are in a maze of little twisty passages, all alike.\n",
      "\n",
      "There are 3 exits:\n",
      "- north\n",
      "- south\n",
      "- east\n",
      "\n",
      "What do you do?\n",
      "south\n"
     ]
    },
    {
     "name": "stderr",
     "output_type": "stream",
     "text": [
      ">>> south\n"
     ]
    },
    {
     "name": "stdout",
     "output_type": "stream",
     "text": [
      "\n",
      "\n",
      "== Twisty passages ==\n",
      "You are in a twisty maze of little passages, all alike.\n",
      "\n",
      "There are 3 exits:\n",
      "- north\n",
      "- south\n",
      "- west\n",
      "\n",
      "What do you do?\n",
      "south\n"
     ]
    },
    {
     "name": "stderr",
     "output_type": "stream",
     "text": [
      ">>> south\n"
     ]
    },
    {
     "name": "stdout",
     "output_type": "stream",
     "text": [
      "\n",
      "\n",
      "== Twisty passages ==\n",
      "You are in a maze of twisty little passages, all dimly lit by more bioluminescent moss.  There is a ladder here leading up.\n",
      "\n",
      "There are 5 exits:\n",
      "- ladder\n",
      "- north\n",
      "- south\n",
      "- east\n",
      "- west\n",
      "\n",
      "What do you do?\n",
      "west\n"
     ]
    },
    {
     "name": "stderr",
     "output_type": "stream",
     "text": [
      ">>> west\n"
     ]
    },
    {
     "name": "stdout",
     "output_type": "stream",
     "text": [
      "\n",
      "\n",
      "== Twisty passages ==\n",
      "You are in a little maze of twisty passages, all alike.\n",
      "\n",
      "There are 3 exits:\n",
      "- north\n",
      "- south\n",
      "- east\n",
      "\n",
      "What do you do?\n",
      "south\n"
     ]
    },
    {
     "name": "stderr",
     "output_type": "stream",
     "text": [
      ">>> south\n"
     ]
    },
    {
     "name": "stdout",
     "output_type": "stream",
     "text": [
      "\n",
      "\n",
      "== Twisty passages ==\n",
      "You are in a twisty alike of little passages, all maze.\n",
      "\n",
      "The east passage appears very dark; you feel likely to be eaten by a Grue.\n",
      "\n",
      "There are 4 exits:\n",
      "- north\n",
      "- south\n",
      "- west\n",
      "- east\n",
      "\n",
      "What do you do?\n",
      "east\n"
     ]
    },
    {
     "name": "stderr",
     "output_type": "stream",
     "text": [
      ">>> east\n"
     ]
    },
    {
     "name": "stdout",
     "output_type": "stream",
     "text": [
      "\n",
      "\n",
      "== Twisty passages ==\n",
      "You are in a twisty maze of little passages, all alike.\n",
      "\n",
      "There are 2 exits:\n",
      "- north\n",
      "- south\n",
      "\n",
      "What do you do?\n",
      "sout\n"
     ]
    },
    {
     "name": "stderr",
     "output_type": "stream",
     "text": [
      ">>> sout\n"
     ]
    },
    {
     "name": "stdout",
     "output_type": "stream",
     "text": [
      "\n",
      "\n",
      "I don't understand; try 'help' for instructions.\n",
      "\n",
      "What do you do?\n",
      "south\n"
     ]
    },
    {
     "name": "stderr",
     "output_type": "stream",
     "text": [
      ">>> south\n"
     ]
    },
    {
     "name": "stdout",
     "output_type": "stream",
     "text": [
      "\n",
      "\n",
      "== Twisty passages ==\n",
      "You are in a twisty maze of little passages, all alike.\n",
      "\n",
      "There are 3 exits:\n",
      "- north\n",
      "- south\n",
      "- west\n",
      "\n",
      "What do you do?\n",
      "north\n"
     ]
    },
    {
     "name": "stderr",
     "output_type": "stream",
     "text": [
      ">>> north\n"
     ]
    },
    {
     "name": "stdout",
     "output_type": "stream",
     "text": [
      "\n",
      "\n",
      "== Twisty passages ==\n",
      "You are in a maze of little twisty passages, all alike.\n",
      "\n",
      "There are 3 exits:\n",
      "- north\n",
      "- south\n",
      "- east\n",
      "\n",
      "What do you do?\n",
      "north\n"
     ]
    },
    {
     "name": "stderr",
     "output_type": "stream",
     "text": [
      ">>> north\n"
     ]
    },
    {
     "name": "stdout",
     "output_type": "stream",
     "text": [
      "\n",
      "\n",
      "== Twisty passages ==\n",
      "You are in a maze of twisty little passages, all dimly lit by more bioluminescent moss.  There is a ladder here leading up.\n",
      "\n",
      "There are 5 exits:\n",
      "- ladder\n",
      "- north\n",
      "- south\n",
      "- east\n",
      "- west\n",
      "\n",
      "What do you do?\n",
      "west\n"
     ]
    },
    {
     "name": "stderr",
     "output_type": "stream",
     "text": [
      ">>> west\n"
     ]
    },
    {
     "name": "stdout",
     "output_type": "stream",
     "text": [
      "\n",
      "\n",
      "== Twisty passages ==\n",
      "You are in a little maze of twisty passages, all alike.\n",
      "\n",
      "There are 3 exits:\n",
      "- north\n",
      "- south\n",
      "- east\n",
      "\n",
      "What do you do?\n",
      "south\n"
     ]
    },
    {
     "name": "stderr",
     "output_type": "stream",
     "text": [
      ">>> south\n"
     ]
    },
    {
     "name": "stdout",
     "output_type": "stream",
     "text": [
      "\n",
      "\n",
      "== Twisty passages ==\n",
      "You are in a twisty alike of little passages, all maze.\n",
      "\n",
      "The east passage appears very dark; you feel likely to be eaten by a Grue.\n",
      "\n",
      "There are 4 exits:\n",
      "- north\n",
      "- south\n",
      "- west\n",
      "- east\n",
      "\n",
      "What do you do?\n",
      "east\n"
     ]
    },
    {
     "name": "stderr",
     "output_type": "stream",
     "text": [
      ">>> east\n"
     ]
    },
    {
     "name": "stdout",
     "output_type": "stream",
     "text": [
      "\n",
      "\n",
      "== Twisty passages ==\n",
      "You are in a twisty maze of little passages, all alike.\n",
      "\n",
      "There are 2 exits:\n",
      "- north\n",
      "- south\n",
      "\n",
      "What do you do?\n",
      "south\n"
     ]
    },
    {
     "name": "stderr",
     "output_type": "stream",
     "text": [
      ">>> south\n"
     ]
    },
    {
     "name": "stdout",
     "output_type": "stream",
     "text": [
      "\n",
      "\n",
      "== Twisty passages ==\n",
      "You are in a twisty maze of little passages, all alike.\n",
      "\n",
      "There are 3 exits:\n",
      "- north\n",
      "- south\n",
      "- west\n",
      "\n",
      "What do you do?\n",
      "south\n"
     ]
    },
    {
     "name": "stderr",
     "output_type": "stream",
     "text": [
      ">>> south\n"
     ]
    },
    {
     "name": "stdout",
     "output_type": "stream",
     "text": [
      "\n",
      "\n",
      "== Twisty passages ==\n",
      "You are in a maze of twisty little passages, all dimly lit by more bioluminescent moss.  There is a ladder here leading up.\n",
      "\n",
      "There are 5 exits:\n",
      "- ladder\n",
      "- north\n",
      "- south\n",
      "- east\n",
      "- west\n",
      "\n",
      "What do you do?\n",
      "west\n"
     ]
    },
    {
     "name": "stderr",
     "output_type": "stream",
     "text": [
      ">>> west\n"
     ]
    },
    {
     "name": "stdout",
     "output_type": "stream",
     "text": [
      "\n",
      "\n",
      "== Twisty passages ==\n",
      "You are in a little maze of twisty passages, all alike.\n",
      "\n",
      "There are 3 exits:\n",
      "- north\n",
      "- south\n",
      "- east\n",
      "\n",
      "What do you do?\n",
      "south\n"
     ]
    },
    {
     "name": "stderr",
     "output_type": "stream",
     "text": [
      ">>> south\n"
     ]
    },
    {
     "name": "stdout",
     "output_type": "stream",
     "text": [
      "\n",
      "\n",
      "== Twisty passages ==\n",
      "You are in a twisty alike of little passages, all maze.\n",
      "\n",
      "The east passage appears very dark; you feel likely to be eaten by a Grue.\n",
      "\n",
      "There are 4 exits:\n",
      "- north\n",
      "- south\n",
      "- west\n",
      "- east\n",
      "\n",
      "What do you do?\n",
      "east\n"
     ]
    },
    {
     "name": "stderr",
     "output_type": "stream",
     "text": [
      ">>> east\n"
     ]
    },
    {
     "name": "stdout",
     "output_type": "stream",
     "text": [
      "\n",
      "\n",
      "== Twisty passages ==\n",
      "You are in a twisty maze of little passages, all alike.\n",
      "\n",
      "There are 2 exits:\n",
      "- north\n",
      "- south\n",
      "\n",
      "What do you do?\n",
      "north\n"
     ]
    },
    {
     "name": "stderr",
     "output_type": "stream",
     "text": [
      ">>> north\n"
     ]
    },
    {
     "name": "stdout",
     "output_type": "stream",
     "text": [
      "\n",
      "\n",
      "== Twisty passages ==\n",
      "You are in a maze of little twisty passages, all alike.\n",
      "\n",
      "There are 3 exits:\n",
      "- north\n",
      "- south\n",
      "- east\n",
      "\n",
      "What do you do?\n",
      "west\n"
     ]
    },
    {
     "name": "stderr",
     "output_type": "stream",
     "text": [
      ">>> west\n"
     ]
    },
    {
     "name": "stdout",
     "output_type": "stream",
     "text": [
      "\n",
      "\n",
      "I don't understand; try 'help' for instructions.\n",
      "\n",
      "What do you do?\n",
      "south\n"
     ]
    },
    {
     "name": "stderr",
     "output_type": "stream",
     "text": [
      ">>> south\n"
     ]
    },
    {
     "name": "stdout",
     "output_type": "stream",
     "text": [
      "\n",
      "\n",
      "== Twisty passages ==\n",
      "You are in a twisty maze of little passages, all alike.\n",
      "\n",
      "There are 3 exits:\n",
      "- north\n",
      "- south\n",
      "- west\n",
      "\n",
      "What do you do?\n",
      "south\n"
     ]
    },
    {
     "name": "stderr",
     "output_type": "stream",
     "text": [
      ">>> south\n"
     ]
    },
    {
     "name": "stdout",
     "output_type": "stream",
     "text": [
      "\n",
      "\n",
      "== Twisty passages ==\n",
      "You are in a maze of twisty little passages, all dimly lit by more bioluminescent moss.  There is a ladder here leading up.\n",
      "\n",
      "There are 5 exits:\n",
      "- ladder\n",
      "- north\n",
      "- south\n",
      "- east\n",
      "- west\n",
      "\n",
      "What do you do?\n",
      "west\n"
     ]
    },
    {
     "name": "stderr",
     "output_type": "stream",
     "text": [
      ">>> west\n"
     ]
    },
    {
     "name": "stdout",
     "output_type": "stream",
     "text": [
      "\n",
      "\n",
      "== Twisty passages ==\n",
      "You are in a little maze of twisty passages, all alike.\n",
      "\n",
      "There are 3 exits:\n",
      "- north\n",
      "- south\n",
      "- east\n",
      "\n",
      "What do you do?\n",
      "south\n"
     ]
    },
    {
     "name": "stderr",
     "output_type": "stream",
     "text": [
      ">>> south\n"
     ]
    },
    {
     "name": "stdout",
     "output_type": "stream",
     "text": [
      "\n",
      "\n",
      "== Twisty passages ==\n",
      "You are in a twisty alike of little passages, all maze.\n",
      "\n",
      "The east passage appears very dark; you feel likely to be eaten by a Grue.\n",
      "\n",
      "There are 4 exits:\n",
      "- north\n",
      "- south\n",
      "- west\n",
      "- east\n",
      "\n",
      "What do you do?\n",
      "south\n"
     ]
    },
    {
     "name": "stderr",
     "output_type": "stream",
     "text": [
      ">>> south\n"
     ]
    },
    {
     "name": "stdout",
     "output_type": "stream",
     "text": [
      "\n",
      "\n",
      "== Twisty passages ==\n",
      "You are in a twisty maze of little passages, all alike.\n",
      "\n",
      "There are 3 exits:\n",
      "- north\n",
      "- south\n",
      "- west\n",
      "\n",
      "What do you do?\n",
      "west\n"
     ]
    },
    {
     "name": "stderr",
     "output_type": "stream",
     "text": [
      ">>> west\n"
     ]
    },
    {
     "name": "stdout",
     "output_type": "stream",
     "text": [
      "\n",
      "\n",
      "== Twisty passages ==\n",
      "You are in a twisty maze of little passages, all alike.\n",
      "\n",
      "There are 3 exits:\n",
      "- north\n",
      "- south\n",
      "- west\n",
      "\n",
      "What do you do?\n",
      "west\n"
     ]
    },
    {
     "name": "stderr",
     "output_type": "stream",
     "text": [
      ">>> west\n"
     ]
    },
    {
     "name": "stdout",
     "output_type": "stream",
     "text": [
      "\n",
      "\n",
      "== Twisty passages ==\n",
      "You are in a twisty maze of little passages, all alike.\n",
      "\n",
      "There are 3 exits:\n",
      "- north\n",
      "- south\n",
      "- west\n",
      "\n",
      "What do you do?\n",
      "west\n"
     ]
    },
    {
     "name": "stderr",
     "output_type": "stream",
     "text": [
      ">>> west\n"
     ]
    },
    {
     "name": "stdout",
     "output_type": "stream",
     "text": [
      "\n",
      "\n",
      "== Twisty passages ==\n",
      "You are in a twisty maze of little passages, all alike.\n",
      "\n",
      "There are 3 exits:\n",
      "- north\n",
      "- south\n",
      "- west\n",
      "\n",
      "What do you do?\n",
      "south\n"
     ]
    },
    {
     "name": "stderr",
     "output_type": "stream",
     "text": [
      ">>> south\n"
     ]
    },
    {
     "name": "stdout",
     "output_type": "stream",
     "text": [
      "\n",
      "\n",
      "== Twisty passages ==\n",
      "You are in a maze of twisty little passages, all dimly lit by more bioluminescent moss.  There is a ladder here leading up.\n",
      "\n",
      "There are 5 exits:\n",
      "- ladder\n",
      "- north\n",
      "- south\n",
      "- east\n",
      "- west\n",
      "\n",
      "What do you do?\n",
      "west\n"
     ]
    },
    {
     "name": "stderr",
     "output_type": "stream",
     "text": [
      ">>> west\n"
     ]
    },
    {
     "name": "stdout",
     "output_type": "stream",
     "text": [
      "\n",
      "\n",
      "== Twisty passages ==\n",
      "You are in a little maze of twisty passages, all alike.\n",
      "\n",
      "There are 3 exits:\n",
      "- north\n",
      "- south\n",
      "- east\n",
      "\n",
      "What do you do?\n",
      "south\n"
     ]
    },
    {
     "name": "stderr",
     "output_type": "stream",
     "text": [
      ">>> south\n"
     ]
    },
    {
     "name": "stdout",
     "output_type": "stream",
     "text": [
      "\n",
      "\n",
      "== Twisty passages ==\n",
      "You are in a twisty alike of little passages, all maze.\n",
      "\n",
      "The east passage appears very dark; you feel likely to be eaten by a Grue.\n",
      "\n",
      "There are 4 exits:\n",
      "- north\n",
      "- south\n",
      "- west\n",
      "- east\n",
      "\n",
      "What do you do?\n",
      "south\n"
     ]
    },
    {
     "name": "stderr",
     "output_type": "stream",
     "text": [
      ">>> south\n"
     ]
    },
    {
     "name": "stdout",
     "output_type": "stream",
     "text": [
      "\n",
      "\n",
      "== Twisty passages ==\n",
      "You are in a twisty maze of little passages, all alike.\n",
      "\n",
      "There are 3 exits:\n",
      "- north\n",
      "- south\n",
      "- west\n",
      "\n",
      "What do you do?\n",
      "north\n"
     ]
    },
    {
     "name": "stderr",
     "output_type": "stream",
     "text": [
      ">>> north\n"
     ]
    },
    {
     "name": "stdout",
     "output_type": "stream",
     "text": [
      "\n",
      "\n",
      "== Twisty passages ==\n",
      "You are in a maze of little twisty passages, all alike.\n",
      "\n",
      "There are 3 exits:\n",
      "- north\n",
      "- south\n",
      "- east\n",
      "\n",
      "What do you do?\n",
      "south\n"
     ]
    },
    {
     "name": "stderr",
     "output_type": "stream",
     "text": [
      ">>> south\n"
     ]
    },
    {
     "name": "stdout",
     "output_type": "stream",
     "text": [
      "\n",
      "\n",
      "== Twisty passages ==\n",
      "You are in a twisty maze of little passages, all alike.\n",
      "\n",
      "There are 3 exits:\n",
      "- north\n",
      "- south\n",
      "- west\n",
      "\n",
      "What do you do?\n",
      "noth\n"
     ]
    },
    {
     "name": "stderr",
     "output_type": "stream",
     "text": [
      ">>> noth\n"
     ]
    },
    {
     "name": "stdout",
     "output_type": "stream",
     "text": [
      "\n",
      "\n",
      "I don't understand; try 'help' for instructions.\n",
      "\n",
      "What do you do?\n",
      "south\n"
     ]
    },
    {
     "name": "stderr",
     "output_type": "stream",
     "text": [
      ">>> south\n"
     ]
    },
    {
     "name": "stdout",
     "output_type": "stream",
     "text": [
      "\n",
      "\n",
      "== Twisty passages ==\n",
      "You are in a maze of twisty little passages, all dimly lit by more bioluminescent moss.  There is a ladder here leading up.\n",
      "\n",
      "There are 5 exits:\n",
      "- ladder\n",
      "- north\n",
      "- south\n",
      "- east\n",
      "- west\n",
      "\n",
      "What do you do?\n",
      "east\n"
     ]
    },
    {
     "name": "stderr",
     "output_type": "stream",
     "text": [
      ">>> east\n"
     ]
    },
    {
     "name": "stdout",
     "output_type": "stream",
     "text": [
      "\n",
      "\n",
      "== Twisty passages ==\n",
      "You are in a maze of alike little passages, all twisty.\n",
      "\n",
      "The passage to the east looks very dark; you think you hear a Grue.\n",
      "\n",
      "There are 4 exits:\n",
      "- north\n",
      "- south\n",
      "- west\n",
      "- east\n",
      "\n",
      "What do you do?\n",
      "north\n"
     ]
    },
    {
     "name": "stderr",
     "output_type": "stream",
     "text": [
      ">>> north\n"
     ]
    },
    {
     "name": "stdout",
     "output_type": "stream",
     "text": [
      "\n",
      "\n",
      "== Twisty passages ==\n",
      "You are in a maze of alike twisty passages, all little.\n",
      "\n",
      "There are 3 exits:\n",
      "- north\n",
      "- east\n",
      "- south\n",
      "\n",
      "What do you do?\n",
      "south\n"
     ]
    },
    {
     "name": "stderr",
     "output_type": "stream",
     "text": [
      ">>> south\n"
     ]
    },
    {
     "name": "stdout",
     "output_type": "stream",
     "text": [
      "\n",
      "\n",
      "== Twisty passages ==\n",
      "You are in a maze of alike twisty passages, all little.\n",
      "\n",
      "There are 3 exits:\n",
      "- north\n",
      "- east\n",
      "- south\n",
      "\n",
      "What do you do?\n",
      "south\n"
     ]
    },
    {
     "name": "stderr",
     "output_type": "stream",
     "text": [
      ">>> south\n"
     ]
    },
    {
     "name": "stdout",
     "output_type": "stream",
     "text": [
      "\n",
      "\n",
      "== Twisty passages ==\n",
      "You are in a maze of alike twisty passages, all little.\n",
      "\n",
      "There are 3 exits:\n",
      "- north\n",
      "- east\n",
      "- south\n",
      "\n",
      "What do you do?\n",
      "north\n"
     ]
    },
    {
     "name": "stderr",
     "output_type": "stream",
     "text": [
      ">>> north\n"
     ]
    },
    {
     "name": "stdout",
     "output_type": "stream",
     "text": [
      "\n",
      "\n",
      "== Twisty passages ==\n",
      "You are in a maze of little twisty passages, all alike.\n",
      "\n",
      "There are 3 exits:\n",
      "- north\n",
      "- south\n",
      "- east\n",
      "\n",
      "What do you do?\n",
      "east\n"
     ]
    },
    {
     "name": "stderr",
     "output_type": "stream",
     "text": [
      ">>> east\n"
     ]
    },
    {
     "name": "stdout",
     "output_type": "stream",
     "text": [
      "\n",
      "\n",
      "== Twisty passages ==\n",
      "You are in a maze of little twisty passages, all alike.\n",
      "\n",
      "There are 3 exits:\n",
      "- north\n",
      "- south\n",
      "- east\n",
      "\n",
      "What do you do?\n",
      "east\n"
     ]
    },
    {
     "name": "stderr",
     "output_type": "stream",
     "text": [
      ">>> east\n"
     ]
    },
    {
     "name": "stdout",
     "output_type": "stream",
     "text": [
      "\n",
      "\n",
      "== Twisty passages ==\n",
      "You are in a maze of little twisty passages, all alike.\n",
      "\n",
      "There are 3 exits:\n",
      "- north\n",
      "- south\n",
      "- east\n",
      "\n",
      "What do you do?\n",
      "south\n"
     ]
    },
    {
     "name": "stderr",
     "output_type": "stream",
     "text": [
      ">>> south\n"
     ]
    },
    {
     "name": "stdout",
     "output_type": "stream",
     "text": [
      "\n",
      "\n",
      "== Twisty passages ==\n",
      "You are in a twisty maze of little passages, all alike.\n",
      "\n",
      "There are 3 exits:\n",
      "- north\n",
      "- south\n",
      "- west\n",
      "\n",
      "What do you do?\n",
      "south\n"
     ]
    },
    {
     "name": "stderr",
     "output_type": "stream",
     "text": [
      ">>> south\n"
     ]
    },
    {
     "name": "stdout",
     "output_type": "stream",
     "text": [
      "\n",
      "\n",
      "== Twisty passages ==\n",
      "You are in a maze of twisty little passages, all dimly lit by more bioluminescent moss.  There is a ladder here leading up.\n",
      "\n",
      "There are 5 exits:\n",
      "- ladder\n",
      "- north\n",
      "- south\n",
      "- east\n",
      "- west\n",
      "\n",
      "What do you do?\n",
      "east\n"
     ]
    },
    {
     "name": "stderr",
     "output_type": "stream",
     "text": [
      ">>> east\n"
     ]
    },
    {
     "name": "stdout",
     "output_type": "stream",
     "text": [
      "\n",
      "\n",
      "== Twisty passages ==\n",
      "You are in a maze of alike little passages, all twisty.\n",
      "\n",
      "The passage to the east looks very dark; you think you hear a Grue.\n",
      "\n",
      "There are 4 exits:\n",
      "- north\n",
      "- south\n",
      "- west\n",
      "- east\n",
      "\n",
      "What do you do?\n",
      "west\n"
     ]
    },
    {
     "name": "stderr",
     "output_type": "stream",
     "text": [
      ">>> west\n"
     ]
    },
    {
     "name": "stdout",
     "output_type": "stream",
     "text": [
      "\n",
      "\n",
      "== Twisty passages ==\n",
      "You are in a maze of twisty little passages, all dimly lit by more bioluminescent moss.  There is a ladder here leading up.\n",
      "\n",
      "There are 5 exits:\n",
      "- ladder\n",
      "- north\n",
      "- south\n",
      "- east\n",
      "- west\n",
      "\n",
      "What do you do?\n",
      "east\n"
     ]
    },
    {
     "name": "stderr",
     "output_type": "stream",
     "text": [
      ">>> east\n"
     ]
    },
    {
     "name": "stdout",
     "output_type": "stream",
     "text": [
      "\n",
      "\n",
      "== Twisty passages ==\n",
      "You are in a maze of alike little passages, all twisty.\n",
      "\n",
      "The passage to the east looks very dark; you think you hear a Grue.\n",
      "\n",
      "There are 4 exits:\n",
      "- north\n",
      "- south\n",
      "- west\n",
      "- east\n",
      "\n",
      "What do you do?\n",
      "south\n"
     ]
    },
    {
     "name": "stderr",
     "output_type": "stream",
     "text": [
      ">>> south\n"
     ]
    },
    {
     "name": "stdout",
     "output_type": "stream",
     "text": [
      "\n",
      "\n",
      "== Twisty passages ==\n",
      "You are in a maze of alike little passages, all twisty.\n",
      "\n",
      "The passage to the east looks very dark; you think you hear a Grue.\n",
      "\n",
      "There are 4 exits:\n",
      "- north\n",
      "- south\n",
      "- west\n",
      "- east\n",
      "\n",
      "What do you do?\n",
      "south\n"
     ]
    },
    {
     "name": "stderr",
     "output_type": "stream",
     "text": [
      ">>> south\n"
     ]
    },
    {
     "name": "stdout",
     "output_type": "stream",
     "text": [
      "\n",
      "\n",
      "== Twisty passages ==\n",
      "You are in a maze of alike little passages, all twisty.\n",
      "\n",
      "The passage to the east looks very dark; you think you hear a Grue.\n",
      "\n",
      "There are 4 exits:\n",
      "- north\n",
      "- south\n",
      "- west\n",
      "- east\n",
      "\n",
      "What do you do?\n",
      "south\n"
     ]
    },
    {
     "name": "stderr",
     "output_type": "stream",
     "text": [
      ">>> south\n"
     ]
    },
    {
     "name": "stdout",
     "output_type": "stream",
     "text": [
      "\n",
      "\n",
      "== Twisty passages ==\n",
      "You are in a maze of alike little passages, all twisty.\n",
      "\n",
      "The passage to the east looks very dark; you think you hear a Grue.\n",
      "\n",
      "There are 4 exits:\n",
      "- north\n",
      "- south\n",
      "- west\n",
      "- east\n",
      "\n",
      "What do you do?\n",
      "south\n"
     ]
    },
    {
     "name": "stderr",
     "output_type": "stream",
     "text": [
      ">>> south\n"
     ]
    },
    {
     "name": "stdout",
     "output_type": "stream",
     "text": [
      "\n",
      "\n",
      "== Twisty passages ==\n",
      "You are in a maze of alike little passages, all twisty.\n",
      "\n",
      "The passage to the east looks very dark; you think you hear a Grue.\n",
      "\n",
      "There are 4 exits:\n",
      "- north\n",
      "- south\n",
      "- west\n",
      "- east\n",
      "\n",
      "What do you do?\n",
      "north\n"
     ]
    },
    {
     "name": "stderr",
     "output_type": "stream",
     "text": [
      ">>> north\n"
     ]
    },
    {
     "name": "stdout",
     "output_type": "stream",
     "text": [
      "\n",
      "\n",
      "== Twisty passages ==\n",
      "You are in a maze of alike twisty passages, all little.\n",
      "\n",
      "There are 3 exits:\n",
      "- north\n",
      "- east\n",
      "- south\n",
      "\n",
      "What do you do?\n",
      "south\n"
     ]
    },
    {
     "name": "stderr",
     "output_type": "stream",
     "text": [
      ">>> south\n"
     ]
    },
    {
     "name": "stdout",
     "output_type": "stream",
     "text": [
      "\n",
      "\n",
      "== Twisty passages ==\n",
      "You are in a maze of alike twisty passages, all little.\n",
      "\n",
      "There are 3 exits:\n",
      "- north\n",
      "- east\n",
      "- south\n",
      "\n",
      "What do you do?\n",
      "south\n"
     ]
    },
    {
     "name": "stderr",
     "output_type": "stream",
     "text": [
      ">>> south\n"
     ]
    },
    {
     "name": "stdout",
     "output_type": "stream",
     "text": [
      "\n",
      "\n",
      "== Twisty passages ==\n",
      "You are in a maze of alike twisty passages, all little.\n",
      "\n",
      "There are 3 exits:\n",
      "- north\n",
      "- east\n",
      "- south\n",
      "\n",
      "What do you do?\n",
      "south\n"
     ]
    },
    {
     "name": "stderr",
     "output_type": "stream",
     "text": [
      ">>> south\n"
     ]
    },
    {
     "name": "stdout",
     "output_type": "stream",
     "text": [
      "\n",
      "\n",
      "== Twisty passages ==\n",
      "You are in a maze of alike twisty passages, all little.\n",
      "\n",
      "There are 3 exits:\n",
      "- north\n",
      "- east\n",
      "- south\n",
      "\n",
      "What do you do?\n",
      "east\n"
     ]
    },
    {
     "name": "stderr",
     "output_type": "stream",
     "text": [
      ">>> east\n"
     ]
    },
    {
     "name": "stdout",
     "output_type": "stream",
     "text": [
      "\n",
      "\n",
      "== Twisty passages ==\n",
      "You are in a twisty maze of little passages, all alike.\n",
      "\n",
      "There are 3 exits:\n",
      "- north\n",
      "- south\n",
      "- west\n",
      "\n",
      "What do you do?\n",
      "south\n"
     ]
    },
    {
     "name": "stderr",
     "output_type": "stream",
     "text": [
      ">>> south\n"
     ]
    },
    {
     "name": "stdout",
     "output_type": "stream",
     "text": [
      "\n",
      "\n",
      "== Twisty passages ==\n",
      "You are in a maze of twisty little passages, all dimly lit by more bioluminescent moss.  There is a ladder here leading up.\n",
      "\n",
      "There are 5 exits:\n",
      "- ladder\n",
      "- north\n",
      "- south\n",
      "- east\n",
      "- west\n",
      "\n",
      "What do you do?\n",
      "east\n"
     ]
    },
    {
     "name": "stderr",
     "output_type": "stream",
     "text": [
      ">>> east\n"
     ]
    },
    {
     "name": "stdout",
     "output_type": "stream",
     "text": [
      "\n",
      "\n",
      "== Twisty passages ==\n",
      "You are in a maze of alike little passages, all twisty.\n",
      "\n",
      "The passage to the east looks very dark; you think you hear a Grue.\n",
      "\n",
      "There are 4 exits:\n",
      "- north\n",
      "- south\n",
      "- west\n",
      "- east\n",
      "\n",
      "What do you do?\n",
      "north\n"
     ]
    },
    {
     "name": "stderr",
     "output_type": "stream",
     "text": [
      ">>> north\n"
     ]
    },
    {
     "name": "stdout",
     "output_type": "stream",
     "text": [
      "\n",
      "\n",
      "== Twisty passages ==\n",
      "You are in a maze of alike twisty passages, all little.\n",
      "\n",
      "There are 3 exits:\n",
      "- north\n",
      "- east\n",
      "- south\n",
      "\n",
      "What do you do?\n",
      "north\n"
     ]
    },
    {
     "name": "stderr",
     "output_type": "stream",
     "text": [
      ">>> north\n"
     ]
    },
    {
     "name": "stdout",
     "output_type": "stream",
     "text": [
      "\n",
      "\n",
      "== Twisty passages ==\n",
      "You are in a maze of little twisty passages, all alike.\n",
      "\n",
      "There are 3 exits:\n",
      "- north\n",
      "- south\n",
      "- east\n",
      "\n",
      "What do you do?\n",
      "north\n"
     ]
    },
    {
     "name": "stderr",
     "output_type": "stream",
     "text": [
      ">>> north\n"
     ]
    },
    {
     "name": "stdout",
     "output_type": "stream",
     "text": [
      "\n",
      "\n",
      "== Twisty passages ==\n",
      "You are in a maze of twisty little passages, all dimly lit by more bioluminescent moss.  There is a ladder here leading up.\n",
      "\n",
      "There are 5 exits:\n",
      "- ladder\n",
      "- north\n",
      "- south\n",
      "- east\n",
      "- west\n",
      "\n",
      "What do you do?\n",
      "east\n"
     ]
    },
    {
     "name": "stderr",
     "output_type": "stream",
     "text": [
      ">>> east\n"
     ]
    },
    {
     "name": "stdout",
     "output_type": "stream",
     "text": [
      "\n",
      "\n",
      "== Twisty passages ==\n",
      "You are in a maze of alike little passages, all twisty.\n",
      "\n",
      "The passage to the east looks very dark; you think you hear a Grue.\n",
      "\n",
      "There are 4 exits:\n",
      "- north\n",
      "- south\n",
      "- west\n",
      "- east\n",
      "\n",
      "What do you do?\n",
      "east\n"
     ]
    },
    {
     "name": "stderr",
     "output_type": "stream",
     "text": [
      ">>> east\n"
     ]
    },
    {
     "name": "stdout",
     "output_type": "stream",
     "text": [
      "\n",
      "\n",
      "== Twisty passages ==\n",
      "You are in a twisty maze of little passages, all alike.\n",
      "\n",
      "There are 2 exits:\n",
      "- north\n",
      "- south\n",
      "\n",
      "What do you do?\n",
      "north\n"
     ]
    },
    {
     "name": "stderr",
     "output_type": "stream",
     "text": [
      ">>> north\n"
     ]
    },
    {
     "name": "stdout",
     "output_type": "stream",
     "text": [
      "\n",
      "\n",
      "== Twisty passages ==\n",
      "You are in a maze of little twisty passages, all alike.\n",
      "\n",
      "There are 3 exits:\n",
      "- north\n",
      "- south\n",
      "- east\n",
      "\n",
      "What do you do?\n",
      "north\n"
     ]
    },
    {
     "name": "stderr",
     "output_type": "stream",
     "text": [
      ">>> north\n"
     ]
    },
    {
     "name": "stdout",
     "output_type": "stream",
     "text": [
      "\n",
      "\n",
      "== Twisty passages ==\n",
      "You are in a maze of twisty little passages, all dimly lit by more bioluminescent moss.  There is a ladder here leading up.\n",
      "\n",
      "There are 5 exits:\n",
      "- ladder\n",
      "- north\n",
      "- south\n",
      "- east\n",
      "- west\n",
      "\n",
      "What do you do?\n",
      "east\n"
     ]
    },
    {
     "name": "stderr",
     "output_type": "stream",
     "text": [
      ">>> east\n"
     ]
    },
    {
     "name": "stdout",
     "output_type": "stream",
     "text": [
      "\n",
      "\n",
      "== Twisty passages ==\n",
      "You are in a maze of alike little passages, all twisty.\n",
      "\n",
      "The passage to the east looks very dark; you think you hear a Grue.\n",
      "\n",
      "There are 4 exits:\n",
      "- north\n",
      "- south\n",
      "- west\n",
      "- east\n",
      "\n",
      "What do you do?\n",
      "east\n"
     ]
    },
    {
     "name": "stderr",
     "output_type": "stream",
     "text": [
      ">>> east\n"
     ]
    },
    {
     "name": "stdout",
     "output_type": "stream",
     "text": [
      "\n",
      "\n",
      "== Twisty passages ==\n",
      "You are in a twisty maze of little passages, all alike.\n",
      "\n",
      "There are 2 exits:\n",
      "- north\n",
      "- south\n",
      "\n",
      "What do you do?\n",
      "south\n"
     ]
    },
    {
     "name": "stderr",
     "output_type": "stream",
     "text": [
      ">>> south\n"
     ]
    },
    {
     "name": "stdout",
     "output_type": "stream",
     "text": [
      "\n",
      "\n",
      "== Twisty passages ==\n",
      "You are in a twisty maze of little passages, all alike.\n",
      "\n",
      "There are 3 exits:\n",
      "- north\n",
      "- south\n",
      "- west\n",
      "\n",
      "What do you do?\n",
      "south\n"
     ]
    },
    {
     "name": "stderr",
     "output_type": "stream",
     "text": [
      ">>> south\n"
     ]
    },
    {
     "name": "stdout",
     "output_type": "stream",
     "text": [
      "\n",
      "\n",
      "== Twisty passages ==\n",
      "You are in a maze of twisty little passages, all dimly lit by more bioluminescent moss.  There is a ladder here leading up.\n",
      "\n",
      "There are 5 exits:\n",
      "- ladder\n",
      "- north\n",
      "- south\n",
      "- east\n",
      "- west\n",
      "\n",
      "What do you do?\n",
      "west\n"
     ]
    },
    {
     "name": "stderr",
     "output_type": "stream",
     "text": [
      ">>> west\n"
     ]
    },
    {
     "name": "stdout",
     "output_type": "stream",
     "text": [
      "\n",
      "\n",
      "== Twisty passages ==\n",
      "You are in a little maze of twisty passages, all alike.\n",
      "\n",
      "There are 3 exits:\n",
      "- north\n",
      "- south\n",
      "- east\n",
      "\n",
      "What do you do?\n",
      "south\n"
     ]
    },
    {
     "name": "stderr",
     "output_type": "stream",
     "text": [
      ">>> south\n"
     ]
    },
    {
     "name": "stdout",
     "output_type": "stream",
     "text": [
      "\n",
      "\n",
      "== Twisty passages ==\n",
      "You are in a twisty alike of little passages, all maze.\n",
      "\n",
      "The east passage appears very dark; you feel likely to be eaten by a Grue.\n",
      "\n",
      "There are 4 exits:\n",
      "- north\n",
      "- south\n",
      "- west\n",
      "- east\n",
      "\n",
      "What do you do?\n",
      "north\n"
     ]
    },
    {
     "name": "stderr",
     "output_type": "stream",
     "text": [
      ">>> north\n"
     ]
    },
    {
     "name": "stdout",
     "output_type": "stream",
     "text": [
      "\n",
      "\n",
      "Chiseled on the wall of one of the passageways, you see:\n",
      "\n",
      "    aiEbrVscqNRb\n",
      "\n",
      "You take note of this and keep walking.\n",
      "\n",
      "== Twisty passages ==\n",
      "You are in a maze of twisty little passages, all alike.\n",
      "\n",
      "There is 1 exit:\n",
      "- west\n",
      "\n",
      "What do you do?\n",
      "west\n"
     ]
    },
    {
     "name": "stderr",
     "output_type": "stream",
     "text": [
      ">>> west\n"
     ]
    },
    {
     "name": "stdout",
     "output_type": "stream",
     "text": [
      "\n",
      "\n",
      "== Twisty passages ==\n",
      "You are in a maze of twisty little passages, all dimly lit by more bioluminescent moss.  There is a ladder here leading up.\n",
      "\n",
      "There are 5 exits:\n",
      "- ladder\n",
      "- north\n",
      "- south\n",
      "- east\n",
      "- west\n",
      "\n",
      "What do you do?\n",
      "inv\n"
     ]
    },
    {
     "name": "stderr",
     "output_type": "stream",
     "text": [
      ">>> inv\n"
     ]
    },
    {
     "name": "stdout",
     "output_type": "stream",
     "text": [
      "\n",
      "\n",
      "Your inventory:\n",
      "- tablet\n",
      "- lit lantern\n",
      "\n",
      "What do you do?\n",
      "use lit lantern\n"
     ]
    },
    {
     "name": "stderr",
     "output_type": "stream",
     "text": [
      ">>> use lit lantern\n"
     ]
    },
    {
     "name": "stdout",
     "output_type": "stream",
     "text": [
      "\n",
      "\n",
      "You douse your lantern.\n",
      "\n",
      "== Twisty passages ==\n",
      "You are in a maze of twisty little passages, all dimly lit by more bioluminescent moss.  There is a ladder here leading up.\n",
      "\n",
      "There are 5 exits:\n",
      "- ladder\n",
      "- north\n",
      "- south\n",
      "- east\n",
      "- west\n",
      "\n",
      "What do you do?\n",
      "use lantern\n"
     ]
    },
    {
     "name": "stderr",
     "output_type": "stream",
     "text": [
      ">>> use lantern\n"
     ]
    },
    {
     "name": "stdout",
     "output_type": "stream",
     "text": [
      "\n",
      "\n",
      "You light your lantern.\n",
      "\n",
      "== Twisty passages ==\n",
      "You are in a maze of twisty little passages, all dimly lit by more bioluminescent moss.  There is a ladder here leading up.\n",
      "\n",
      "There are 5 exits:\n",
      "- ladder\n",
      "- north\n",
      "- south\n",
      "- east\n",
      "- west\n",
      "\n",
      "What do you do?\n",
      "ladder\n"
     ]
    },
    {
     "name": "stderr",
     "output_type": "stream",
     "text": [
      ">>> ladder\n"
     ]
    },
    {
     "name": "stdout",
     "output_type": "stream",
     "text": [
      "\n",
      "\n",
      "== Passage ==\n",
      "You are in a crevise on the west wall of the moss cavern.  A dark passage leads further west.  There is a ladder here which leads down into a smaller, moss-filled cavern below.\n",
      "\n",
      "There are 3 exits:\n",
      "- cavern\n",
      "- ladder\n",
      "- darkness\n",
      "\n",
      "What do you do?\n",
      "darkness\n"
     ]
    },
    {
     "name": "stderr",
     "output_type": "stream",
     "text": [
      ">>> darkness\n"
     ]
    },
    {
     "name": "stdout",
     "output_type": "stream",
     "text": [
      "\n",
      "\n",
      "== Passage ==\n",
      "You feel that your light source is more than sufficient to keep grues away.\n",
      "\n",
      "There are 2 exits:\n",
      "- continue\n",
      "- back\n",
      "\n",
      "What do you do?\n",
      "continue\n"
     ]
    },
    {
     "name": "stderr",
     "output_type": "stream",
     "text": [
      ">>> continue\n"
     ]
    },
    {
     "name": "stdout",
     "output_type": "stream",
     "text": [
      "\n",
      "\n",
      "== Dark passage ==\n",
      "You are in a narrow passage.  There is darkness to the west, but you can barely see a glowing opening to the east.\n",
      "\n",
      "There are 2 exits:\n",
      "- west\n",
      "- east\n",
      "\n",
      "What do you do?\n",
      "look\n"
     ]
    },
    {
     "name": "stderr",
     "output_type": "stream",
     "text": [
      ">>> look\n"
     ]
    },
    {
     "name": "stdout",
     "output_type": "stream",
     "text": [
      "\n",
      "\n",
      "== Dark passage ==\n",
      "You are in a narrow passage.  There is darkness to the west, but you can barely see a glowing opening to the east.\n",
      "\n",
      "There are 2 exits:\n",
      "- west\n",
      "- east\n",
      "\n",
      "What do you do?\n",
      "west\n"
     ]
    },
    {
     "name": "stderr",
     "output_type": "stream",
     "text": [
      ">>> west\n"
     ]
    },
    {
     "name": "stdout",
     "output_type": "stream",
     "text": [
      "\n",
      "\n",
      "== Dark passage ==\n",
      "You are in a dark, narrow passage.\n",
      "\n",
      "There are 2 exits:\n",
      "- east\n",
      "- west\n",
      "\n",
      "What do you do?\n",
      "east\n"
     ]
    },
    {
     "name": "stderr",
     "output_type": "stream",
     "text": [
      ">>> east\n"
     ]
    },
    {
     "name": "stdout",
     "output_type": "stream",
     "text": [
      "\n",
      "\n",
      "== Dark passage ==\n",
      "You are in a narrow passage.  There is darkness to the west, but you can barely see a glowing opening to the east.\n",
      "\n",
      "There are 2 exits:\n",
      "- west\n",
      "- east\n",
      "\n",
      "What do you do?\n",
      "east\n"
     ]
    },
    {
     "name": "stderr",
     "output_type": "stream",
     "text": [
      ">>> east\n"
     ]
    },
    {
     "name": "stdout",
     "output_type": "stream",
     "text": [
      "\n",
      "\n",
      "== Passage ==\n",
      "You feel that your light source is more than sufficient to keep grues away.\n",
      "\n",
      "There are 2 exits:\n",
      "- continue\n",
      "- back\n",
      "\n",
      "What do you do?\n",
      "continue\n"
     ]
    },
    {
     "name": "stderr",
     "output_type": "stream",
     "text": [
      ">>> continue\n"
     ]
    },
    {
     "name": "stdout",
     "output_type": "stream",
     "text": [
      "\n",
      "\n",
      "== Dark passage ==\n",
      "You are in a narrow passage.  There is darkness to the west, but you can barely see a glowing opening to the east.\n",
      "\n",
      "There are 2 exits:\n",
      "- west\n",
      "- east\n",
      "\n",
      "What do you do?\n",
      "west\n"
     ]
    },
    {
     "name": "stderr",
     "output_type": "stream",
     "text": [
      ">>> west\n"
     ]
    },
    {
     "name": "stdout",
     "output_type": "stream",
     "text": [
      "\n",
      "\n",
      "== Dark passage ==\n",
      "You are in a dark, narrow passage.\n",
      "\n",
      "There are 2 exits:\n",
      "- east\n",
      "- west\n",
      "\n",
      "What do you do?\n",
      "east\n"
     ]
    },
    {
     "name": "stderr",
     "output_type": "stream",
     "text": [
      ">>> east\n"
     ]
    },
    {
     "name": "stdout",
     "output_type": "stream",
     "text": [
      "\n",
      "\n",
      "== Dark passage ==\n",
      "You are in a narrow passage.  There is darkness to the west, but you can barely see a glowing opening to the east.\n",
      "\n",
      "There are 2 exits:\n",
      "- west\n",
      "- east\n",
      "\n",
      "What do you do?\n",
      "west\n"
     ]
    },
    {
     "name": "stderr",
     "output_type": "stream",
     "text": [
      ">>> west\n"
     ]
    },
    {
     "name": "stdout",
     "output_type": "stream",
     "text": [
      "\n",
      "\n",
      "== Dark passage ==\n",
      "You are in a dark, narrow passage.\n",
      "\n",
      "There are 2 exits:\n",
      "- east\n",
      "- west\n",
      "\n",
      "What do you do?\n",
      "west\n"
     ]
    },
    {
     "name": "stderr",
     "output_type": "stream",
     "text": [
      ">>> west\n"
     ]
    },
    {
     "name": "stdout",
     "output_type": "stream",
     "text": [
      "\n",
      "\n",
      "== Dark passage ==\n",
      "You are in a dark, narrow passage.\n",
      "\n",
      "There are 2 exits:\n",
      "- east\n",
      "- west\n",
      "\n",
      "What do you do?\n",
      "west\n"
     ]
    },
    {
     "name": "stderr",
     "output_type": "stream",
     "text": [
      ">>> west\n"
     ]
    },
    {
     "name": "stdout",
     "output_type": "stream",
     "text": [
      "\n",
      "\n",
      "== Dark passage ==\n",
      "You are in a dark, narrow passage.  To the west, you spot some vegetation where the passage expands.\n",
      "\n",
      "There are 2 exits:\n",
      "- east\n",
      "- west\n",
      "\n",
      "What do you do?\n",
      "east\n"
     ]
    },
    {
     "name": "stderr",
     "output_type": "stream",
     "text": [
      ">>> east\n"
     ]
    },
    {
     "name": "stdout",
     "output_type": "stream",
     "text": [
      "\n",
      "\n",
      "== Dark passage ==\n",
      "You are in a dark, narrow passage.\n",
      "\n",
      "There are 2 exits:\n",
      "- east\n",
      "- west\n",
      "\n",
      "What do you do?\n",
      "west\n"
     ]
    },
    {
     "name": "stderr",
     "output_type": "stream",
     "text": [
      ">>> west\n"
     ]
    },
    {
     "name": "stdout",
     "output_type": "stream",
     "text": [
      "\n",
      "\n",
      "== Dark passage ==\n",
      "You are in a dark, narrow passage.  To the west, you spot some vegetation where the passage expands.\n",
      "\n",
      "There are 2 exits:\n",
      "- east\n",
      "- west\n",
      "\n",
      "What do you do?\n",
      "west\n"
     ]
    },
    {
     "name": "stderr",
     "output_type": "stream",
     "text": [
      ">>> west\n"
     ]
    },
    {
     "name": "stdout",
     "output_type": "stream",
     "text": [
      "\n",
      "\n",
      "== Ruins ==\n",
      "You stand in a large cavern with a huge ruin to the north, overgrown by plant life.  There is a large stone archway to the north acting as the doorway to the ruined complex.  A crevice in the rock to the east leads to an alarmingly dark passageway.\n",
      "\n",
      "There are 2 exits:\n",
      "- east\n",
      "- north\n",
      "\n",
      "What do you do?\n",
      "north\n"
     ]
    },
    {
     "name": "stderr",
     "output_type": "stream",
     "text": [
      ">>> north\n"
     ]
    },
    {
     "name": "stdout",
     "output_type": "stream",
     "text": [
      "\n",
      "\n",
      "== Ruins ==\n",
      "You are in the once-opulent foyer of a massive ruined complex.  There is a door to the south leading to the overgrowth outside and stairs to the north which lead into a larger hall.\n",
      "\n",
      "Things of interest here:\n",
      "- red coin\n",
      "\n",
      "There are 2 exits:\n",
      "- north\n",
      "- south\n",
      "\n",
      "What do you do?\n",
      "take red coin\n"
     ]
    },
    {
     "name": "stderr",
     "output_type": "stream",
     "text": [
      ">>> take red coin\n"
     ]
    },
    {
     "name": "stdout",
     "output_type": "stream",
     "text": [
      "\n",
      "\n",
      "Taken.\n",
      "\n",
      "What do you do?\n",
      "look red coin\n"
     ]
    },
    {
     "name": "stderr",
     "output_type": "stream",
     "text": [
      ">>> look red coin\n"
     ]
    },
    {
     "name": "stdout",
     "output_type": "stream",
     "text": [
      "\n",
      "\n",
      "This coin is made of a red metal.  It has two dots on one side.\n",
      "\n",
      "What do you do?\n",
      "look\n"
     ]
    },
    {
     "name": "stderr",
     "output_type": "stream",
     "text": [
      ">>> look\n"
     ]
    },
    {
     "name": "stdout",
     "output_type": "stream",
     "text": [
      "\n",
      "\n",
      "== Ruins ==\n",
      "You are in the once-opulent foyer of a massive ruined complex.  There is a door to the south leading to the overgrowth outside and stairs to the north which lead into a larger hall.\n",
      "\n",
      "There are 2 exits:\n",
      "- north\n",
      "- south\n",
      "\n",
      "What do you do?\n",
      "south\n"
     ]
    },
    {
     "name": "stderr",
     "output_type": "stream",
     "text": [
      ">>> south\n"
     ]
    },
    {
     "name": "stdout",
     "output_type": "stream",
     "text": [
      "\n",
      "\n",
      "== Ruins ==\n",
      "You stand in a large cavern with a huge ruin to the north, overgrown by plant life.  There is a large stone archway to the north acting as the doorway to the ruined complex.  A crevice in the rock to the east leads to an alarmingly dark passageway.\n",
      "\n",
      "There are 2 exits:\n",
      "- east\n",
      "- north\n",
      "\n",
      "What do you do?\n",
      "north\n"
     ]
    },
    {
     "name": "stderr",
     "output_type": "stream",
     "text": [
      ">>> north\n"
     ]
    },
    {
     "name": "stdout",
     "output_type": "stream",
     "text": [
      "\n",
      "\n",
      "== Ruins ==\n",
      "You are in the once-opulent foyer of a massive ruined complex.  There is a door to the south leading to the overgrowth outside and stairs to the north which lead into a larger hall.\n",
      "\n",
      "There are 2 exits:\n",
      "- north\n",
      "- south\n",
      "\n",
      "What do you do?\n",
      "north\n"
     ]
    },
    {
     "name": "stderr",
     "output_type": "stream",
     "text": [
      ">>> north\n"
     ]
    },
    {
     "name": "stdout",
     "output_type": "stream",
     "text": [
      "\n",
      "\n",
      "== Ruins ==\n",
      "You stand in the massive central hall of these ruins.  The walls are crumbling, and vegetation has clearly taken over.  Rooms are attached in all directions.  There is a strange monument in the center of the hall with circular slots and unusual symbols.  It reads:\n",
      "\n",
      "_ + _ * _^2 + _^3 - _ = 399\n",
      "\n",
      "There are 4 exits:\n",
      "- north\n",
      "- south\n",
      "- east\n",
      "- west\n",
      "\n",
      "What do you do?\n",
      "look\n"
     ]
    },
    {
     "name": "stderr",
     "output_type": "stream",
     "text": [
      ">>> look\n"
     ]
    },
    {
     "name": "stdout",
     "output_type": "stream",
     "text": [
      "\n",
      "\n",
      "== Ruins ==\n",
      "You stand in the massive central hall of these ruins.  The walls are crumbling, and vegetation has clearly taken over.  Rooms are attached in all directions.  There is a strange monument in the center of the hall with circular slots and unusual symbols.  It reads:\n",
      "\n",
      "_ + _ * _^2 + _^3 - _ = 399\n",
      "\n",
      "There are 4 exits:\n",
      "- north\n",
      "- south\n",
      "- east\n",
      "- west\n",
      "\n",
      "What do you do?\n",
      "south\n"
     ]
    },
    {
     "name": "stderr",
     "output_type": "stream",
     "text": [
      ">>> south\n"
     ]
    },
    {
     "name": "stdout",
     "output_type": "stream",
     "text": [
      "\n",
      "\n",
      "== Ruins ==\n",
      "You are in the once-opulent foyer of a massive ruined complex.  There is a door to the south leading to the overgrowth outside and stairs to the north which lead into a larger hall.\n",
      "\n",
      "There are 2 exits:\n",
      "- north\n",
      "- south\n",
      "\n",
      "What do you do?\n",
      "north\n"
     ]
    },
    {
     "name": "stderr",
     "output_type": "stream",
     "text": [
      ">>> north\n"
     ]
    },
    {
     "name": "stdout",
     "output_type": "stream",
     "text": [
      "\n",
      "\n",
      "== Ruins ==\n",
      "You stand in the massive central hall of these ruins.  The walls are crumbling, and vegetation has clearly taken over.  Rooms are attached in all directions.  There is a strange monument in the center of the hall with circular slots and unusual symbols.  It reads:\n",
      "\n",
      "_ + _ * _^2 + _^3 - _ = 399\n",
      "\n",
      "There are 4 exits:\n",
      "- north\n",
      "- south\n",
      "- east\n",
      "- west\n",
      "\n",
      "What do you do?\n",
      "west\n"
     ]
    },
    {
     "name": "stderr",
     "output_type": "stream",
     "text": [
      ">>> west\n"
     ]
    },
    {
     "name": "stdout",
     "output_type": "stream",
     "text": [
      "\n",
      "\n",
      "== Ruins ==\n",
      "You find yourself in what was once the living quarters for the complex.  Many smaller rooms which once had walls to divide them now lay in disarray.  There is a staircase up here.\n",
      "\n",
      "Things of interest here:\n",
      "- blue coin\n",
      "\n",
      "There are 2 exits:\n",
      "- up\n",
      "- east\n",
      "\n",
      "What do you do?\n",
      "take blue coin\n"
     ]
    },
    {
     "name": "stderr",
     "output_type": "stream",
     "text": [
      ">>> take blue coin\n"
     ]
    },
    {
     "name": "stdout",
     "output_type": "stream",
     "text": [
      "\n",
      "\n",
      "Taken.\n",
      "\n",
      "What do you do?\n",
      "up\n"
     ]
    },
    {
     "name": "stderr",
     "output_type": "stream",
     "text": [
      ">>> up\n"
     ]
    },
    {
     "name": "stdout",
     "output_type": "stream",
     "text": [
      "\n",
      "\n",
      "== Ruins ==\n",
      "This was long ago a lavish throne room.  Dried-up fountains and crumbling statues line the walls, and the carved stone throne in the center of the room is falling apart.\n",
      "\n",
      "Things of interest here:\n",
      "- shiny coin\n",
      "\n",
      "There is 1 exit:\n",
      "- down\n",
      "\n",
      "What do you do?\n",
      "take shiny coin\n"
     ]
    },
    {
     "name": "stderr",
     "output_type": "stream",
     "text": [
      ">>> take shiny coin\n"
     ]
    },
    {
     "name": "stdout",
     "output_type": "stream",
     "text": [
      "\n",
      "\n",
      "Taken.\n",
      "\n",
      "What do you do?\n",
      "down\n"
     ]
    },
    {
     "name": "stderr",
     "output_type": "stream",
     "text": [
      ">>> down\n"
     ]
    },
    {
     "name": "stdout",
     "output_type": "stream",
     "text": [
      "\n",
      "\n",
      "== Ruins ==\n",
      "You find yourself in what was once the living quarters for the complex.  Many smaller rooms which once had walls to divide them now lay in disarray.  There is a staircase up here.\n",
      "\n",
      "There are 2 exits:\n",
      "- up\n",
      "- east\n",
      "\n",
      "What do you do?\n",
      "east\n"
     ]
    },
    {
     "name": "stderr",
     "output_type": "stream",
     "text": [
      ">>> east\n"
     ]
    },
    {
     "name": "stdout",
     "output_type": "stream",
     "text": [
      "\n",
      "\n",
      "== Ruins ==\n",
      "You stand in the massive central hall of these ruins.  The walls are crumbling, and vegetation has clearly taken over.  Rooms are attached in all directions.  There is a strange monument in the center of the hall with circular slots and unusual symbols.  It reads:\n",
      "\n",
      "_ + _ * _^2 + _^3 - _ = 399\n",
      "\n",
      "There are 4 exits:\n",
      "- north\n",
      "- south\n",
      "- east\n",
      "- west\n",
      "\n",
      "What do you do?\n",
      "west\n"
     ]
    },
    {
     "name": "stderr",
     "output_type": "stream",
     "text": [
      ">>> west\n"
     ]
    },
    {
     "name": "stdout",
     "output_type": "stream",
     "text": [
      "\n",
      "\n",
      "== Ruins ==\n",
      "You find yourself in what was once the living quarters for the complex.  Many smaller rooms which once had walls to divide them now lay in disarray.  There is a staircase up here.\n",
      "\n",
      "There are 2 exits:\n",
      "- up\n",
      "- east\n",
      "\n",
      "What do you do?\n",
      "east\n"
     ]
    },
    {
     "name": "stderr",
     "output_type": "stream",
     "text": [
      ">>> east\n"
     ]
    },
    {
     "name": "stdout",
     "output_type": "stream",
     "text": [
      "\n",
      "\n",
      "== Ruins ==\n",
      "You stand in the massive central hall of these ruins.  The walls are crumbling, and vegetation has clearly taken over.  Rooms are attached in all directions.  There is a strange monument in the center of the hall with circular slots and unusual symbols.  It reads:\n",
      "\n",
      "_ + _ * _^2 + _^3 - _ = 399\n",
      "\n",
      "There are 4 exits:\n",
      "- north\n",
      "- south\n",
      "- east\n",
      "- west\n",
      "\n",
      "What do you do?\n",
      "east\n"
     ]
    },
    {
     "name": "stderr",
     "output_type": "stream",
     "text": [
      ">>> east\n"
     ]
    },
    {
     "name": "stdout",
     "output_type": "stream",
     "text": [
      "\n",
      "\n",
      "== Ruins ==\n",
      "You stand in what seems to have once been a dining hall; broken tables and pottery are scattered everywhere.  A staircase here leads down.\n",
      "\n",
      "Things of interest here:\n",
      "- concave coin\n",
      "\n",
      "There are 2 exits:\n",
      "- down\n",
      "- west\n",
      "\n",
      "What do you do?\n",
      "take concave coin\n"
     ]
    },
    {
     "name": "stderr",
     "output_type": "stream",
     "text": [
      ">>> take concave coin\n"
     ]
    },
    {
     "name": "stdout",
     "output_type": "stream",
     "text": [
      "\n",
      "\n",
      "Taken.\n",
      "\n",
      "What do you do?\n",
      "down\n"
     ]
    },
    {
     "name": "stderr",
     "output_type": "stream",
     "text": [
      ">>> down\n"
     ]
    },
    {
     "name": "stdout",
     "output_type": "stream",
     "text": [
      "\n",
      "\n",
      "== Ruins ==\n",
      "This seems to be a kitchen; there are brick stoves and shelves along the wall.  Everything here has fallen into disrepair.\n",
      "\n",
      "Things of interest here:\n",
      "- corroded coin\n",
      "\n",
      "There is 1 exit:\n",
      "- up\n",
      "\n",
      "What do you do?\n",
      "take corroded coin\n"
     ]
    },
    {
     "name": "stderr",
     "output_type": "stream",
     "text": [
      ">>> take corroded coin\n"
     ]
    },
    {
     "name": "stdout",
     "output_type": "stream",
     "text": [
      "\n",
      "\n",
      "Taken.\n",
      "\n",
      "What do you do?\n",
      "up\n"
     ]
    },
    {
     "name": "stderr",
     "output_type": "stream",
     "text": [
      ">>> up\n"
     ]
    },
    {
     "name": "stdout",
     "output_type": "stream",
     "text": [
      "\n",
      "\n",
      "== Ruins ==\n",
      "You stand in what seems to have once been a dining hall; broken tables and pottery are scattered everywhere.  A staircase here leads down.\n",
      "\n",
      "There are 2 exits:\n",
      "- down\n",
      "- west\n",
      "\n",
      "What do you do?\n",
      "west\n"
     ]
    },
    {
     "name": "stderr",
     "output_type": "stream",
     "text": [
      ">>> west\n"
     ]
    },
    {
     "name": "stdout",
     "output_type": "stream",
     "text": [
      "\n",
      "\n",
      "== Ruins ==\n",
      "You stand in the massive central hall of these ruins.  The walls are crumbling, and vegetation has clearly taken over.  Rooms are attached in all directions.  There is a strange monument in the center of the hall with circular slots and unusual symbols.  It reads:\n",
      "\n",
      "_ + _ * _^2 + _^3 - _ = 399\n",
      "\n",
      "There are 4 exits:\n",
      "- north\n",
      "- south\n",
      "- east\n",
      "- west\n",
      "\n",
      "What do you do?\n",
      "look\n"
     ]
    },
    {
     "name": "stderr",
     "output_type": "stream",
     "text": [
      ">>> look\n"
     ]
    },
    {
     "name": "stdout",
     "output_type": "stream",
     "text": [
      "\n",
      "\n",
      "== Ruins ==\n",
      "You stand in the massive central hall of these ruins.  The walls are crumbling, and vegetation has clearly taken over.  Rooms are attached in all directions.  There is a strange monument in the center of the hall with circular slots and unusual symbols.  It reads:\n",
      "\n",
      "_ + _ * _^2 + _^3 - _ = 399\n",
      "\n",
      "There are 4 exits:\n",
      "- north\n",
      "- south\n",
      "- east\n",
      "- west\n",
      "\n",
      "What do you do?\n",
      "inv\n"
     ]
    },
    {
     "name": "stderr",
     "output_type": "stream",
     "text": [
      ">>> inv\n"
     ]
    },
    {
     "name": "stdout",
     "output_type": "stream",
     "text": [
      "\n",
      "\n",
      "Your inventory:\n",
      "- tablet\n",
      "- lit lantern\n",
      "- red coin\n",
      "- corroded coin\n",
      "- shiny coin\n",
      "- concave coin\n",
      "- blue coin\n",
      "\n",
      "What do you do?\n",
      "look red coin\n"
     ]
    },
    {
     "name": "stderr",
     "output_type": "stream",
     "text": [
      ">>> look red coin\n"
     ]
    },
    {
     "name": "stdout",
     "output_type": "stream",
     "text": [
      "\n",
      "\n",
      "This coin is made of a red metal.  It has two dots on one side.\n",
      "\n",
      "What do you do?\n",
      "look corroded coin\n"
     ]
    },
    {
     "name": "stderr",
     "output_type": "stream",
     "text": [
      ">>> look corroded coin\n"
     ]
    },
    {
     "name": "stdout",
     "output_type": "stream",
     "text": [
      "\n",
      "\n",
      "This coin is somewhat corroded.  It has a triangle on one side.\n",
      "\n",
      "What do you do?\n",
      "look shiny coin\n"
     ]
    },
    {
     "name": "stderr",
     "output_type": "stream",
     "text": [
      ">>> look shiny coin\n"
     ]
    },
    {
     "name": "stdout",
     "output_type": "stream",
     "text": [
      "\n",
      "\n",
      "This coin is somehow still quite shiny.  It has a pentagon on one side.\n",
      "\n",
      "What do you do?\n",
      "look blue coin\n"
     ]
    },
    {
     "name": "stderr",
     "output_type": "stream",
     "text": [
      ">>> look blue coin\n"
     ]
    },
    {
     "name": "stdout",
     "output_type": "stream",
     "text": [
      "\n",
      "\n",
      "This coin is made of a blue metal.  It has nine dots on one side.\n",
      "\n",
      "What do you do?\n",
      "look concave coin\n"
     ]
    },
    {
     "name": "stderr",
     "output_type": "stream",
     "text": [
      ">>> look concave coin\n"
     ]
    },
    {
     "name": "stdout",
     "output_type": "stream",
     "text": [
      "\n",
      "\n",
      "This coin is slightly rounded, almost like a tiny bowl.  It has seven dots on one side.\n",
      "\n",
      "What do you do?\n",
      "look\n"
     ]
    },
    {
     "name": "stderr",
     "output_type": "stream",
     "text": [
      ">>> look\n"
     ]
    },
    {
     "name": "stdout",
     "output_type": "stream",
     "text": [
      "\n",
      "\n",
      "== Ruins ==\n",
      "You stand in the massive central hall of these ruins.  The walls are crumbling, and vegetation has clearly taken over.  Rooms are attached in all directions.  There is a strange monument in the center of the hall with circular slots and unusual symbols.  It reads:\n",
      "\n",
      "_ + _ * _^2 + _^3 - _ = 399\n",
      "\n",
      "There are 4 exits:\n",
      "- north\n",
      "- south\n",
      "- east\n",
      "- west\n",
      "\n",
      "What do you do?\n",
      "use concave coin\n"
     ]
    },
    {
     "name": "stderr",
     "output_type": "stream",
     "text": [
      ">>> use concave coin\n"
     ]
    },
    {
     "name": "stdout",
     "output_type": "stream",
     "text": [
      "\n",
      "\n",
      "You place the concave coin into the leftmost open slot.\n",
      "\n",
      "What do you do?\n",
      "look\n"
     ]
    },
    {
     "name": "stderr",
     "output_type": "stream",
     "text": [
      ">>> look\n"
     ]
    },
    {
     "name": "stdout",
     "output_type": "stream",
     "text": [
      "\n",
      "\n",
      "== Ruins ==\n",
      "You stand in the massive central hall of these ruins.  The walls are crumbling, and vegetation has clearly taken over.  Rooms are attached in all directions.  There is a strange monument in the center of the hall with circular slots and unusual symbols.  It reads:\n",
      "\n",
      "7 + _ * _^2 + _^3 - _ = 399\n",
      "\n",
      "There are 4 exits:\n",
      "- north\n",
      "- south\n",
      "- east\n",
      "- west\n",
      "\n",
      "What do you do?\n",
      "take concave coin\n"
     ]
    },
    {
     "name": "stderr",
     "output_type": "stream",
     "text": [
      ">>> take concave coin\n"
     ]
    },
    {
     "name": "stdout",
     "output_type": "stream",
     "text": [
      "\n",
      "\n",
      "You see no such item here.\n",
      "\n",
      "What do you do?\n",
      "look\n"
     ]
    },
    {
     "name": "stderr",
     "output_type": "stream",
     "text": [
      ">>> look\n"
     ]
    },
    {
     "name": "stdout",
     "output_type": "stream",
     "text": [
      "\n",
      "\n",
      "== Ruins ==\n",
      "You stand in the massive central hall of these ruins.  The walls are crumbling, and vegetation has clearly taken over.  Rooms are attached in all directions.  There is a strange monument in the center of the hall with circular slots and unusual symbols.  It reads:\n",
      "\n",
      "7 + _ * _^2 + _^3 - _ = 399\n",
      "\n",
      "There are 4 exits:\n",
      "- north\n",
      "- south\n",
      "- east\n",
      "- west\n",
      "\n",
      "What do you do?\n",
      "look\n"
     ]
    },
    {
     "name": "stderr",
     "output_type": "stream",
     "text": [
      ">>> look\n"
     ]
    },
    {
     "name": "stdout",
     "output_type": "stream",
     "text": [
      "\n",
      "\n",
      "== Ruins ==\n",
      "You stand in the massive central hall of these ruins.  The walls are crumbling, and vegetation has clearly taken over.  Rooms are attached in all directions.  There is a strange monument in the center of the hall with circular slots and unusual symbols.  It reads:\n",
      "\n",
      "7 + _ * _^2 + _^3 - _ = 399\n",
      "\n",
      "There are 4 exits:\n",
      "- north\n",
      "- south\n",
      "- east\n",
      "- west\n",
      "\n",
      "What do you do?\n",
      "use red coin\n"
     ]
    },
    {
     "name": "stderr",
     "output_type": "stream",
     "text": [
      ">>> use red coin\n"
     ]
    },
    {
     "name": "stdout",
     "output_type": "stream",
     "text": [
      "\n",
      "\n",
      "You place the red coin into the leftmost open slot.\n",
      "\n",
      "What do you do?\n",
      "use blue coin\n"
     ]
    },
    {
     "name": "stderr",
     "output_type": "stream",
     "text": [
      ">>> use blue coin\n"
     ]
    },
    {
     "name": "stdout",
     "output_type": "stream",
     "text": [
      "\n",
      "\n",
      "You place the blue coin into the leftmost open slot.\n",
      "\n",
      "What do you do?\n",
      "use corroded coin\n"
     ]
    },
    {
     "name": "stderr",
     "output_type": "stream",
     "text": [
      ">>> use corroded coin\n"
     ]
    },
    {
     "name": "stdout",
     "output_type": "stream",
     "text": [
      "\n",
      "\n",
      "You place the corroded coin into the leftmost open slot.\n",
      "\n",
      "What do you do?\n",
      "use shiny coin\n"
     ]
    },
    {
     "name": "stderr",
     "output_type": "stream",
     "text": [
      ">>> use shiny coin\n"
     ]
    },
    {
     "name": "stdout",
     "output_type": "stream",
     "text": [
      "\n",
      "\n",
      "You place the shiny coin into the leftmost open slot.\n",
      "As you place the last coin, they are all released onto the floor.\n",
      "\n",
      "What do you do?\n",
      "look\n"
     ]
    },
    {
     "name": "stderr",
     "output_type": "stream",
     "text": [
      ">>> look\n"
     ]
    },
    {
     "name": "stdout",
     "output_type": "stream",
     "text": [
      "\n",
      "\n",
      "== Ruins ==\n",
      "You stand in the massive central hall of these ruins.  The walls are crumbling, and vegetation has clearly taken over.  Rooms are attached in all directions.  There is a strange monument in the center of the hall with circular slots and unusual symbols.  It reads:\n",
      "\n",
      "_ + _ * _^2 + _^3 - _ = 399\n",
      "\n",
      "Things of interest here:\n",
      "- red coin\n",
      "- corroded coin\n",
      "- shiny coin\n",
      "- concave coin\n",
      "- blue coin\n",
      "\n",
      "There are 4 exits:\n",
      "- north\n",
      "- south\n",
      "- east\n",
      "- west\n",
      "\n",
      "What do you do?\n",
      "look red coin\n"
     ]
    },
    {
     "name": "stderr",
     "output_type": "stream",
     "text": [
      ">>> look red coin\n"
     ]
    },
    {
     "name": "stdout",
     "output_type": "stream",
     "text": [
      "\n",
      "\n",
      "This coin is made of a red metal.  It has two dots on one side.\n",
      "\n",
      "What do you do?\n",
      "look corroded coin\n"
     ]
    },
    {
     "name": "stderr",
     "output_type": "stream",
     "text": [
      ">>> look corroded coin\n"
     ]
    },
    {
     "name": "stdout",
     "output_type": "stream",
     "text": [
      "\n",
      "\n",
      "This coin is somewhat corroded.  It has a triangle on one side.\n",
      "\n",
      "What do you do?\n",
      "look shiny coin\n"
     ]
    },
    {
     "name": "stderr",
     "output_type": "stream",
     "text": [
      ">>> look shiny coin\n"
     ]
    },
    {
     "name": "stdout",
     "output_type": "stream",
     "text": [
      "\n",
      "\n",
      "This coin is somehow still quite shiny.  It has a pentagon on one side.\n",
      "\n",
      "What do you do?\n",
      "look concave coin\n"
     ]
    },
    {
     "name": "stderr",
     "output_type": "stream",
     "text": [
      ">>> look concave coin\n"
     ]
    },
    {
     "name": "stdout",
     "output_type": "stream",
     "text": [
      "\n",
      "\n",
      "This coin is slightly rounded, almost like a tiny bowl.  It has seven dots on one side.\n",
      "\n",
      "What do you do?\n",
      "look blue coin\n"
     ]
    },
    {
     "name": "stderr",
     "output_type": "stream",
     "text": [
      ">>> look blue coin\n"
     ]
    },
    {
     "name": "stdout",
     "output_type": "stream",
     "text": [
      "\n",
      "\n",
      "This coin is made of a blue metal.  It has nine dots on one side.\n",
      "\n",
      "What do you do?\n",
      "use blue coin\n"
     ]
    },
    {
     "name": "stderr",
     "output_type": "stream",
     "text": [
      ">>> use blue coin\n"
     ]
    },
    {
     "name": "stdout",
     "output_type": "stream",
     "text": [
      "\n",
      "\n",
      "You can't find that in your pack.\n",
      "\n",
      "What do you do?\n",
      "take blue coin\n"
     ]
    },
    {
     "name": "stderr",
     "output_type": "stream",
     "text": [
      ">>> take blue coin\n"
     ]
    },
    {
     "name": "stdout",
     "output_type": "stream",
     "text": [
      "\n",
      "\n",
      "Taken.\n",
      "\n",
      "What do you do?\n",
      "use blue coin\n"
     ]
    },
    {
     "name": "stderr",
     "output_type": "stream",
     "text": [
      ">>> use blue coin\n"
     ]
    },
    {
     "name": "stdout",
     "output_type": "stream",
     "text": [
      "\n",
      "\n",
      "You place the blue coin into the leftmost open slot.\n",
      "\n",
      "What do you do?\n",
      "take red coin\n"
     ]
    },
    {
     "name": "stderr",
     "output_type": "stream",
     "text": [
      ">>> take red coin\n"
     ]
    },
    {
     "name": "stdout",
     "output_type": "stream",
     "text": [
      "\n",
      "\n",
      "Taken.\n",
      "\n",
      "What do you do?\n",
      "use red coin\n"
     ]
    },
    {
     "name": "stderr",
     "output_type": "stream",
     "text": [
      ">>> use red coin\n"
     ]
    },
    {
     "name": "stdout",
     "output_type": "stream",
     "text": [
      "\n",
      "\n",
      "You place the red coin into the leftmost open slot.\n",
      "\n",
      "What do you do?\n",
      "take shiny coin\n"
     ]
    },
    {
     "name": "stderr",
     "output_type": "stream",
     "text": [
      ">>> take shiny coin\n"
     ]
    },
    {
     "name": "stdout",
     "output_type": "stream",
     "text": [
      "\n",
      "\n",
      "Taken.\n",
      "\n",
      "What do you do?\n",
      "use shiny coin\n"
     ]
    },
    {
     "name": "stderr",
     "output_type": "stream",
     "text": [
      ">>> use shiny coin\n"
     ]
    },
    {
     "name": "stdout",
     "output_type": "stream",
     "text": [
      "\n",
      "\n",
      "You place the shiny coin into the leftmost open slot.\n",
      "\n",
      "What do you do?\n",
      "take concave coin\n"
     ]
    },
    {
     "name": "stderr",
     "output_type": "stream",
     "text": [
      ">>> take concave coin\n"
     ]
    },
    {
     "name": "stdout",
     "output_type": "stream",
     "text": [
      "\n",
      "\n",
      "Taken.\n",
      "\n",
      "What do you do?\n",
      "use concave coin\n"
     ]
    },
    {
     "name": "stderr",
     "output_type": "stream",
     "text": [
      ">>> use concave coin\n"
     ]
    },
    {
     "name": "stdout",
     "output_type": "stream",
     "text": [
      "\n",
      "\n",
      "You place the concave coin into the leftmost open slot.\n",
      "\n",
      "What do you do?\n",
      "take corroded coin\n"
     ]
    },
    {
     "name": "stderr",
     "output_type": "stream",
     "text": [
      ">>> take corroded coin\n"
     ]
    },
    {
     "name": "stdout",
     "output_type": "stream",
     "text": [
      "\n",
      "\n",
      "Taken.\n",
      "\n",
      "What do you do?\n",
      "use corroded coin\n"
     ]
    },
    {
     "name": "stderr",
     "output_type": "stream",
     "text": [
      ">>> use corroded coin\n"
     ]
    },
    {
     "name": "stdout",
     "output_type": "stream",
     "text": [
      "\n",
      "\n",
      "You place the corroded coin into the leftmost open slot.\n",
      "As you place the last coin, you hear a click from the north door.\n",
      "\n",
      "What do you do?\n",
      "look\n"
     ]
    },
    {
     "name": "stderr",
     "output_type": "stream",
     "text": [
      ">>> look\n"
     ]
    },
    {
     "name": "stdout",
     "output_type": "stream",
     "text": [
      "\n",
      "\n",
      "== Ruins ==\n",
      "You stand in the massive central hall of these ruins.  The walls are crumbling, and vegetation has clearly taken over.  Rooms are attached in all directions.  There is a strange monument in the center of the hall with circular slots and unusual symbols.  It reads:\n",
      "\n",
      "9 + 2 * 5^2 + 7^3 - 3 = 399\n",
      "\n",
      "There are 4 exits:\n",
      "- north\n",
      "- south\n",
      "- east\n",
      "- west\n",
      "\n",
      "What do you do?\n",
      "north\n"
     ]
    },
    {
     "name": "stderr",
     "output_type": "stream",
     "text": [
      ">>> north\n"
     ]
    },
    {
     "name": "stdout",
     "output_type": "stream",
     "text": [
      "\n",
      "\n",
      "== Ruins ==\n",
      "Because it has been so well-protected, this room hardly shows signs of decay.  The walls are covered in elaborate murals and decorated with precious metals and stones.\n",
      "\n",
      "Things of interest here:\n",
      "- teleporter\n",
      "\n",
      "There is 1 exit:\n",
      "- south\n",
      "\n",
      "What do you do?\n",
      "look\n"
     ]
    },
    {
     "name": "stderr",
     "output_type": "stream",
     "text": [
      ">>> look\n"
     ]
    },
    {
     "name": "stdout",
     "output_type": "stream",
     "text": [
      "\n",
      "\n",
      "== Ruins ==\n",
      "Because it has been so well-protected, this room hardly shows signs of decay.  The walls are covered in elaborate murals and decorated with precious metals and stones.\n",
      "\n",
      "Things of interest here:\n",
      "- teleporter\n",
      "\n",
      "There is 1 exit:\n",
      "- south\n",
      "\n",
      "What do you do?\n",
      "take teleporter\n"
     ]
    },
    {
     "name": "stderr",
     "output_type": "stream",
     "text": [
      ">>> take teleporter\n"
     ]
    },
    {
     "name": "stdout",
     "output_type": "stream",
     "text": [
      "\n",
      "\n",
      "Taken.\n",
      "\n",
      "What do you do?\n",
      "look\n"
     ]
    },
    {
     "name": "stderr",
     "output_type": "stream",
     "text": [
      ">>> look\n"
     ]
    },
    {
     "name": "stdout",
     "output_type": "stream",
     "text": [
      "\n",
      "\n",
      "== Ruins ==\n",
      "Because it has been so well-protected, this room hardly shows signs of decay.  The walls are covered in elaborate murals and decorated with precious metals and stones.\n",
      "\n",
      "There is 1 exit:\n",
      "- south\n",
      "\n",
      "What do you do?\n",
      "use teleporter\n"
     ]
    },
    {
     "name": "stderr",
     "output_type": "stream",
     "text": [
      ">>> use teleporter\n"
     ]
    },
    {
     "name": "stdout",
     "output_type": "stream",
     "text": [
      "\n",
      "\n",
      "You activate the teleporter!  As you spiral through time and space, you think you see a pattern in the stars...\n",
      "\n",
      "    poCIXNvCICFD\n",
      "\n",
      "After a few moments, you find yourself back on solid ground and a little disoriented.\n",
      "\n",
      "== Synacor Headquarters ==\n",
      "You stand in the lobby of what appears to be a really fun place to work!  Sadly, there doesn't seem to be anyone around at the moment, so you make a note to call them later.  The bookshelf here looks like it might have something interesting in it, though.\n",
      "\n",
      "Things of interest here:\n",
      "- business card\n",
      "- strange book\n",
      "\n",
      "There is 1 exit:\n",
      "- outside\n",
      "\n",
      "What do you do?\n",
      "look business card\n"
     ]
    },
    {
     "name": "stderr",
     "output_type": "stream",
     "text": [
      ">>> look business card\n"
     ]
    },
    {
     "name": "stdout",
     "output_type": "stream",
     "text": [
      "\n",
      "\n",
      "This business card has \"synacor.com\" printed in red on one side.\n",
      "\n",
      "What do you do?\n",
      "take business card\n"
     ]
    },
    {
     "name": "stderr",
     "output_type": "stream",
     "text": [
      ">>> take business card\n"
     ]
    },
    {
     "name": "stdout",
     "output_type": "stream",
     "text": [
      "\n",
      "\n",
      "Taken.\n",
      "\n",
      "What do you do?\n",
      "use business card\n"
     ]
    },
    {
     "name": "stderr",
     "output_type": "stream",
     "text": [
      ">>> use business card\n"
     ]
    },
    {
     "name": "stdout",
     "output_type": "stream",
     "text": [
      "\n",
      "\n",
      "You aren't sure how to use that.\n",
      "\n",
      "What do you do?\n",
      "take strange book\n"
     ]
    },
    {
     "name": "stderr",
     "output_type": "stream",
     "text": [
      ">>> take strange book\n"
     ]
    },
    {
     "name": "stdout",
     "output_type": "stream",
     "text": [
      "\n",
      "\n",
      "Taken.\n",
      "\n",
      "What do you do?\n",
      "look strange book\n"
     ]
    },
    {
     "name": "stderr",
     "output_type": "stream",
     "text": [
      ">>> look strange book\n"
     ]
    },
    {
     "name": "stdout",
     "output_type": "stream",
     "text": [
      "\n",
      "\n",
      "The cover of this book subtly swirls with colors.  It is titled \"A Brief Introduction to Interdimensional Physics\".  It reads:\n",
      "\n",
      "Recent advances in interdimensional physics have produced fascinating\n",
      "predictions about the fundamentals of our universe!  For example,\n",
      "interdimensional physics seems to predict that the universe is, at its root, a\n",
      "purely mathematical construct, and that all events are caused by the\n",
      "interactions between eight pockets of energy called \"registers\".\n",
      "Furthermore, it seems that while the lower registers primarily control mundane\n",
      "things like sound and light, the highest register (the so-called \"eighth\n",
      "register\") is used to control interdimensional events such as teleportation.\n",
      "\n",
      "A hypothetical such teleportation device would need to have have exactly two\n",
      "destinations.  One destination would be used when the eighth register is at its\n",
      "minimum energy level - this would be the default operation assuming the user\n",
      "has no way to control the eighth register.  In this situation, the teleporter\n",
      "should send the user to a preconfigured safe location as a default.\n",
      "\n",
      "The second destination, however, is predicted to require a very specific\n",
      "energy level in the eighth register.  The teleporter must take great care to\n",
      "confirm that this energy level is exactly correct before teleporting its user!\n",
      "If it is even slightly off, the user would (probably) arrive at the correct\n",
      "location, but would briefly experience anomalies in the fabric of reality\n",
      "itself - this is, of course, not recommended.  Any teleporter would need to test\n",
      "the energy level in the eighth register and abort teleportation if it is not\n",
      "exactly correct.\n",
      "\n",
      "This required precision implies that the confirmation mechanism would be very\n",
      "computationally expensive.  While this would likely not be an issue for large-\n",
      "scale teleporters, a hypothetical hand-held teleporter would take billions of\n",
      "years to compute the result and confirm that the eighth register is correct.\n",
      "\n",
      "If you find yourself trapped in an alternate dimension with nothing but a\n",
      "hand-held teleporter, you will need to extract the confirmation algorithm,\n",
      "reimplement it on more powerful hardware, and optimize it.  This should, at the\n",
      "very least, allow you to determine the value of the eighth register which would\n",
      "have been accepted by the teleporter's confirmation mechanism.\n",
      "\n",
      "Then, set the eighth register to this value, activate the teleporter, and\n",
      "bypass the confirmation mechanism.  If the eighth register is set correctly, no\n",
      "anomalies should be experienced, but beware - if it is set incorrectly, the\n",
      "now-bypassed confirmation mechanism will not protect you!\n",
      "\n",
      "Of course, since teleportation is impossible, this is all totally ridiculous.\n",
      "\n",
      "What do you do?\n",
      "look\n"
     ]
    },
    {
     "name": "stderr",
     "output_type": "stream",
     "text": [
      ">>> look\n"
     ]
    },
    {
     "name": "stdout",
     "output_type": "stream",
     "text": [
      "\n",
      "\n",
      "== Synacor Headquarters ==\n",
      "You stand in the lobby of what appears to be a really fun place to work!  Sadly, there doesn't seem to be anyone around at the moment, so you make a note to call them later.  The bookshelf here looks like it might have something interesting in it, though.\n",
      "\n",
      "There is 1 exit:\n",
      "- outside\n",
      "\n",
      "What do you do?\n",
      "go outside\n"
     ]
    },
    {
     "name": "stderr",
     "output_type": "stream",
     "text": [
      ">>> go outside\n"
     ]
    },
    {
     "name": "stdout",
     "output_type": "stream",
     "text": [
      "\n",
      "\n",
      "== Synacor Headquarters ==\n",
      "It's a warm, sunny day!  While the breeze from Lake Erie is certainly refreshing, you don't see anything here that will help you with your quest.\n",
      "\n",
      "There is 1 exit:\n",
      "- inside\n",
      "\n",
      "What do you do?\n",
      "look\n"
     ]
    },
    {
     "name": "stderr",
     "output_type": "stream",
     "text": [
      ">>> look\n"
     ]
    },
    {
     "name": "stdout",
     "output_type": "stream",
     "text": [
      "\n",
      "\n",
      "== Synacor Headquarters ==\n",
      "It's a warm, sunny day!  While the breeze from Lake Erie is certainly refreshing, you don't see anything here that will help you with your quest.\n",
      "\n",
      "There is 1 exit:\n",
      "- inside\n",
      "\n",
      "What do you do?\n",
      "go inside\n"
     ]
    },
    {
     "name": "stderr",
     "output_type": "stream",
     "text": [
      ">>> go inside\n"
     ]
    },
    {
     "name": "stdout",
     "output_type": "stream",
     "text": [
      "\n",
      "\n",
      "== Synacor Headquarters ==\n",
      "You stand in the lobby of what appears to be a really fun place to work!  Sadly, there doesn't seem to be anyone around at the moment, so you make a note to call them later.  The bookshelf here looks like it might have something interesting in it, though.\n",
      "\n",
      "There is 1 exit:\n",
      "- outside\n",
      "\n",
      "What do you do?\n",
      "inv\n"
     ]
    },
    {
     "name": "stderr",
     "output_type": "stream",
     "text": [
      ">>> inv\n"
     ]
    },
    {
     "name": "stdout",
     "output_type": "stream",
     "text": [
      "\n",
      "\n",
      "Your inventory:\n",
      "- tablet\n",
      "- lit lantern\n",
      "- teleporter\n",
      "- business card\n",
      "- strange book\n",
      "\n",
      "What do you do?\n",
      "look strange book\n"
     ]
    },
    {
     "name": "stderr",
     "output_type": "stream",
     "text": [
      ">>> look strange book\n"
     ]
    },
    {
     "name": "stdout",
     "output_type": "stream",
     "text": [
      "\n",
      "\n",
      "The cover of this book subtly swirls with colors.  It is titled \"A Brief Introduction to Interdimensional Physics\".  It reads:\n",
      "\n",
      "Recent advances in interdimensional physics have produced fascinating\n",
      "predictions about the fundamentals of our universe!  For example,\n",
      "interdimensional physics seems to predict that the universe is, at its root, a\n",
      "purely mathematical construct, and that all events are caused by the\n",
      "interactions between eight pockets of energy called \"registers\".\n",
      "Furthermore, it seems that while the lower registers primarily control mundane\n",
      "things like sound and light, the highest register (the so-called \"eighth\n",
      "register\") is used to control interdimensional events such as teleportation.\n",
      "\n",
      "A hypothetical such teleportation device would need to have have exactly two\n",
      "destinations.  One destination would be used when the eighth register is at its\n",
      "minimum energy level - this would be the default operation assuming the user\n",
      "has no way to control the eighth register.  In this situation, the teleporter\n",
      "should send the user to a preconfigured safe location as a default.\n",
      "\n",
      "The second destination, however, is predicted to require a very specific\n",
      "energy level in the eighth register.  The teleporter must take great care to\n",
      "confirm that this energy level is exactly correct before teleporting its user!\n",
      "If it is even slightly off, the user would (probably) arrive at the correct\n",
      "location, but would briefly experience anomalies in the fabric of reality\n",
      "itself - this is, of course, not recommended.  Any teleporter would need to test\n",
      "the energy level in the eighth register and abort teleportation if it is not\n",
      "exactly correct.\n",
      "\n",
      "This required precision implies that the confirmation mechanism would be very\n",
      "computationally expensive.  While this would likely not be an issue for large-\n",
      "scale teleporters, a hypothetical hand-held teleporter would take billions of\n",
      "years to compute the result and confirm that the eighth register is correct.\n",
      "\n",
      "If you find yourself trapped in an alternate dimension with nothing but a\n",
      "hand-held teleporter, you will need to extract the confirmation algorithm,\n",
      "reimplement it on more powerful hardware, and optimize it.  This should, at the\n",
      "very least, allow you to determine the value of the eighth register which would\n",
      "have been accepted by the teleporter's confirmation mechanism.\n",
      "\n",
      "Then, set the eighth register to this value, activate the teleporter, and\n",
      "bypass the confirmation mechanism.  If the eighth register is set correctly, no\n",
      "anomalies should be experienced, but beware - if it is set incorrectly, the\n",
      "now-bypassed confirmation mechanism will not protect you!\n",
      "\n",
      "Of course, since teleportation is impossible, this is all totally ridiculous.\n",
      "\n",
      "What do you do?\n"
     ]
    },
    {
     "ename": "KeyboardInterrupt",
     "evalue": "",
     "output_type": "error",
     "traceback": [
      "\u001b[0;31m---------------------------------------------------------------------------\u001b[0m",
      "\u001b[0;31mKeyboardInterrupt\u001b[0m                         Traceback (most recent call last)",
      "\u001b[0;32m/usr/lib/python3.6/site-packages/ipykernel/kernelbase.py\u001b[0m in \u001b[0;36m_input_request\u001b[0;34m(self, prompt, ident, parent, password)\u001b[0m\n\u001b[1;32m    729\u001b[0m             \u001b[0;32mtry\u001b[0m\u001b[0;34m:\u001b[0m\u001b[0;34m\u001b[0m\u001b[0m\n\u001b[0;32m--> 730\u001b[0;31m                 \u001b[0mident\u001b[0m\u001b[0;34m,\u001b[0m \u001b[0mreply\u001b[0m \u001b[0;34m=\u001b[0m \u001b[0mself\u001b[0m\u001b[0;34m.\u001b[0m\u001b[0msession\u001b[0m\u001b[0;34m.\u001b[0m\u001b[0mrecv\u001b[0m\u001b[0;34m(\u001b[0m\u001b[0mself\u001b[0m\u001b[0;34m.\u001b[0m\u001b[0mstdin_socket\u001b[0m\u001b[0;34m,\u001b[0m \u001b[0;36m0\u001b[0m\u001b[0;34m)\u001b[0m\u001b[0;34m\u001b[0m\u001b[0m\n\u001b[0m\u001b[1;32m    731\u001b[0m             \u001b[0;32mexcept\u001b[0m \u001b[0mException\u001b[0m\u001b[0;34m:\u001b[0m\u001b[0;34m\u001b[0m\u001b[0m\n",
      "\u001b[0;32m/usr/lib/python3.6/site-packages/jupyter_client/session.py\u001b[0m in \u001b[0;36mrecv\u001b[0;34m(self, socket, mode, content, copy)\u001b[0m\n\u001b[1;32m    795\u001b[0m         \u001b[0;32mtry\u001b[0m\u001b[0;34m:\u001b[0m\u001b[0;34m\u001b[0m\u001b[0m\n\u001b[0;32m--> 796\u001b[0;31m             \u001b[0mmsg_list\u001b[0m \u001b[0;34m=\u001b[0m \u001b[0msocket\u001b[0m\u001b[0;34m.\u001b[0m\u001b[0mrecv_multipart\u001b[0m\u001b[0;34m(\u001b[0m\u001b[0mmode\u001b[0m\u001b[0;34m,\u001b[0m \u001b[0mcopy\u001b[0m\u001b[0;34m=\u001b[0m\u001b[0mcopy\u001b[0m\u001b[0;34m)\u001b[0m\u001b[0;34m\u001b[0m\u001b[0m\n\u001b[0m\u001b[1;32m    797\u001b[0m         \u001b[0;32mexcept\u001b[0m \u001b[0mzmq\u001b[0m\u001b[0;34m.\u001b[0m\u001b[0mZMQError\u001b[0m \u001b[0;32mas\u001b[0m \u001b[0me\u001b[0m\u001b[0;34m:\u001b[0m\u001b[0;34m\u001b[0m\u001b[0m\n",
      "\u001b[0;32m/usr/lib/python3.6/site-packages/zmq/sugar/socket.py\u001b[0m in \u001b[0;36mrecv_multipart\u001b[0;34m(self, flags, copy, track)\u001b[0m\n\u001b[1;32m    394\u001b[0m         \"\"\"\n\u001b[0;32m--> 395\u001b[0;31m         \u001b[0mparts\u001b[0m \u001b[0;34m=\u001b[0m \u001b[0;34m[\u001b[0m\u001b[0mself\u001b[0m\u001b[0;34m.\u001b[0m\u001b[0mrecv\u001b[0m\u001b[0;34m(\u001b[0m\u001b[0mflags\u001b[0m\u001b[0;34m,\u001b[0m \u001b[0mcopy\u001b[0m\u001b[0;34m=\u001b[0m\u001b[0mcopy\u001b[0m\u001b[0;34m,\u001b[0m \u001b[0mtrack\u001b[0m\u001b[0;34m=\u001b[0m\u001b[0mtrack\u001b[0m\u001b[0;34m)\u001b[0m\u001b[0;34m]\u001b[0m\u001b[0;34m\u001b[0m\u001b[0m\n\u001b[0m\u001b[1;32m    396\u001b[0m         \u001b[0;31m# have first part already, only loop while more to receive\u001b[0m\u001b[0;34m\u001b[0m\u001b[0;34m\u001b[0m\u001b[0m\n",
      "\u001b[0;32mzmq/backend/cython/socket.pyx\u001b[0m in \u001b[0;36mzmq.backend.cython.socket.Socket.recv\u001b[0;34m()\u001b[0m\n",
      "\u001b[0;32mzmq/backend/cython/socket.pyx\u001b[0m in \u001b[0;36mzmq.backend.cython.socket.Socket.recv\u001b[0;34m()\u001b[0m\n",
      "\u001b[0;32mzmq/backend/cython/socket.pyx\u001b[0m in \u001b[0;36mzmq.backend.cython.socket._recv_copy\u001b[0;34m()\u001b[0m\n",
      "\u001b[0;32m/usr/lib/python3.6/site-packages/zmq/backend/cython/checkrc.pxd\u001b[0m in \u001b[0;36mzmq.backend.cython.checkrc._check_rc\u001b[0;34m()\u001b[0m\n",
      "\u001b[0;31mKeyboardInterrupt\u001b[0m: ",
      "\nDuring handling of the above exception, another exception occurred:\n",
      "\u001b[0;31mKeyboardInterrupt\u001b[0m                         Traceback (most recent call last)",
      "\u001b[0;32m<ipython-input-115-534a7576a99a>\u001b[0m in \u001b[0;36m<module>\u001b[0;34m()\u001b[0m\n\u001b[1;32m      1\u001b[0m \u001b[0mc\u001b[0m \u001b[0;34m=\u001b[0m \u001b[0mcomputer\u001b[0m\u001b[0;34m.\u001b[0m\u001b[0mComputer\u001b[0m\u001b[0;34m(\u001b[0m\u001b[0;34m)\u001b[0m\u001b[0;34m\u001b[0m\u001b[0m\n\u001b[1;32m      2\u001b[0m \u001b[0mc\u001b[0m\u001b[0;34m.\u001b[0m\u001b[0mload\u001b[0m\u001b[0;34m(\u001b[0m\u001b[0;34m'challenge.bin'\u001b[0m\u001b[0;34m)\u001b[0m\u001b[0;34m\u001b[0m\u001b[0m\n\u001b[0;32m----> 3\u001b[0;31m \u001b[0mc\u001b[0m\u001b[0;34m.\u001b[0m\u001b[0mrun\u001b[0m\u001b[0;34m(\u001b[0m\u001b[0;34m)\u001b[0m\u001b[0;34m\u001b[0m\u001b[0m\n\u001b[0m",
      "\u001b[0;32m~/dev/synacor-challenge/computer.py\u001b[0m in \u001b[0;36mrun\u001b[0;34m(self, num_steps, istream, ostream)\u001b[0m\n\u001b[1;32m    194\u001b[0m             \u001b[0mself\u001b[0m\u001b[0;34m.\u001b[0m\u001b[0mostream\u001b[0m \u001b[0;34m=\u001b[0m \u001b[0mostream\u001b[0m\u001b[0;34m\u001b[0m\u001b[0m\n\u001b[1;32m    195\u001b[0m         \u001b[0;32mfor\u001b[0m \u001b[0m_\u001b[0m \u001b[0;32min\u001b[0m \u001b[0;34m(\u001b[0m\u001b[0mitertools\u001b[0m\u001b[0;34m.\u001b[0m\u001b[0mcount\u001b[0m\u001b[0;34m(\u001b[0m\u001b[0;34m)\u001b[0m \u001b[0;32mif\u001b[0m \u001b[0mnum_steps\u001b[0m \u001b[0;32mis\u001b[0m \u001b[0;32mNone\u001b[0m \u001b[0;32melse\u001b[0m \u001b[0mrange\u001b[0m\u001b[0;34m(\u001b[0m\u001b[0mnum_steps\u001b[0m\u001b[0;34m)\u001b[0m\u001b[0;34m)\u001b[0m\u001b[0;34m:\u001b[0m\u001b[0;34m\u001b[0m\u001b[0m\n\u001b[0;32m--> 196\u001b[0;31m             \u001b[0mself\u001b[0m\u001b[0;34m.\u001b[0m\u001b[0mstep\u001b[0m\u001b[0;34m(\u001b[0m\u001b[0;34m)\u001b[0m\u001b[0;34m\u001b[0m\u001b[0m\n\u001b[0m",
      "\u001b[0;32m~/dev/synacor-challenge/computer.py\u001b[0m in \u001b[0;36mstep\u001b[0;34m(self)\u001b[0m\n\u001b[1;32m    184\u001b[0m         \u001b[0mself\u001b[0m\u001b[0;34m.\u001b[0m\u001b[0meip\u001b[0m \u001b[0;34m+=\u001b[0m \u001b[0mop\u001b[0m\u001b[0;34m.\u001b[0m\u001b[0mnargs\u001b[0m\u001b[0;34m\u001b[0m\u001b[0m\n\u001b[1;32m    185\u001b[0m \u001b[0;34m\u001b[0m\u001b[0m\n\u001b[0;32m--> 186\u001b[0;31m         \u001b[0mneip\u001b[0m \u001b[0;34m=\u001b[0m \u001b[0mop\u001b[0m\u001b[0;34m(\u001b[0m\u001b[0;34m*\u001b[0m\u001b[0margs\u001b[0m\u001b[0;34m)\u001b[0m\u001b[0;34m\u001b[0m\u001b[0m\n\u001b[0m\u001b[1;32m    187\u001b[0m         \u001b[0;32mif\u001b[0m \u001b[0mneip\u001b[0m \u001b[0;32mis\u001b[0m \u001b[0;32mnot\u001b[0m \u001b[0;32mNone\u001b[0m\u001b[0;34m:\u001b[0m\u001b[0;34m\u001b[0m\u001b[0m\n\u001b[1;32m    188\u001b[0m             \u001b[0mself\u001b[0m\u001b[0;34m.\u001b[0m\u001b[0meip\u001b[0m \u001b[0;34m=\u001b[0m \u001b[0mneip\u001b[0m\u001b[0;34m\u001b[0m\u001b[0m\n",
      "\u001b[0;32m~/dev/synacor-challenge/computer.py\u001b[0m in \u001b[0;36m__call__\u001b[0;34m(self, instance, *args, **kwargs)\u001b[0m\n\u001b[1;32m    141\u001b[0m             \u001b[0mself\u001b[0m\u001b[0;34m.\u001b[0m\u001b[0mfn\u001b[0m \u001b[0;34m=\u001b[0m \u001b[0mfn\u001b[0m\u001b[0;34m\u001b[0m\u001b[0m\n\u001b[1;32m    142\u001b[0m         \u001b[0;32mdef\u001b[0m \u001b[0m__call__\u001b[0m\u001b[0;34m(\u001b[0m\u001b[0mself\u001b[0m\u001b[0;34m,\u001b[0m \u001b[0minstance\u001b[0m\u001b[0;34m,\u001b[0m \u001b[0;34m*\u001b[0m\u001b[0margs\u001b[0m\u001b[0;34m,\u001b[0m \u001b[0;34m**\u001b[0m\u001b[0mkwargs\u001b[0m\u001b[0;34m)\u001b[0m\u001b[0;34m:\u001b[0m\u001b[0;34m\u001b[0m\u001b[0m\n\u001b[0;32m--> 143\u001b[0;31m             \u001b[0;32mreturn\u001b[0m \u001b[0mself\u001b[0m\u001b[0;34m.\u001b[0m\u001b[0mfn\u001b[0m\u001b[0;34m(\u001b[0m\u001b[0minstance\u001b[0m\u001b[0;34m,\u001b[0m \u001b[0;34m*\u001b[0m\u001b[0margs\u001b[0m\u001b[0;34m,\u001b[0m \u001b[0;34m**\u001b[0m\u001b[0mkwargs\u001b[0m\u001b[0;34m)\u001b[0m\u001b[0;34m\u001b[0m\u001b[0m\n\u001b[0m\u001b[1;32m    144\u001b[0m         \u001b[0;32mdef\u001b[0m \u001b[0m__get__\u001b[0m\u001b[0;34m(\u001b[0m\u001b[0mself\u001b[0m\u001b[0;34m,\u001b[0m \u001b[0minstance\u001b[0m\u001b[0;34m,\u001b[0m \u001b[0mowner\u001b[0m\u001b[0;34m)\u001b[0m\u001b[0;34m:\u001b[0m\u001b[0;34m\u001b[0m\u001b[0m\n\u001b[1;32m    145\u001b[0m             \u001b[0;32mreturn\u001b[0m \u001b[0mMethodType\u001b[0m\u001b[0;34m(\u001b[0m\u001b[0mself\u001b[0m\u001b[0;34m,\u001b[0m \u001b[0minstance\u001b[0m\u001b[0;34m)\u001b[0m \u001b[0;32mif\u001b[0m \u001b[0minstance\u001b[0m \u001b[0;32melse\u001b[0m \u001b[0mself\u001b[0m\u001b[0;34m\u001b[0m\u001b[0m\n",
      "\u001b[0;32m~/dev/synacor-challenge/computer.py\u001b[0m in \u001b[0;36mop_in\u001b[0;34m(self, a)\u001b[0m\n\u001b[1;32m    121\u001b[0m         \u001b[0;32mif\u001b[0m \u001b[0;32mnot\u001b[0m \u001b[0mself\u001b[0m\u001b[0;34m.\u001b[0m\u001b[0mcur_line\u001b[0m\u001b[0;34m:\u001b[0m\u001b[0;34m\u001b[0m\u001b[0m\n\u001b[1;32m    122\u001b[0m             \u001b[0;32mif\u001b[0m \u001b[0mself\u001b[0m\u001b[0;34m.\u001b[0m\u001b[0mistream\u001b[0m \u001b[0;32mis\u001b[0m \u001b[0msys\u001b[0m\u001b[0;34m.\u001b[0m\u001b[0mstdin\u001b[0m\u001b[0;34m:\u001b[0m\u001b[0;34m\u001b[0m\u001b[0m\n\u001b[0;32m--> 123\u001b[0;31m                 \u001b[0mself\u001b[0m\u001b[0;34m.\u001b[0m\u001b[0mcur_line\u001b[0m \u001b[0;34m=\u001b[0m \u001b[0minput\u001b[0m\u001b[0;34m(\u001b[0m\u001b[0;34m)\u001b[0m \u001b[0;34m+\u001b[0m \u001b[0;34m'\\n'\u001b[0m\u001b[0;34m\u001b[0m\u001b[0m\n\u001b[0m\u001b[1;32m    124\u001b[0m             \u001b[0;32melse\u001b[0m\u001b[0;34m:\u001b[0m\u001b[0;34m\u001b[0m\u001b[0m\n\u001b[1;32m    125\u001b[0m                 \u001b[0mself\u001b[0m\u001b[0;34m.\u001b[0m\u001b[0mcur_line\u001b[0m \u001b[0;34m=\u001b[0m \u001b[0mself\u001b[0m\u001b[0;34m.\u001b[0m\u001b[0mistream\u001b[0m\u001b[0;34m.\u001b[0m\u001b[0mreadline\u001b[0m\u001b[0;34m(\u001b[0m\u001b[0;34m)\u001b[0m\u001b[0;34m\u001b[0m\u001b[0m\n",
      "\u001b[0;32m/usr/lib/python3.6/site-packages/ipykernel/kernelbase.py\u001b[0m in \u001b[0;36mraw_input\u001b[0;34m(self, prompt)\u001b[0m\n\u001b[1;32m    703\u001b[0m             \u001b[0mself\u001b[0m\u001b[0;34m.\u001b[0m\u001b[0m_parent_ident\u001b[0m\u001b[0;34m,\u001b[0m\u001b[0;34m\u001b[0m\u001b[0m\n\u001b[1;32m    704\u001b[0m             \u001b[0mself\u001b[0m\u001b[0;34m.\u001b[0m\u001b[0m_parent_header\u001b[0m\u001b[0;34m,\u001b[0m\u001b[0;34m\u001b[0m\u001b[0m\n\u001b[0;32m--> 705\u001b[0;31m             \u001b[0mpassword\u001b[0m\u001b[0;34m=\u001b[0m\u001b[0;32mFalse\u001b[0m\u001b[0;34m,\u001b[0m\u001b[0;34m\u001b[0m\u001b[0m\n\u001b[0m\u001b[1;32m    706\u001b[0m         )\n\u001b[1;32m    707\u001b[0m \u001b[0;34m\u001b[0m\u001b[0m\n",
      "\u001b[0;32m/usr/lib/python3.6/site-packages/ipykernel/kernelbase.py\u001b[0m in \u001b[0;36m_input_request\u001b[0;34m(self, prompt, ident, parent, password)\u001b[0m\n\u001b[1;32m    733\u001b[0m             \u001b[0;32mexcept\u001b[0m \u001b[0mKeyboardInterrupt\u001b[0m\u001b[0;34m:\u001b[0m\u001b[0;34m\u001b[0m\u001b[0m\n\u001b[1;32m    734\u001b[0m                 \u001b[0;31m# re-raise KeyboardInterrupt, to truncate traceback\u001b[0m\u001b[0;34m\u001b[0m\u001b[0;34m\u001b[0m\u001b[0m\n\u001b[0;32m--> 735\u001b[0;31m                 \u001b[0;32mraise\u001b[0m \u001b[0mKeyboardInterrupt\u001b[0m\u001b[0;34m\u001b[0m\u001b[0m\n\u001b[0m\u001b[1;32m    736\u001b[0m             \u001b[0;32melse\u001b[0m\u001b[0;34m:\u001b[0m\u001b[0;34m\u001b[0m\u001b[0m\n\u001b[1;32m    737\u001b[0m                 \u001b[0;32mbreak\u001b[0m\u001b[0;34m\u001b[0m\u001b[0m\n",
      "\u001b[0;31mKeyboardInterrupt\u001b[0m: "
     ]
    }
   ],
   "source": [
    "c = computer.Computer()\n",
    "c.load('challenge.bin')\n",
    "c.run()"
   ]
  },
  {
   "cell_type": "code",
   "execution_count": 120,
   "metadata": {},
   "outputs": [
    {
     "name": "stdout",
     "output_type": "stream",
     "text": [
      "Welcome to the Synacor Challenge!\n",
      "Please record your progress by putting codes like\n",
      "this one into the challenge website: omOdvXeQsntd\n",
      "\n",
      "Executing self-test...\n",
      "\n",
      "self-test complete, all tests pass\n",
      "The self-test completion code is: MKwBjhCceLVr\n",
      "\n",
      "== Foothills ==\n",
      "You find yourself standing at the base of an enormous mountain.  At its base to the north, there is a massive doorway.  A sign nearby reads \"Keep out!  Definitely no treasure within!\"\n",
      "\n",
      "Things of interest here:\n",
      "- tablet\n",
      "\n",
      "There are 2 exits:\n",
      "- doorway\n",
      "- south\n",
      "\n",
      "What do you do?\n"
     ]
    },
    {
     "name": "stderr",
     "output_type": "stream",
     "text": [
      ">>> take tablet\n"
     ]
    },
    {
     "name": "stdout",
     "output_type": "stream",
     "text": [
      "\n",
      "\n",
      "Taken.\n",
      "\n",
      "What do you do?\n"
     ]
    },
    {
     "name": "stderr",
     "output_type": "stream",
     "text": [
      ">>> use tablet\n"
     ]
    },
    {
     "name": "stdout",
     "output_type": "stream",
     "text": [
      "\n",
      "\n",
      "You find yourself writing \"SDejwHYBcpaR\" on the tablet.  Perhaps it's some kind of code?\n",
      "\n",
      "\n",
      "What do you do?\n"
     ]
    },
    {
     "name": "stderr",
     "output_type": "stream",
     "text": [
      ">>> doorway\n"
     ]
    },
    {
     "name": "stdout",
     "output_type": "stream",
     "text": [
      "\n",
      "\n",
      "== Dark cave ==\n",
      "This seems to be the mouth of a deep cave.  As you peer north into the darkness, you think you hear the echoes of bats deeper within.\n",
      "\n",
      "There are 2 exits:\n",
      "- north\n",
      "- south\n",
      "\n",
      "What do you do?\n"
     ]
    },
    {
     "name": "stderr",
     "output_type": "stream",
     "text": [
      ">>> north\n"
     ]
    },
    {
     "name": "stdout",
     "output_type": "stream",
     "text": [
      "\n",
      "\n",
      "== Dark cave ==\n",
      "The cave is somewhat narrow here, and the light from the doorway to the south is quite dim.\n",
      "\n",
      "There are 2 exits:\n",
      "- north\n",
      "- south\n",
      "\n",
      "What do you do?\n"
     ]
    },
    {
     "name": "stderr",
     "output_type": "stream",
     "text": [
      ">>> north\n"
     ]
    },
    {
     "name": "stdout",
     "output_type": "stream",
     "text": [
      "\n",
      "\n",
      "== Dark cave ==\n",
      "The cave acoustics dramatically change as you find yourself at a legde above a large chasm.  There is barely enough light here to notice a rope bridge leading out into the dark emptiness.\n",
      "\n",
      "There are 2 exits:\n",
      "- bridge\n",
      "- south\n",
      "\n",
      "What do you do?\n"
     ]
    },
    {
     "name": "stderr",
     "output_type": "stream",
     "text": [
      ">>> bridge\n"
     ]
    },
    {
     "name": "stdout",
     "output_type": "stream",
     "text": [
      "\n",
      "\n",
      "== Rope bridge ==\n",
      "This rope bridge creaks as you walk along it.  You aren't sure how old it is, or whether it can even support your weight.\n",
      "\n",
      "There are 2 exits:\n",
      "- continue\n",
      "- back\n",
      "\n",
      "What do you do?\n"
     ]
    },
    {
     "name": "stderr",
     "output_type": "stream",
     "text": [
      ">>> continue\n"
     ]
    },
    {
     "name": "stdout",
     "output_type": "stream",
     "text": [
      "\n",
      "\n",
      "== Falling through the air! ==\n",
      "As you continue along the bridge, it snaps!  You try to grab the bridge, but it evades your grasp in the darkness.  You are plummeting quickly downward into the chasm...\n",
      "\n",
      "There is 1 exit:\n",
      "- down\n",
      "\n",
      "What do you do?\n"
     ]
    },
    {
     "name": "stderr",
     "output_type": "stream",
     "text": [
      ">>> down\n"
     ]
    },
    {
     "name": "stdout",
     "output_type": "stream",
     "text": [
      "\n",
      "\n",
      "== Moss cavern ==\n",
      "You are standing in a large cavern full of bioluminescent moss.  It must have broken your fall!  The cavern extends to the east and west; at the west end, you think you see a passage leading out of the cavern.\n",
      "\n",
      "There are 2 exits:\n",
      "- west\n",
      "- east\n",
      "\n",
      "What do you do?\n"
     ]
    },
    {
     "name": "stderr",
     "output_type": "stream",
     "text": [
      ">>> east\n"
     ]
    },
    {
     "name": "stdout",
     "output_type": "stream",
     "text": [
      "\n",
      "\n",
      "== Moss cavern ==\n",
      "You are standing in a large cavern full of bioluminescent moss.  The cavern extends to the west.\n",
      "\n",
      "Things of interest here:\n",
      "- empty lantern\n",
      "\n",
      "There is 1 exit:\n",
      "- west\n",
      "\n",
      "What do you do?\n"
     ]
    },
    {
     "name": "stderr",
     "output_type": "stream",
     "text": [
      ">>> take empty lantern\n"
     ]
    },
    {
     "name": "stdout",
     "output_type": "stream",
     "text": [
      "\n",
      "\n",
      "Taken.\n",
      "\n",
      "What do you do?\n"
     ]
    },
    {
     "name": "stderr",
     "output_type": "stream",
     "text": [
      ">>> west\n"
     ]
    },
    {
     "name": "stdout",
     "output_type": "stream",
     "text": [
      "\n",
      "\n",
      "== Moss cavern ==\n",
      "You are standing in a large cavern full of bioluminescent moss.  It must have broken your fall!  The cavern extends to the east and west; at the west end, you think you see a passage leading out of the cavern.\n",
      "\n",
      "There are 2 exits:\n",
      "- west\n",
      "- east\n",
      "\n",
      "What do you do?\n"
     ]
    },
    {
     "name": "stderr",
     "output_type": "stream",
     "text": [
      ">>> west\n"
     ]
    },
    {
     "name": "stdout",
     "output_type": "stream",
     "text": [
      "\n",
      "\n",
      "== Moss cavern ==\n",
      "You are standing in a large cavern full of bioluminescent moss.  The cavern extends to the east.  There is a crevise in the rocks which opens into a passage.\n",
      "\n",
      "There are 2 exits:\n",
      "- east\n",
      "- passage\n",
      "\n",
      "What do you do?\n"
     ]
    },
    {
     "name": "stderr",
     "output_type": "stream",
     "text": [
      ">>> passage\n"
     ]
    },
    {
     "name": "stdout",
     "output_type": "stream",
     "text": [
      "\n",
      "\n",
      "== Passage ==\n",
      "You are in a crevise on the west wall of the moss cavern.  A dark passage leads further west.  There is a ladder here which leads down into a smaller, moss-filled cavern below.\n",
      "\n",
      "There are 3 exits:\n",
      "- cavern\n",
      "- ladder\n",
      "- darkness\n",
      "\n",
      "What do you do?\n"
     ]
    },
    {
     "name": "stderr",
     "output_type": "stream",
     "text": [
      ">>> ladder\n"
     ]
    },
    {
     "name": "stdout",
     "output_type": "stream",
     "text": [
      "\n",
      "\n",
      "== Twisty passages ==\n",
      "You are in a maze of twisty little passages, all dimly lit by more bioluminescent moss.  There is a ladder here leading up.\n",
      "\n",
      "There are 5 exits:\n",
      "- ladder\n",
      "- north\n",
      "- south\n",
      "- east\n",
      "- west\n",
      "\n",
      "What do you do?\n"
     ]
    },
    {
     "name": "stderr",
     "output_type": "stream",
     "text": [
      ">>> west\n"
     ]
    },
    {
     "name": "stdout",
     "output_type": "stream",
     "text": [
      "\n",
      "\n",
      "== Twisty passages ==\n",
      "You are in a little maze of twisty passages, all alike.\n",
      "\n",
      "There are 3 exits:\n",
      "- north\n",
      "- south\n",
      "- east\n",
      "\n",
      "What do you do?\n"
     ]
    },
    {
     "name": "stderr",
     "output_type": "stream",
     "text": [
      ">>> south\n"
     ]
    },
    {
     "name": "stdout",
     "output_type": "stream",
     "text": [
      "\n",
      "\n",
      "== Twisty passages ==\n",
      "You are in a twisty alike of little passages, all maze.\n",
      "\n",
      "The east passage appears very dark; you feel likely to be eaten by a Grue.\n",
      "\n",
      "There are 4 exits:\n",
      "- north\n",
      "- south\n",
      "- west\n",
      "- east\n",
      "\n",
      "What do you do?\n"
     ]
    },
    {
     "name": "stderr",
     "output_type": "stream",
     "text": [
      ">>> north\n"
     ]
    },
    {
     "name": "stdout",
     "output_type": "stream",
     "text": [
      "\n",
      "\n",
      "Chiseled on the wall of one of the passageways, you see:\n",
      "\n",
      "    aiEbrVscqNRb\n",
      "\n",
      "You take note of this and keep walking.\n",
      "\n",
      "== Twisty passages ==\n",
      "You are in a maze of twisty little passages, all alike.\n",
      "\n",
      "Things of interest here:\n",
      "- can\n",
      "\n",
      "There is 1 exit:\n",
      "- west\n",
      "\n",
      "What do you do?\n"
     ]
    },
    {
     "name": "stderr",
     "output_type": "stream",
     "text": [
      ">>> take can\n"
     ]
    },
    {
     "name": "stdout",
     "output_type": "stream",
     "text": [
      "\n",
      "\n",
      "Taken.\n",
      "\n",
      "What do you do?\n"
     ]
    },
    {
     "name": "stderr",
     "output_type": "stream",
     "text": [
      ">>> use can\n"
     ]
    },
    {
     "name": "stdout",
     "output_type": "stream",
     "text": [
      "\n",
      "\n",
      "You fill your lantern with oil.  It seems to cheer up!\n",
      "\n",
      "\n",
      "What do you do?\n"
     ]
    },
    {
     "name": "stderr",
     "output_type": "stream",
     "text": [
      ">>> use lantern\n"
     ]
    },
    {
     "name": "stdout",
     "output_type": "stream",
     "text": [
      "\n",
      "\n",
      "You light your lantern.\n",
      "\n",
      "== Twisty passages ==\n",
      "You are in a maze of twisty little passages, all alike.\n",
      "\n",
      "There is 1 exit:\n",
      "- west\n",
      "\n",
      "What do you do?\n"
     ]
    },
    {
     "name": "stderr",
     "output_type": "stream",
     "text": [
      ">>> west\n"
     ]
    },
    {
     "name": "stdout",
     "output_type": "stream",
     "text": [
      "\n",
      "\n",
      "== Twisty passages ==\n",
      "You are in a maze of twisty little passages, all dimly lit by more bioluminescent moss.  There is a ladder here leading up.\n",
      "\n",
      "There are 5 exits:\n",
      "- ladder\n",
      "- north\n",
      "- south\n",
      "- east\n",
      "- west\n",
      "\n",
      "What do you do?\n"
     ]
    },
    {
     "name": "stderr",
     "output_type": "stream",
     "text": [
      ">>> ladder\n"
     ]
    },
    {
     "name": "stdout",
     "output_type": "stream",
     "text": [
      "\n",
      "\n",
      "== Passage ==\n",
      "You are in a crevise on the west wall of the moss cavern.  A dark passage leads further west.  There is a ladder here which leads down into a smaller, moss-filled cavern below.\n",
      "\n",
      "There are 3 exits:\n",
      "- cavern\n",
      "- ladder\n",
      "- darkness\n",
      "\n",
      "What do you do?\n"
     ]
    },
    {
     "name": "stderr",
     "output_type": "stream",
     "text": [
      ">>> darkness\n"
     ]
    },
    {
     "name": "stdout",
     "output_type": "stream",
     "text": [
      "\n",
      "\n",
      "== Passage ==\n",
      "You feel that your light source is more than sufficient to keep grues away.\n",
      "\n",
      "There are 2 exits:\n",
      "- continue\n",
      "- back\n",
      "\n",
      "What do you do?\n"
     ]
    },
    {
     "name": "stderr",
     "output_type": "stream",
     "text": [
      ">>> continue\n"
     ]
    },
    {
     "name": "stdout",
     "output_type": "stream",
     "text": [
      "\n",
      "\n",
      "== Dark passage ==\n",
      "You are in a narrow passage.  There is darkness to the west, but you can barely see a glowing opening to the east.\n",
      "\n",
      "There are 2 exits:\n",
      "- west\n",
      "- east\n",
      "\n",
      "What do you do?\n"
     ]
    },
    {
     "name": "stderr",
     "output_type": "stream",
     "text": [
      ">>> west\n"
     ]
    },
    {
     "name": "stdout",
     "output_type": "stream",
     "text": [
      "\n",
      "\n",
      "== Dark passage ==\n",
      "You are in a dark, narrow passage.\n",
      "\n",
      "There are 2 exits:\n",
      "- east\n",
      "- west\n",
      "\n",
      "What do you do?\n"
     ]
    },
    {
     "name": "stderr",
     "output_type": "stream",
     "text": [
      ">>> west\n"
     ]
    },
    {
     "name": "stdout",
     "output_type": "stream",
     "text": [
      "\n",
      "\n",
      "== Dark passage ==\n",
      "You are in a dark, narrow passage.\n",
      "\n",
      "There are 2 exits:\n",
      "- east\n",
      "- west\n",
      "\n",
      "What do you do?\n"
     ]
    },
    {
     "name": "stderr",
     "output_type": "stream",
     "text": [
      ">>> west\n"
     ]
    },
    {
     "name": "stdout",
     "output_type": "stream",
     "text": [
      "\n",
      "\n",
      "== Dark passage ==\n",
      "You are in a dark, narrow passage.  To the west, you spot some vegetation where the passage expands.\n",
      "\n",
      "There are 2 exits:\n",
      "- east\n",
      "- west\n",
      "\n",
      "What do you do?\n"
     ]
    },
    {
     "name": "stderr",
     "output_type": "stream",
     "text": [
      ">>> west\n"
     ]
    },
    {
     "name": "stdout",
     "output_type": "stream",
     "text": [
      "\n",
      "\n",
      "== Ruins ==\n",
      "You stand in a large cavern with a huge ruin to the north, overgrown by plant life.  There is a large stone archway to the north acting as the doorway to the ruined complex.  A crevice in the rock to the east leads to an alarmingly dark passageway.\n",
      "\n",
      "There are 2 exits:\n",
      "- east\n",
      "- north\n",
      "\n",
      "What do you do?\n"
     ]
    },
    {
     "name": "stderr",
     "output_type": "stream",
     "text": [
      ">>> north\n"
     ]
    },
    {
     "name": "stdout",
     "output_type": "stream",
     "text": [
      "\n",
      "\n",
      "== Ruins ==\n",
      "You are in the once-opulent foyer of a massive ruined complex.  There is a door to the south leading to the overgrowth outside and stairs to the north which lead into a larger hall.\n",
      "\n",
      "Things of interest here:\n",
      "- red coin\n",
      "\n",
      "There are 2 exits:\n",
      "- north\n",
      "- south\n",
      "\n",
      "What do you do?\n"
     ]
    },
    {
     "name": "stderr",
     "output_type": "stream",
     "text": [
      ">>> take red coin\n"
     ]
    },
    {
     "name": "stdout",
     "output_type": "stream",
     "text": [
      "\n",
      "\n",
      "Taken.\n",
      "\n",
      "What do you do?\n"
     ]
    },
    {
     "name": "stderr",
     "output_type": "stream",
     "text": [
      ">>> north\n"
     ]
    },
    {
     "name": "stdout",
     "output_type": "stream",
     "text": [
      "\n",
      "\n",
      "== Ruins ==\n",
      "You stand in the massive central hall of these ruins.  The walls are crumbling, and vegetation has clearly taken over.  Rooms are attached in all directions.  There is a strange monument in the center of the hall with circular slots and unusual symbols.  It reads:\n",
      "\n",
      "_ + _ * _^2 + _^3 - _ = 399\n",
      "\n",
      "There are 4 exits:\n",
      "- north\n",
      "- south\n",
      "- east\n",
      "- west\n",
      "\n",
      "What do you do?\n"
     ]
    },
    {
     "name": "stderr",
     "output_type": "stream",
     "text": [
      ">>> west\n"
     ]
    },
    {
     "name": "stdout",
     "output_type": "stream",
     "text": [
      "\n",
      "\n",
      "== Ruins ==\n",
      "You find yourself in what was once the living quarters for the complex.  Many smaller rooms which once had walls to divide them now lay in disarray.  There is a staircase up here.\n",
      "\n",
      "Things of interest here:\n",
      "- blue coin\n",
      "\n",
      "There are 2 exits:\n",
      "- up\n",
      "- east\n",
      "\n",
      "What do you do?\n"
     ]
    },
    {
     "name": "stderr",
     "output_type": "stream",
     "text": [
      ">>> take blue coin\n"
     ]
    },
    {
     "name": "stdout",
     "output_type": "stream",
     "text": [
      "\n",
      "\n",
      "Taken.\n",
      "\n",
      "What do you do?\n"
     ]
    },
    {
     "name": "stderr",
     "output_type": "stream",
     "text": [
      ">>> up\n"
     ]
    },
    {
     "name": "stdout",
     "output_type": "stream",
     "text": [
      "\n",
      "\n",
      "== Ruins ==\n",
      "This was long ago a lavish throne room.  Dried-up fountains and crumbling statues line the walls, and the carved stone throne in the center of the room is falling apart.\n",
      "\n",
      "Things of interest here:\n",
      "- shiny coin\n",
      "\n",
      "There is 1 exit:\n",
      "- down\n",
      "\n",
      "What do you do?\n"
     ]
    },
    {
     "name": "stderr",
     "output_type": "stream",
     "text": [
      ">>> take shiny coin\n"
     ]
    },
    {
     "name": "stdout",
     "output_type": "stream",
     "text": [
      "\n",
      "\n",
      "Taken.\n",
      "\n",
      "What do you do?\n"
     ]
    },
    {
     "name": "stderr",
     "output_type": "stream",
     "text": [
      ">>> down\n"
     ]
    },
    {
     "name": "stdout",
     "output_type": "stream",
     "text": [
      "\n",
      "\n",
      "== Ruins ==\n",
      "You find yourself in what was once the living quarters for the complex.  Many smaller rooms which once had walls to divide them now lay in disarray.  There is a staircase up here.\n",
      "\n",
      "There are 2 exits:\n",
      "- up\n",
      "- east\n",
      "\n",
      "What do you do?\n"
     ]
    },
    {
     "name": "stderr",
     "output_type": "stream",
     "text": [
      ">>> east\n"
     ]
    },
    {
     "name": "stdout",
     "output_type": "stream",
     "text": [
      "\n",
      "\n",
      "== Ruins ==\n",
      "You stand in the massive central hall of these ruins.  The walls are crumbling, and vegetation has clearly taken over.  Rooms are attached in all directions.  There is a strange monument in the center of the hall with circular slots and unusual symbols.  It reads:\n",
      "\n",
      "_ + _ * _^2 + _^3 - _ = 399\n",
      "\n",
      "There are 4 exits:\n",
      "- north\n",
      "- south\n",
      "- east\n",
      "- west\n",
      "\n",
      "What do you do?\n"
     ]
    },
    {
     "name": "stderr",
     "output_type": "stream",
     "text": [
      ">>> east\n"
     ]
    },
    {
     "name": "stdout",
     "output_type": "stream",
     "text": [
      "\n",
      "\n",
      "== Ruins ==\n",
      "You stand in what seems to have once been a dining hall; broken tables and pottery are scattered everywhere.  A staircase here leads down.\n",
      "\n",
      "Things of interest here:\n",
      "- concave coin\n",
      "\n",
      "There are 2 exits:\n",
      "- down\n",
      "- west\n",
      "\n",
      "What do you do?\n"
     ]
    },
    {
     "name": "stderr",
     "output_type": "stream",
     "text": [
      ">>> take concave coin\n"
     ]
    },
    {
     "name": "stdout",
     "output_type": "stream",
     "text": [
      "\n",
      "\n",
      "Taken.\n",
      "\n",
      "What do you do?\n"
     ]
    },
    {
     "name": "stderr",
     "output_type": "stream",
     "text": [
      ">>> down\n"
     ]
    },
    {
     "name": "stdout",
     "output_type": "stream",
     "text": [
      "\n",
      "\n",
      "== Ruins ==\n",
      "This seems to be a kitchen; there are brick stoves and shelves along the wall.  Everything here has fallen into disrepair.\n",
      "\n",
      "Things of interest here:\n",
      "- corroded coin\n",
      "\n",
      "There is 1 exit:\n",
      "- up\n",
      "\n",
      "What do you do?\n"
     ]
    },
    {
     "name": "stderr",
     "output_type": "stream",
     "text": [
      ">>> take corroded coin\n"
     ]
    },
    {
     "name": "stdout",
     "output_type": "stream",
     "text": [
      "\n",
      "\n",
      "Taken.\n",
      "\n",
      "What do you do?\n"
     ]
    },
    {
     "name": "stderr",
     "output_type": "stream",
     "text": [
      ">>> up\n"
     ]
    },
    {
     "name": "stdout",
     "output_type": "stream",
     "text": [
      "\n",
      "\n",
      "== Ruins ==\n",
      "You stand in what seems to have once been a dining hall; broken tables and pottery are scattered everywhere.  A staircase here leads down.\n",
      "\n",
      "There are 2 exits:\n",
      "- down\n",
      "- west\n",
      "\n",
      "What do you do?\n"
     ]
    },
    {
     "name": "stderr",
     "output_type": "stream",
     "text": [
      ">>> west\n"
     ]
    },
    {
     "name": "stdout",
     "output_type": "stream",
     "text": [
      "\n",
      "\n",
      "== Ruins ==\n",
      "You stand in the massive central hall of these ruins.  The walls are crumbling, and vegetation has clearly taken over.  Rooms are attached in all directions.  There is a strange monument in the center of the hall with circular slots and unusual symbols.  It reads:\n",
      "\n",
      "_ + _ * _^2 + _^3 - _ = 399\n",
      "\n",
      "There are 4 exits:\n",
      "- north\n",
      "- south\n",
      "- east\n",
      "- west\n",
      "\n",
      "What do you do?\n"
     ]
    },
    {
     "name": "stderr",
     "output_type": "stream",
     "text": [
      ">>> use blue coin\n"
     ]
    },
    {
     "name": "stdout",
     "output_type": "stream",
     "text": [
      "\n",
      "\n",
      "You place the blue coin into the leftmost open slot.\n",
      "\n",
      "What do you do?\n"
     ]
    },
    {
     "name": "stderr",
     "output_type": "stream",
     "text": [
      ">>> use red coin\n"
     ]
    },
    {
     "name": "stdout",
     "output_type": "stream",
     "text": [
      "\n",
      "\n",
      "You place the red coin into the leftmost open slot.\n",
      "\n",
      "What do you do?\n"
     ]
    },
    {
     "name": "stderr",
     "output_type": "stream",
     "text": [
      ">>> use shiny coin\n"
     ]
    },
    {
     "name": "stdout",
     "output_type": "stream",
     "text": [
      "\n",
      "\n",
      "You place the shiny coin into the leftmost open slot.\n",
      "\n",
      "What do you do?\n"
     ]
    },
    {
     "name": "stderr",
     "output_type": "stream",
     "text": [
      ">>> use concave coin\n"
     ]
    },
    {
     "name": "stdout",
     "output_type": "stream",
     "text": [
      "\n",
      "\n",
      "You place the concave coin into the leftmost open slot.\n",
      "\n",
      "What do you do?\n"
     ]
    },
    {
     "name": "stderr",
     "output_type": "stream",
     "text": [
      ">>> use corroded coin\n"
     ]
    },
    {
     "name": "stdout",
     "output_type": "stream",
     "text": [
      "\n",
      "\n",
      "You place the corroded coin into the leftmost open slot.\n",
      "As you place the last coin, you hear a click from the north door.\n",
      "\n",
      "What do you do?\n"
     ]
    },
    {
     "name": "stderr",
     "output_type": "stream",
     "text": [
      ">>> north\n"
     ]
    },
    {
     "name": "stdout",
     "output_type": "stream",
     "text": [
      "\n",
      "\n",
      "== Ruins ==\n",
      "Because it has been so well-protected, this room hardly shows signs of decay.  The walls are covered in elaborate murals and decorated with precious metals and stones.\n",
      "\n",
      "Things of interest here:\n",
      "- teleporter\n",
      "\n",
      "There is 1 exit:\n",
      "- south\n",
      "\n",
      "What do you do?\n"
     ]
    },
    {
     "name": "stderr",
     "output_type": "stream",
     "text": [
      ">>> take teleporter\n"
     ]
    },
    {
     "name": "stdout",
     "output_type": "stream",
     "text": [
      "\n",
      "\n",
      "Taken.\n",
      "\n",
      "What do you do?\n"
     ]
    },
    {
     "name": "stderr",
     "output_type": "stream",
     "text": [
      ">>> use teleporter\n"
     ]
    },
    {
     "name": "stdout",
     "output_type": "stream",
     "text": [
      "\n",
      "\n",
      "You activate the teleporter!  As you spiral through time and space, you think you see a pattern in the stars...\n",
      "\n",
      "    poCIXNvCICFD\n",
      "\n",
      "After a few moments, you find yourself back on solid ground and a little disoriented.\n",
      "\n",
      "== Synacor Headquarters ==\n",
      "You stand in the lobby of what appears to be a really fun place to work!  Sadly, there doesn't seem to be anyone around at the moment, so you make a note to call them later.  The bookshelf here looks like it might have something interesting in it, though.\n",
      "\n",
      "Things of interest here:\n",
      "- business card\n",
      "- strange book\n",
      "\n",
      "There is 1 exit:\n",
      "- outside\n",
      "\n",
      "What do you do?\n"
     ]
    },
    {
     "name": "stderr",
     "output_type": "stream",
     "text": [
      ">>> take strange book\n"
     ]
    },
    {
     "name": "stdout",
     "output_type": "stream",
     "text": [
      "\n",
      "\n",
      "Taken.\n",
      "\n",
      "What do you do?\n"
     ]
    },
    {
     "name": "stderr",
     "output_type": "stream",
     "text": [
      ">>> look strange book\n"
     ]
    },
    {
     "name": "stdout",
     "output_type": "stream",
     "text": [
      "\n",
      "\n",
      "The cover of this book subtly swirls with colors.  It is titled \"A Brief Introduction to Interdimensional Physics\".  It reads:\n",
      "\n",
      "Recent advances in interdimensional physics have produced fascinating\n",
      "predictions about the fundamentals of our universe!  For example,\n",
      "interdimensional physics seems to predict that the universe is, at its root, a\n",
      "purely mathematical construct, and that all events are caused by the\n",
      "interactions between eight pockets of energy called \"registers\".\n",
      "Furthermore, it seems that while the lower registers primarily control mundane\n",
      "things like sound and light, the highest register (the so-called \"eighth\n",
      "register\") is used to control interdimensional events such as teleportation.\n",
      "\n",
      "A hypothetical such teleportation device would need to have have exactly two\n",
      "destinations.  One destination would be used when the eighth register is at its\n",
      "minimum energy level - this would be the default operation assuming the user\n",
      "has no way to control the eighth register.  In this situation, the teleporter\n",
      "should send the user to a preconfigured safe location as a default.\n",
      "\n",
      "The second destination, however, is predicted to require a very specific\n",
      "energy level in the eighth register.  The teleporter must take great care to\n",
      "confirm that this energy level is exactly correct before teleporting its user!\n",
      "If it is even slightly off, the user would (probably) arrive at the correct\n",
      "location, but would briefly experience anomalies in the fabric of reality\n",
      "itself - this is, of course, not recommended.  Any teleporter would need to test\n",
      "the energy level in the eighth register and abort teleportation if it is not\n",
      "exactly correct.\n",
      "\n",
      "This required precision implies that the confirmation mechanism would be very\n",
      "computationally expensive.  While this would likely not be an issue for large-\n",
      "scale teleporters, a hypothetical hand-held teleporter would take billions of\n",
      "years to compute the result and confirm that the eighth register is correct.\n",
      "\n",
      "If you find yourself trapped in an alternate dimension with nothing but a\n",
      "hand-held teleporter, you will need to extract the confirmation algorithm,\n",
      "reimplement it on more powerful hardware, and optimize it.  This should, at the\n",
      "very least, allow you to determine the value of the eighth register which would\n",
      "have been accepted by the teleporter's confirmation mechanism.\n",
      "\n",
      "Then, set the eighth register to this value, activate the teleporter, and\n",
      "bypass the confirmation mechanism.  If the eighth register is set correctly, no\n",
      "anomalies should be experienced, but beware - if it is set incorrectly, the\n",
      "now-bypassed confirmation mechanism will not protect you!\n",
      "\n",
      "Of course, since teleportation is impossible, this is all totally ridiculous.\n",
      "\n",
      "What do you do?\n"
     ]
    },
    {
     "ename": "RuntimeError",
     "evalue": "Hit EOF!",
     "output_type": "error",
     "traceback": [
      "\u001b[0;31m---------------------------------------------------------------------------\u001b[0m",
      "\u001b[0;31mRuntimeError\u001b[0m                              Traceback (most recent call last)",
      "\u001b[0;32m<ipython-input-120-a31cb4a49004>\u001b[0m in \u001b[0;36m<module>\u001b[0;34m()\u001b[0m\n\u001b[1;32m      2\u001b[0m \u001b[0mc\u001b[0m\u001b[0;34m.\u001b[0m\u001b[0mload\u001b[0m\u001b[0;34m(\u001b[0m\u001b[0;34m'challenge.bin'\u001b[0m\u001b[0;34m)\u001b[0m\u001b[0;34m\u001b[0m\u001b[0m\n\u001b[1;32m      3\u001b[0m \u001b[0;32mwith\u001b[0m \u001b[0mopen\u001b[0m\u001b[0;34m(\u001b[0m\u001b[0;34m'input.txt'\u001b[0m\u001b[0;34m)\u001b[0m \u001b[0;32mas\u001b[0m \u001b[0minp_file\u001b[0m\u001b[0;34m:\u001b[0m\u001b[0;34m\u001b[0m\u001b[0m\n\u001b[0;32m----> 4\u001b[0;31m     \u001b[0mc\u001b[0m\u001b[0;34m.\u001b[0m\u001b[0mrun\u001b[0m\u001b[0;34m(\u001b[0m\u001b[0mistream\u001b[0m\u001b[0;34m=\u001b[0m\u001b[0minp_file\u001b[0m\u001b[0;34m)\u001b[0m\u001b[0;34m\u001b[0m\u001b[0m\n\u001b[0m",
      "\u001b[0;32m~/dev/synacor-challenge/computer.py\u001b[0m in \u001b[0;36mrun\u001b[0;34m(self, num_steps, istream, ostream)\u001b[0m\n\u001b[1;32m    194\u001b[0m             \u001b[0mself\u001b[0m\u001b[0;34m.\u001b[0m\u001b[0mostream\u001b[0m \u001b[0;34m=\u001b[0m \u001b[0mostream\u001b[0m\u001b[0;34m\u001b[0m\u001b[0m\n\u001b[1;32m    195\u001b[0m         \u001b[0;32mfor\u001b[0m \u001b[0m_\u001b[0m \u001b[0;32min\u001b[0m \u001b[0;34m(\u001b[0m\u001b[0mitertools\u001b[0m\u001b[0;34m.\u001b[0m\u001b[0mcount\u001b[0m\u001b[0;34m(\u001b[0m\u001b[0;34m)\u001b[0m \u001b[0;32mif\u001b[0m \u001b[0mnum_steps\u001b[0m \u001b[0;32mis\u001b[0m \u001b[0;32mNone\u001b[0m \u001b[0;32melse\u001b[0m \u001b[0mrange\u001b[0m\u001b[0;34m(\u001b[0m\u001b[0mnum_steps\u001b[0m\u001b[0;34m)\u001b[0m\u001b[0;34m)\u001b[0m\u001b[0;34m:\u001b[0m\u001b[0;34m\u001b[0m\u001b[0m\n\u001b[0;32m--> 196\u001b[0;31m             \u001b[0mself\u001b[0m\u001b[0;34m.\u001b[0m\u001b[0mstep\u001b[0m\u001b[0;34m(\u001b[0m\u001b[0;34m)\u001b[0m\u001b[0;34m\u001b[0m\u001b[0m\n\u001b[0m",
      "\u001b[0;32m~/dev/synacor-challenge/computer.py\u001b[0m in \u001b[0;36mstep\u001b[0;34m(self)\u001b[0m\n\u001b[1;32m    184\u001b[0m         \u001b[0mself\u001b[0m\u001b[0;34m.\u001b[0m\u001b[0meip\u001b[0m \u001b[0;34m+=\u001b[0m \u001b[0mop\u001b[0m\u001b[0;34m.\u001b[0m\u001b[0mnargs\u001b[0m\u001b[0;34m\u001b[0m\u001b[0m\n\u001b[1;32m    185\u001b[0m \u001b[0;34m\u001b[0m\u001b[0m\n\u001b[0;32m--> 186\u001b[0;31m         \u001b[0mneip\u001b[0m \u001b[0;34m=\u001b[0m \u001b[0mop\u001b[0m\u001b[0;34m(\u001b[0m\u001b[0;34m*\u001b[0m\u001b[0margs\u001b[0m\u001b[0;34m)\u001b[0m\u001b[0;34m\u001b[0m\u001b[0m\n\u001b[0m\u001b[1;32m    187\u001b[0m         \u001b[0;32mif\u001b[0m \u001b[0mneip\u001b[0m \u001b[0;32mis\u001b[0m \u001b[0;32mnot\u001b[0m \u001b[0;32mNone\u001b[0m\u001b[0;34m:\u001b[0m\u001b[0;34m\u001b[0m\u001b[0m\n\u001b[1;32m    188\u001b[0m             \u001b[0mself\u001b[0m\u001b[0;34m.\u001b[0m\u001b[0meip\u001b[0m \u001b[0;34m=\u001b[0m \u001b[0mneip\u001b[0m\u001b[0;34m\u001b[0m\u001b[0m\n",
      "\u001b[0;32m~/dev/synacor-challenge/computer.py\u001b[0m in \u001b[0;36m__call__\u001b[0;34m(self, instance, *args, **kwargs)\u001b[0m\n\u001b[1;32m    141\u001b[0m             \u001b[0mself\u001b[0m\u001b[0;34m.\u001b[0m\u001b[0mfn\u001b[0m \u001b[0;34m=\u001b[0m \u001b[0mfn\u001b[0m\u001b[0;34m\u001b[0m\u001b[0m\n\u001b[1;32m    142\u001b[0m         \u001b[0;32mdef\u001b[0m \u001b[0m__call__\u001b[0m\u001b[0;34m(\u001b[0m\u001b[0mself\u001b[0m\u001b[0;34m,\u001b[0m \u001b[0minstance\u001b[0m\u001b[0;34m,\u001b[0m \u001b[0;34m*\u001b[0m\u001b[0margs\u001b[0m\u001b[0;34m,\u001b[0m \u001b[0;34m**\u001b[0m\u001b[0mkwargs\u001b[0m\u001b[0;34m)\u001b[0m\u001b[0;34m:\u001b[0m\u001b[0;34m\u001b[0m\u001b[0m\n\u001b[0;32m--> 143\u001b[0;31m             \u001b[0;32mreturn\u001b[0m \u001b[0mself\u001b[0m\u001b[0;34m.\u001b[0m\u001b[0mfn\u001b[0m\u001b[0;34m(\u001b[0m\u001b[0minstance\u001b[0m\u001b[0;34m,\u001b[0m \u001b[0;34m*\u001b[0m\u001b[0margs\u001b[0m\u001b[0;34m,\u001b[0m \u001b[0;34m**\u001b[0m\u001b[0mkwargs\u001b[0m\u001b[0;34m)\u001b[0m\u001b[0;34m\u001b[0m\u001b[0m\n\u001b[0m\u001b[1;32m    144\u001b[0m         \u001b[0;32mdef\u001b[0m \u001b[0m__get__\u001b[0m\u001b[0;34m(\u001b[0m\u001b[0mself\u001b[0m\u001b[0;34m,\u001b[0m \u001b[0minstance\u001b[0m\u001b[0;34m,\u001b[0m \u001b[0mowner\u001b[0m\u001b[0;34m)\u001b[0m\u001b[0;34m:\u001b[0m\u001b[0;34m\u001b[0m\u001b[0m\n\u001b[1;32m    145\u001b[0m             \u001b[0;32mreturn\u001b[0m \u001b[0mMethodType\u001b[0m\u001b[0;34m(\u001b[0m\u001b[0mself\u001b[0m\u001b[0;34m,\u001b[0m \u001b[0minstance\u001b[0m\u001b[0;34m)\u001b[0m \u001b[0;32mif\u001b[0m \u001b[0minstance\u001b[0m \u001b[0;32melse\u001b[0m \u001b[0mself\u001b[0m\u001b[0;34m\u001b[0m\u001b[0m\n",
      "\u001b[0;32m~/dev/synacor-challenge/computer.py\u001b[0m in \u001b[0;36mop_in\u001b[0;34m(self, a)\u001b[0m\n\u001b[1;32m    125\u001b[0m                 \u001b[0mself\u001b[0m\u001b[0;34m.\u001b[0m\u001b[0mcur_line\u001b[0m \u001b[0;34m=\u001b[0m \u001b[0mself\u001b[0m\u001b[0;34m.\u001b[0m\u001b[0mistream\u001b[0m\u001b[0;34m.\u001b[0m\u001b[0mreadline\u001b[0m\u001b[0;34m(\u001b[0m\u001b[0;34m)\u001b[0m\u001b[0;34m\u001b[0m\u001b[0m\n\u001b[1;32m    126\u001b[0m             \u001b[0;32mif\u001b[0m \u001b[0;32mnot\u001b[0m \u001b[0mself\u001b[0m\u001b[0;34m.\u001b[0m\u001b[0mcur_line\u001b[0m\u001b[0;34m:\u001b[0m\u001b[0;34m\u001b[0m\u001b[0m\n\u001b[0;32m--> 127\u001b[0;31m                 \u001b[0;32mraise\u001b[0m \u001b[0mRuntimeError\u001b[0m\u001b[0;34m(\u001b[0m\u001b[0;34m'Hit EOF!'\u001b[0m\u001b[0;34m)\u001b[0m\u001b[0;34m\u001b[0m\u001b[0m\n\u001b[0m\u001b[1;32m    128\u001b[0m             \u001b[0msys\u001b[0m\u001b[0;34m.\u001b[0m\u001b[0mstderr\u001b[0m\u001b[0;34m.\u001b[0m\u001b[0mwrite\u001b[0m\u001b[0;34m(\u001b[0m\u001b[0;34m'>>> '\u001b[0m\u001b[0;34m+\u001b[0m\u001b[0mself\u001b[0m\u001b[0;34m.\u001b[0m\u001b[0mcur_line\u001b[0m\u001b[0;34m)\u001b[0m\u001b[0;34m\u001b[0m\u001b[0m\n\u001b[1;32m    129\u001b[0m             \u001b[0msys\u001b[0m\u001b[0;34m.\u001b[0m\u001b[0mstderr\u001b[0m\u001b[0;34m.\u001b[0m\u001b[0mflush\u001b[0m\u001b[0;34m(\u001b[0m\u001b[0;34m)\u001b[0m\u001b[0;34m\u001b[0m\u001b[0m\n",
      "\u001b[0;31mRuntimeError\u001b[0m: Hit EOF!"
     ]
    }
   ],
   "source": [
    "c = computer.Computer()\n",
    "c.load('challenge.bin')\n",
    "with open('input.txt') as inp_file:\n",
    "    c.run(istream=inp_file)"
   ]
  }
 ],
 "metadata": {
  "kernelspec": {
   "display_name": "Python 3",
   "language": "python",
   "name": "python3"
  },
  "language_info": {
   "codemirror_mode": {
    "name": "ipython",
    "version": 3
   },
   "file_extension": ".py",
   "mimetype": "text/x-python",
   "name": "python",
   "nbconvert_exporter": "python",
   "pygments_lexer": "ipython3",
   "version": "3.6.3"
  }
 },
 "nbformat": 4,
 "nbformat_minor": 2
}
