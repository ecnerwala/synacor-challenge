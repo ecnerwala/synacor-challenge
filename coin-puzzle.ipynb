{
 "cells": [
  {
   "cell_type": "code",
   "execution_count": 1,
   "metadata": {
    "collapsed": true
   },
   "outputs": [],
   "source": [
    "coins = {\n",
    "    'red coin': 2,\n",
    "    'corroded coin': 3,\n",
    "    'shiny coin': 5,\n",
    "    'concave coin': 7,\n",
    "    'blue coin': 9,\n",
    "}"
   ]
  },
  {
   "cell_type": "code",
   "execution_count": 3,
   "metadata": {},
   "outputs": [
    {
     "name": "stdout",
     "output_type": "stream",
     "text": [
      "['blue coin', 'red coin', 'shiny coin', 'concave coin', 'corroded coin']\n"
     ]
    }
   ],
   "source": [
    "import itertools\n",
    "for a,b,c,d,e in itertools.permutations(coins):\n",
    "    if coins[a] + coins[b] * coins[c] ** 2 + coins[d] ** 3 - coins[e] == 399:\n",
    "        print([a,b,c,d,e])"
   ]
  }
 ],
 "metadata": {
  "kernelspec": {
   "display_name": "Python 3",
   "language": "python",
   "name": "python3"
  },
  "language_info": {
   "codemirror_mode": {
    "name": "ipython",
    "version": 3
   },
   "file_extension": ".py",
   "mimetype": "text/x-python",
   "name": "python",
   "nbconvert_exporter": "python",
   "pygments_lexer": "ipython3",
   "version": "3.6.3"
  }
 },
 "nbformat": 4,
 "nbformat_minor": 2
}
